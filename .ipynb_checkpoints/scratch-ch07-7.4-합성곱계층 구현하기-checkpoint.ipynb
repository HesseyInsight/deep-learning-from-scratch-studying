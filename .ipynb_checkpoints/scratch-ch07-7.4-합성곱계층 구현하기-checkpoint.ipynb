{
 "cells": [
  {
   "cell_type": "markdown",
   "metadata": {},
   "source": [
    "# Deep-Learning-from-Scratch\n",
    "## 7.4 합성곱/풀링 계층 구현하기"
   ]
  },
  {
   "cell_type": "markdown",
   "metadata": {},
   "source": [
    "이번 절에서도 앞선 '5장 오차역전파법'에서와 같이 클래스를 구현하며 forward()와 backward()메서드를 추가하여 모듈로 이용할 수 있도록 한다.<br/>\n",
    "한마디로 클래스 구현 및 forward(), backward() 구현!"
   ]
  },
  {
   "cell_type": "markdown",
   "metadata": {},
   "source": [
    "* 목차\n",
    "    * 7.4.1 4차원 배열\n",
    "    * 7.4.2 im2col로 데이터 전개하기\n",
    "    * 7.4.3 합성곱 계층 구현하기\n",
    "    * 7.4.4 풀링 계층 구현하기"
   ]
  },
  {
   "cell_type": "markdown",
   "metadata": {},
   "source": [
    "### 7.4.1 4차원 배열"
   ]
  },
  {
   "cell_type": "markdown",
   "metadata": {},
   "source": [
    "앞서 설명한 대로 CNN에서 계층 사이를 흐르는 데이터는 4차원이다.<br/>"
   ]
  },
  {
   "cell_type": "code",
   "execution_count": 1,
   "metadata": {},
   "outputs": [
    {
     "data": {
      "text/plain": [
       "(10, 1, 28, 28)"
      ]
     },
     "execution_count": 1,
     "metadata": {},
     "output_type": "execute_result"
    }
   ],
   "source": [
    "# example\n",
    "\n",
    "import numpy as np\n",
    "\n",
    "x = np.random.rand(10, 1, 28, 28)  # 4차원 배열의 원소들이 의미하는 바는 무엇일까?\n",
    "x.shape"
   ]
  },
  {
   "cell_type": "markdown",
   "metadata": {},
   "source": [
    "10개의 데이터가 1개의 채널로 들어오는데 이때 높이와 너비는 각각 28이다! 그러면 10개의 데이터 중 첫 번째 데이터에 접근하려면 어떻게 해야할까?"
   ]
  },
  {
   "cell_type": "code",
   "execution_count": 3,
   "metadata": {},
   "outputs": [
    {
     "name": "stdout",
     "output_type": "stream",
     "text": [
      "(1, 28, 28)\n"
     ]
    }
   ],
   "source": [
    "# No.1 첫번째 데이터에 접근하려면 어떻게 해야할까?\n",
    "\n",
    "print(x[0].shape)"
   ]
  },
  {
   "cell_type": "code",
   "execution_count": 5,
   "metadata": {},
   "outputs": [
    {
     "name": "stdout",
     "output_type": "stream",
     "text": [
      "(1, 28, 28)\n"
     ]
    }
   ],
   "source": [
    "print(x[1].shape)"
   ]
  },
  {
   "cell_type": "markdown",
   "metadata": {},
   "source": [
    "위와 같은 데이터가 10개 있다..."
   ]
  },
  {
   "cell_type": "code",
   "execution_count": 6,
   "metadata": {},
   "outputs": [
    {
     "name": "stdout",
     "output_type": "stream",
     "text": [
      "(1, 28, 28)\n",
      "(1, 28, 28)\n",
      "...\n"
     ]
    }
   ],
   "source": [
    "# 두번째 데이터에 접근하려면? 아니 세번째 네번쨰는?\n",
    "\n",
    "# 마찬가지로 첫번 째 원소의 인덱스를 사용해서 접근할 수 있다.\n",
    "\n",
    "print(x[1].shape)\n",
    "print(x[2].shape)\n",
    "print('...')"
   ]
  },
  {
   "cell_type": "markdown",
   "metadata": {},
   "source": [
    "그렇다면 이번에는 첫 번째 데이터의 첫 채널의 공간 데이터에 접근하고 싶다!"
   ]
  },
  {
   "cell_type": "code",
   "execution_count": 13,
   "metadata": {},
   "outputs": [
    {
     "data": {
      "text/plain": [
       "(28, 28)"
      ]
     },
     "execution_count": 13,
     "metadata": {},
     "output_type": "execute_result"
    }
   ],
   "source": [
    "x[0, 0].shape  # 또는 x[0][0]"
   ]
  },
  {
   "cell_type": "code",
   "execution_count": 14,
   "metadata": {},
   "outputs": [
    {
     "data": {
      "text/plain": [
       "(28, 28)"
      ]
     },
     "execution_count": 14,
     "metadata": {},
     "output_type": "execute_result"
    }
   ],
   "source": [
    "x[0][0].shape"
   ]
  },
  {
   "cell_type": "markdown",
   "metadata": {},
   "source": [
    "im2col라는 트릭을 통해 합성곱 연산을 구해보자"
   ]
  },
  {
   "cell_type": "markdown",
   "metadata": {},
   "source": [
    "### 7.4.2 im2col로 데이터 전개하기"
   ]
  },
  {
   "cell_type": "markdown",
   "metadata": {},
   "source": [
    "합성곱 연산을 구현하기 위해서는 for문을 겹겹이 쌓아야 할 것 같지만, 넘파이에서 for문을 사용하면 성능이 떨어진다는 단점이 있다.<br/>\n",
    "이번 적에서는 for문 대신 im2col라는 편의 함수를 사용해 합성곱 연산을 간단하게 구현해보도록 하겠다."
   ]
  },
  {
   "cell_type": "markdown",
   "metadata": {},
   "source": [
    "im2col은 입력 데이터를 필터링(가중치 계산)하기 좋게 전개하는(펼치는)함수이다.<br/>\n",
    "im2col을 적용하면 3차원 입력데이터를 2차원 행렬로 변환할 수 있다.<br/>\n",
    "정확히는 배치 안의 데이터 수까지 포함한 4차원 데이터를 2차원으로 변환한다."
   ]
  },
  {
   "cell_type": "markdown",
   "metadata": {},
   "source": [
    "im2col은 필터링하기 좋게 입력 데이터를 전개한다.<br/>\n",
    "구체적으로 입력 데이터에서 필터를 적용하는 영역(3차원 블록)을 한 줄로 늘어놓는다."
   ]
  },
  {
   "cell_type": "markdown",
   "metadata": {},
   "source": [
    "* im2col(Image to Column)\n",
    "    * 입력데이터에서 필터를 적용하는 영역을 한 줄로 늘어놓는다.\n",
    "    * 필터가 여러겹 겹치게 되면 im2col로 전개한 후의 원소 수가 월래 블록 수보다 많아지게 된다\n",
    "    * 필터가 겹쳐 계산량이 많아지는 문제는 선형대수 라이브러리로 효율적으로(빠르게) 계산할 수 있다.\n",
    "    * im2col로 입력 데이터를 전개한 다음에는 합성곱 계층 필터(가중치)를 1열로 전개하고, 두 행렬의 곱을 계산하면 된다."
   ]
  },
  {
   "cell_type": "markdown",
   "metadata": {},
   "source": [
    "im2col  방식으로 출력한 결과는 2차원 행렬이다. CNN은 데이터를 4차원 배열로 저장하므로 2차원인 출력 데이터를 4차원으로 변형(reshape) 한다.<br/>\n",
    "이상 합성곱 계층 구현 흐름이다."
   ]
  },
  {
   "cell_type": "markdown",
   "metadata": {},
   "source": [
    "### 7.4.3 합성곱 계층 구현하기"
   ]
  },
  {
   "cell_type": "markdown",
   "metadata": {},
   "source": [
    "이 책에서는 im2col 함수를 미리 만들어 제공한다. 하지만 구현은 간단한 함수 10개정도를 묶은것이니...<br/>\n",
    "한번 직접 구해보자! --> ???!"
   ]
  },
  {
   "cell_type": "markdown",
   "metadata": {},
   "source": [
    "* im2col - 다수의 이미지를 입력받아 2차원 배열로 변환한다(평탄화)\n",
    "* 파라미터\n",
    "    * input_data:\n",
    "    * filter_h:\n",
    "    * filter_w,\n",
    "    * stride\n",
    "    * pad\n",
    "* im2col은 '필터 크기', '스트라이드', '패딩'을 고려하여 입력 데이터를 2차원 배열로 전개한다.   "
   ]
  },
  {
   "cell_type": "code",
   "execution_count": 15,
   "metadata": {},
   "outputs": [],
   "source": [
    "def im2col(input_data, filter_h, filter_w, stride=1, pad=0):\n",
    "    \"\"\"다수의 이미지를 입력받아 2차원 배열로 변환한다(평탄화).\n",
    "    \n",
    "    Parameters\n",
    "    ----------\n",
    "    input_data : 4차원 배열 형태의 입력 데이터(이미지 수, 채널 수, 높이, 너비)\n",
    "    filter_h : 필터의 높이\n",
    "    filter_w : 필터의 너비\n",
    "    stride : 스트라이드\n",
    "    pad : 패딩\n",
    "    \n",
    "    Returns\n",
    "    -------\n",
    "    col : 2차원 배열\n",
    "    \"\"\"\n",
    "    N, C, H, W = input_data.shape\n",
    "    out_h = (H + 2*pad - filter_h)//stride + 1\n",
    "    out_w = (W + 2*pad - filter_w)//stride + 1\n",
    "\n",
    "    img = np.pad(input_data, [(0,0), (0,0), (pad, pad), (pad, pad)], 'constant')\n",
    "    col = np.zeros((N, C, filter_h, filter_w, out_h, out_w))\n",
    "\n",
    "    for y in range(filter_h):\n",
    "        y_max = y + stride*out_h\n",
    "        for x in range(filter_w):\n",
    "            x_max = x + stride*out_w\n",
    "            col[:, :, y, x, :, :] = img[:, :, y:y_max:stride, x:x_max:stride]\n",
    "\n",
    "    col = col.transpose(0, 4, 5, 1, 2, 3).reshape(N*out_h*out_w, -1)\n",
    "    return col"
   ]
  },
  {
   "cell_type": "code",
   "execution_count": 17,
   "metadata": {},
   "outputs": [
    {
     "name": "stdout",
     "output_type": "stream",
     "text": [
      "(9, 75)\n",
      "(90, 75)\n"
     ]
    }
   ],
   "source": [
    "import sys, os\n",
    "# sys.path.append()\n",
    "# from common.util import im2col\n",
    "\n",
    "x1 = np.random.rand(1, 3, 7, 7)           # (데이터 수, 채널 수, 높이, 너비)\n",
    "col1 = im2col(x1, 5, 5, stride=1, pad=0)  # (입력 데이터, 필터의 높이, 필터의 너비, 스트라이드, 패딩)\n",
    "print(col1.shape)  # (9, 75) why?\n",
    "\n",
    "x2 = np.random.rand(10, 3, 7, 7)  # 데이터 1개\n",
    "col2 = im2col(x2, 5, 5, stride=1, pad=0)\n",
    "print(col2.shape)  # (90, 75)  why?\n"
   ]
  },
  {
   "cell_type": "markdown",
   "metadata": {},
   "source": [
    "* x1은 데이터의 개수가 1이다.(배치 크기가 1)\n",
    "    * 채널은 3개, 높이.너비가 7x7인 데이터이다\n",
    "* x2는 배치 크기가 10이고 나머지(채널, 높이, 너비)는 첫번째와 같다."
   ]
  },
  {
   "cell_type": "markdown",
   "metadata": {},
   "source": [
    "im2col을 사용하여 합성곱 계층을 구현해보자<br/>\n",
    "합성곱 계층을 Convolution라는 클래스로 구현한다."
   ]
  },
  {
   "cell_type": "code",
   "execution_count": 18,
   "metadata": {},
   "outputs": [],
   "source": [
    "class Convolution:\n",
    "    def __init__(self, W, b, stride=1, pad=0):\n",
    "        self.W = W\n",
    "        self.b = B\n",
    "        self.stride = stride\n",
    "        self.pad = pad\n",
    "        \n",
    "    def forward(self, x):\n",
    "        FN, C, FH, FW = self.W.shape\n",
    "        N, C, H, W = x.shape\n",
    "        out_h = int(1 + (H + 2*self.pad - FH) / self.stride)\n",
    "        out_w = int(1 + (W + 2*self.pad - FW) / self.stride)\n",
    "        \n",
    "        col = im2col(x, FH, FW, self.stride, self.pad)\n",
    "        col_W = self.W.reshape(FN, -1).T\n",
    "        out = np.dot(col, col_W) + self.b\n",
    "        \n",
    "        out = out.reshape(N, out_h, out_W, -1).transpose(0, 3, 1, 2)\n",
    "        \n",
    "        return out"
   ]
  },
  {
   "cell_type": "markdown",
   "metadata": {},
   "source": [
    "이상이 합성곱 계층의  forward 구현이다.<br/>\n",
    "im2col로 전개한 덕분에 완전연결 계층의 Affine계층과 거의 똑같이 구현할 수 있었다."
   ]
  },
  {
   "cell_type": "code",
   "execution_count": 19,
   "metadata": {},
   "outputs": [],
   "source": [
    "# 합성곱 계층의 역전파를 구현하기 위해서 common/layer.py의 함수를 이용하자 \n",
    "\n",
    "def col2im(col, input_shape, filter_h, filter_w, stride=1, pad=0):\n",
    "    \"\"\"(im2col과 반대) 2차원 배열을 입력받아 다수의 이미지 묶음으로 변환한다.\n",
    "    \n",
    "    Parameters\n",
    "    ----------\n",
    "    col : 2차원 배열(입력 데이터)\n",
    "    input_shape : 원래 이미지 데이터의 형상（예：(10, 1, 28, 28)）\n",
    "    filter_h : 필터의 높이\n",
    "    filter_w : 필터의 너비\n",
    "    stride : 스트라이드\n",
    "    pad : 패딩\n",
    "    \n",
    "    Returns\n",
    "    -------\n",
    "    img : 변환된 이미지들\n",
    "    \"\"\"\n",
    "    N, C, H, W = input_shape\n",
    "    out_h = (H + 2*pad - filter_h)//stride + 1\n",
    "    out_w = (W + 2*pad - filter_w)//stride + 1\n",
    "    col = col.reshape(N, out_h, out_w, C, filter_h, filter_w).transpose(0, 3, 4, 5, 1, 2)\n",
    "\n",
    "    img = np.zeros((N, C, H + 2*pad + stride - 1, W + 2*pad + stride - 1))\n",
    "    for y in range(filter_h):\n",
    "        y_max = y + stride*out_h\n",
    "        for x in range(filter_w):\n",
    "            x_max = x + stride*out_w\n",
    "            img[:, :, y:y_max:stride, x:x_max:stride] += col[:, :, y, x, :, :]\n",
    "\n",
    "    return img[:, :, pad:H + pad, pad:W + pad]"
   ]
  },
  {
   "cell_type": "markdown",
   "metadata": {},
   "source": [
    "im2col은... 여기서 잠깐 스톱하자... 뒤의 7.5 CNN 구현부터 하고 다시 돌아오자!"
   ]
  },
  {
   "cell_type": "code",
   "execution_count": null,
   "metadata": {},
   "outputs": [],
   "source": []
  }
 ],
 "metadata": {
  "kernelspec": {
   "display_name": "Python 3",
   "language": "python",
   "name": "python3"
  },
  "language_info": {
   "codemirror_mode": {
    "name": "ipython",
    "version": 3
   },
   "file_extension": ".py",
   "mimetype": "text/x-python",
   "name": "python",
   "nbconvert_exporter": "python",
   "pygments_lexer": "ipython3",
   "version": "3.7.6"
  }
 },
 "nbformat": 4,
 "nbformat_minor": 4
}
