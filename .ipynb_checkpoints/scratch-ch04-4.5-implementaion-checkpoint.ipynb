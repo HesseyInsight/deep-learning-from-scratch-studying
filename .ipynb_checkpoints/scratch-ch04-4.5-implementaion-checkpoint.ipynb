{
 "cells": [
  {
   "cell_type": "markdown",
   "metadata": {},
   "source": [
    "# Deep-Learning-from-Scratch-Ch04\n",
    "* form 4.5 학습 알고리즘 구현하기 ~"
   ]
  },
  {
   "cell_type": "markdown",
   "metadata": {},
   "source": [
    "* 신경망 학습에 관한 기본적인 지식은 이만하면 충분하다\n",
    "* 신경망의 학습 절차에 대한 Review를 해보자"
   ]
  },
  {
   "cell_type": "markdown",
   "metadata": {},
   "source": [
    "* 신경망의 학습 절차\n",
    "    * 전제\n",
    "        * 신경망에는 적응 가능한 가중치와 편향이 있고, 이 가중치와 편향을 훈련 데이터에 적응하도록 조정하는 과정을 '학습'이라 한다.\n",
    "        * 신경망의 학습은 다음과 같이 4단계로 수행된다.\n",
    "        * 즉, 신경망의 가중치와 편향(매개변수)를 어떻게 학습 시킬 것인가. 책에서 제시하는 방법은 4단계 과정으로 이루어진다.\n",
    "    * 1단계 - 미니배치\n",
    "        * 훈련 데이터 중 일부를 무작위로 가져온다. \n",
    "        * 이렇게 선별한 데이터를 미니배치라 하며, 미니배치의 손실 함수 값을 줄이는 것이 목표이다.\n",
    "    * 2단계 - 기울기 산출\n",
    "        * 미니배치의 손실 함수 값을 줄이기 위해 각 가중치 매개변수의 기울기를 구한다. \n",
    "        * 기울기는 손실 함수의 값을 가장 작게 하는 방향을 제시한다.\n",
    "    * 3단계 - 매개변수 갱신\n",
    "        * 가중치 매개변수를 기울기 방향으로 아주 조금 갱신한다.\n",
    "    * 4단계 - 반복\n",
    "        * 1~3 단계를 반복한다.\n",
    "        "
   ]
  },
  {
   "cell_type": "markdown",
   "metadata": {},
   "source": [
    "### 4.5.1 2층 신경망 클래스 구현하기"
   ]
  },
  {
   "cell_type": "markdown",
   "metadata": {},
   "source": [
    "* 우선 처음에는 2층 신경망을 하나의 클래스로 구현하는 것부터 시작한다.\n",
    "* 클래스의 이름은 TwoLayerNet이다."
   ]
  },
  {
   "cell_type": "code",
   "execution_count": 13,
   "metadata": {},
   "outputs": [],
   "source": [
    "# TwoLayerNet의 구현은 스탠퍼드 대학교의 CS231n 수업에서 제공한 파이썬 소스코드를 참고했다.\n",
    "\n",
    "import sys, os\n",
    "sys.path.append('C:\\\\Users\\\\stevelee\\\\Documents\\\\30-Days-Challenges\\\\deep_learning_scratch_master\\\\deep-learning-from-scratch-master')\n",
    "from common.functions import *\n",
    "from common.gradient import numerical_gradient\n",
    "\n",
    "class TwoLayerNet:\n",
    "    def __init__(self, input_size, hidden_size, output_size,\n",
    "                weight_init_std=0.01):  # 뭔가 파라미터가 많다. 이 파라미터가 무엇을 의미하는 지는 뒤에서 다시 한번 살펴보도록 하자!\n",
    "        # 가중치 초기화\n",
    "        self.params = {}\n",
    "        self.params['W1'] = weight_init_std * \\\n",
    "                            np.random.randn(input_size, hidden_size)\n",
    "        self.params['b1'] = np.zeros(hidden_size)\n",
    "        self.params['W2'] = weight_init_std * \\\n",
    "                            np.random.randn(hidden_size, output_size)\n",
    "        self.params['b2'] = np.zeros(output_size)\n",
    "        \n",
    "    def predict(self, x):\n",
    "        W1, W2 = self.params['W1'], self.params['W2']\n",
    "        b1, b2 = self.params['b1'], self.params['b2']\n",
    "        \n",
    "        a1 = np.dot(x, W1) + b1\n",
    "        z1 = sigmoid(a1)\n",
    "        a2 = np.dot(z1, w2) + b2\n",
    "        y = softmax(a2)\n",
    "        \n",
    "        return y\n",
    "    \n",
    "    # x : 입력 데이터, t : 정답 레이블\n",
    "    def loss(self, x, t):\n",
    "        y = self.predict(x)\n",
    "        \n",
    "        return cross_entropy_error(y, t)\n",
    "    \n",
    "    def accuracy(self, x, t):\n",
    "        y = self.predict(x)\n",
    "        y = np.argmax(y, axis=1)\n",
    "        t = np.argmax(t, axis=1)\n",
    "        \n",
    "        accuracy = np.sum(y == t) / float(x.shape[0])\n",
    "        return accuracy\n",
    "    \n",
    "    # x : 입력 데이터, t : 정답 레이블\n",
    "    def numerical_gradient(self, x, t):\n",
    "        loss_W = lambda W: self.loss(x, t)\n",
    "        \n",
    "        grads = {}\n",
    "        grads['W1'] = numerical_gradient(loss_W, self.params['W1'])\n",
    "        grads['b1'] = numerical_gradient(loss_W, self.params['b1'])\n",
    "        grads['W2'] = numerical_gradient(loss_W, self.params['W2'])\n",
    "        grads['b2'] = numerical_gradient(loss_W, self.params['b2'])\n",
    "    \n",
    "        return grads"
   ]
  },
  {
   "cell_type": "markdown",
   "metadata": {},
   "source": [
    "#### 파헤치기"
   ]
  },
  {
   "cell_type": "code",
   "execution_count": 18,
   "metadata": {},
   "outputs": [],
   "source": [
    "# TwoLayerNet이 사용하는 변수와 메서드를 살펴보자\n",
    "\n",
    "import sys, os\n",
    "sys.path.append('C:\\\\Users\\\\stevelee\\\\Documents\\\\30-Days-Challenges\\\\deep_learning_scratch_master\\\\deep-learning-from-scratch-master')  # libarary 경로 설정해주기\n",
    "                                                                                                                                        # 각자 환경에 맞게 세팅\n",
    "from common.functions import *\n",
    "from common.gradient import numerical_gradient\n",
    "\n",
    "\n",
    "# 2층 신경망을 하나의 클래스로 구현해보자\n",
    "class TwoLayerNet:\n",
    "    \n",
    "    # 초기화를 수행하는 클래스 메서드\n",
    "    def __init__(self, input_size, hidden_size, output_size,\n",
    "                weight_init_std=0.01):  # 뭔가 파라미터가 많다. 이 파라미터가 무엇을 의미하는 지는 뒤에서 다시 한번 살펴보도록 하자!\n",
    "        \n",
    "        # 가중치 초기화\n",
    "        self.params = {}  # 변수 params\n",
    "                          # 신경망의 매개변수를 보관하는 딕셔너리 변수(인스턴스 변수)\n",
    "        \n",
    "        self.params['W1'] = weight_init_std * \\\n",
    "                            np.random.randn(input_size, hidden_size)  \n",
    "                                                                      # 2번째 층의 가중치\n",
    "                                                                      # 1번째 층의 편향\n",
    "        self.params['b1'] = np.zeros(hidden_size)                     \n",
    "        self.params['W2'] = weight_init_std * \\\n",
    "                            np.random.randn(hidden_size, output_size) \n",
    "                                                                      # 2번째 층의 가중치\n",
    "        self.params['b2'] = np.zeros(output_size)                     # 2번째 층의 편향\n",
    "    \n",
    "    # 예측(추론)을 수행하는 클래스 메서드\n",
    "    # 인수 x는 이미지 데이터\n",
    "    def predict(self, x):\n",
    "        W1, W2 = self.params['W1'], self.params['W2']\n",
    "        b1, b2 = self.params['b1'], self.params['b2']\n",
    "        \n",
    "        a1 = np.dot(x, W1) + b1\n",
    "        z1 = sigmoid(a1)\n",
    "        a2 = np.dot(z1, W2) + b2\n",
    "        y = softmax(a2)\n",
    "        \n",
    "        return y\n",
    "    \n",
    "    # loss(self, x, t) 손실 함수의 값을 구한다.\n",
    "    # 인수 x는 이미지 데이터, t는 정답 레이블(아래 칸의 세 메서드의 인수들도 마찬가지이다)\n",
    "    # x : 입력 데이터, t : 정답 레이블\n",
    "    def loss(self, x, t):\n",
    "        y = self.predict(x)  # 예측(추론)한 값이 나올테고\n",
    "        \n",
    "        return cross_entropy_error(y, t)  # 예측값과 정답 레이블과의 차이를 통해 loss를 구한다\n",
    "    \n",
    "    # accuracy(self, x, t): 정학도를 구한다.\n",
    "    def accuracy(self, x, t):\n",
    "        y = self.predict(x)\n",
    "        y = np.argmax(y, axis=1)\n",
    "        t = np.argmax(t, axis=1)\n",
    "        \n",
    "        accuracy = np.sum(y == t) / float(x.shape[0])\n",
    "        return accuracy\n",
    "    \n",
    "    # numerical_gradient(self, x, t): 가중치 매개변수의 기울기를 구한다.\n",
    "    # x : 입력 데이터, t : 정답 레이블\n",
    "    def numerical_gradient(self, x, t):\n",
    "        loss_W = lambda W: self.loss(x, t)  # ** lambda의 사용법을 익혀놀 필요가 있지 않을까\n",
    "        \n",
    "        # grads는 기울기(gradient)를 보관하는 딕셔너리 변수(numerical_gradient()메서드의 반환값)\n",
    "        grads = {}  \n",
    "        grads['W1'] = numerical_gradient(loss_W, self.params['W1'])  # 1번 째 층의 가중치의 기울기  \n",
    "        grads['b1'] = numerical_gradient(loss_W, self.params['b1'])  # 1번 째 층의 편향의 기울기\n",
    "        grads['W2'] = numerical_gradient(loss_W, self.params['W2'])  # 2번 째 층의 가중치의 기울기 \n",
    "        grads['b2'] = numerical_gradient(loss_W, self.params['b2'])  # 2번 째 층의 편향의 기울기 \n",
    "    \n",
    "        return grads"
   ]
  },
  {
   "cell_type": "code",
   "execution_count": 19,
   "metadata": {},
   "outputs": [
    {
     "name": "stdout",
     "output_type": "stream",
     "text": [
      "(784, 100)\n",
      "(100,)\n",
      "(100, 10)\n",
      "(10,)\n"
     ]
    }
   ],
   "source": [
    "# 예를 통해 더 알아보자\n",
    "\n",
    "net = TwoLayerNet(input_size=784, hidden_size=100, output_size=10)\n",
    "print(net.params['W1'].shape)  # (784, 100)\n",
    "print(net.params['b1'].shape)  # (100, )\n",
    "print(net.params['W2'].shape)  # (100, 10)\n",
    "print(net.params['b2'].shape)  # (10, )"
   ]
  },
  {
   "cell_type": "markdown",
   "metadata": {},
   "source": [
    "이와 같이 params 변수에는 이 신경망에 필요한 매개변수가 모두 저장된다. <br/>\n",
    "그리고 params 변수에 저장된 가중치 매개변수가 예측 처리(순뱡향 처리)에서 사용된다."
   ]
  },
  {
   "cell_type": "code",
   "execution_count": 20,
   "metadata": {},
   "outputs": [],
   "source": [
    "# params 변수에 저장된 매개변수는 예측 처리(순방향 처리)에서 사용된다.\n",
    "\n",
    "x = np.random.randn(100, 784)\n",
    "y = net.predict(x)"
   ]
  },
  {
   "cell_type": "markdown",
   "metadata": {},
   "source": [
    "grad 변수에는 params 변수에 대응하는 각 매개변수의 기울기가 저장된다. <br/>\n",
    "예를 들어 numerical_gradient()메서드를 사용해 기울기를 계산하면 grads 변수에 기울기 정보가 저장된다."
   ]
  },
  {
   "cell_type": "code",
   "execution_count": 21,
   "metadata": {},
   "outputs": [
    {
     "data": {
      "text/plain": [
       "(10,)"
      ]
     },
     "execution_count": 21,
     "metadata": {},
     "output_type": "execute_result"
    }
   ],
   "source": [
    "x = np.random.rand(100, 784)  # 더미 입력 데이터(100장 분량)\n",
    "t = np.random.rand(100, 10)   # 더미 정답 레이블(100장 분량)\n",
    "\n",
    "grads = net.numerical_gradient(x, t)  # 기울기 계산\n",
    "\n",
    "grads['W1'].shape  # (784, 100)\n",
    "grads['b1'].shape  # (100, )\n",
    "grads['W2'].shape  # (100, 10)\n",
    "grads['b2'].shape  # (10, )\n"
   ]
  },
  {
   "cell_type": "code",
   "execution_count": null,
   "metadata": {},
   "outputs": [],
   "source": []
  },
  {
   "cell_type": "markdown",
   "metadata": {},
   "source": [
    "### 4.5.2 미니배치 학습 구현하기"
   ]
  },
  {
   "cell_type": "code",
   "execution_count": null,
   "metadata": {},
   "outputs": [],
   "source": []
  },
  {
   "cell_type": "code",
   "execution_count": null,
   "metadata": {},
   "outputs": [],
   "source": []
  },
  {
   "cell_type": "markdown",
   "metadata": {},
   "source": [
    "### 4.5.3 시험 데이터로 평가하기"
   ]
  },
  {
   "cell_type": "code",
   "execution_count": null,
   "metadata": {},
   "outputs": [],
   "source": []
  },
  {
   "cell_type": "markdown",
   "metadata": {},
   "source": [
    "## 4.6 정리"
   ]
  },
  {
   "cell_type": "markdown",
   "metadata": {},
   "source": [
    "* 이번 장에서는 신경망 학습에 대해 다루었다.\n",
    "* 가장 먼저 신경망이 학습을 수행할 수 있도록 손실 함수라는 '지표'를 도입했다.\n",
    "* 손실 함수(loss function)을 기준으로 그 값이 가장 작아지는 가중치 매개변수 값을 찾아 내는 것이 신경망 학습의 목표이다.\n",
    "* 또한 가능한 한 작은 손실 함수의 값을 찾는 수법으로 경사법을 소개했다.\n",
    "* 경사법은 함수의 기울기를 이용하는 방법이다."
   ]
  },
  {
   "cell_type": "markdown",
   "metadata": {},
   "source": [
    "#### 이번 장에서 배운 내용\n",
    "* 기계학습에서 사용하는 데이터셋은 train dataset과 test dataset로 나뉜다.\n",
    "* train data로 학습한 모델의 범용 능력을 test데이터로 평가한다.\n",
    "* 신경망 학습은 손실 함수를 지표로, 손실 함수의 값이 작아지는 방향으로 가중치 매개변수를 갱신한다.\n",
    "* 가중치 매개변수를 갱신할 때는 **가중치 매개변수의 기울기를 이용**하고, 기울어진 방향으로 가중치의 값을 갱신하는 작업을 반복한다.\n",
    "* 아주 작은 값을 주었을 때의 차분으로 미분하는 것을 수치 미분이라고 한다.\n",
    "* 수치 미분을 이용해 매개변수의 기울기를 구할 수 있다.\n",
    "* 수치 미분을 이용한 계산에는 시간이 걸리지만, 그 구현은 간단하다. 한편, 다음 장에서 구현하는 오차역전파법은 기울기를 고속으로 구할 수 있다."
   ]
  },
  {
   "cell_type": "code",
   "execution_count": null,
   "metadata": {},
   "outputs": [],
   "source": []
  }
 ],
 "metadata": {
  "kernelspec": {
   "display_name": "Python 3",
   "language": "python",
   "name": "python3"
  },
  "language_info": {
   "codemirror_mode": {
    "name": "ipython",
    "version": 3
   },
   "file_extension": ".py",
   "mimetype": "text/x-python",
   "name": "python",
   "nbconvert_exporter": "python",
   "pygments_lexer": "ipython3",
   "version": "3.7.6"
  }
 },
 "nbformat": 4,
 "nbformat_minor": 4
}
