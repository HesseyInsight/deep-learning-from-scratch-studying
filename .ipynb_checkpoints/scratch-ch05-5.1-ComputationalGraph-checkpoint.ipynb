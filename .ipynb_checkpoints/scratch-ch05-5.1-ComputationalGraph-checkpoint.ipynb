{
 "cells": [
  {
   "cell_type": "markdown",
   "metadata": {},
   "source": [
    "# Deep-Learning-from-Scratch\n",
    "* 반정도 온 것 같다 ^^\n",
    "* 오차 역전파법(Backpropagation)너무나도 중요한 파트이다\n",
    "* 끝까지 최선을 다하자 - 20.01.29.Wed"
   ]
  },
  {
   "cell_type": "markdown",
   "metadata": {},
   "source": [
    "### 5.1.1 계산 그래프로 풀다"
   ]
  },
  {
   "cell_type": "markdown",
   "metadata": {},
   "source": [
    "### 5.1.2 국소적 계산"
   ]
  },
  {
   "cell_type": "markdown",
   "metadata": {},
   "source": [
    "* 국소적이란 말은 '자신과 직접 관계된 작은 범위'라는 뜻이다\n",
    "* 국소적 계산은 결국 (전체에서 어떤 일이 벌어지든 상관없이) 자신과 관계된 정보만으로 결과를 출력할 수 있다."
   ]
  },
  {
   "cell_type": "markdown",
   "metadata": {},
   "source": [
    "### 5.1.3 왜 계산 그래프로 푸는가?"
   ]
  },
  {
   "cell_type": "markdown",
   "metadata": {},
   "source": [
    "* 하나, 계산그래프를 사용하면 '국소적 계산'을 할 수 있다.\n",
    "* 둘, 계산그래프는 중간 계산 결과를 보존할 수 있다.\n",
    "    * 사과를 계산한 값, 전체 구매 내역을 계산한 값, 세금을 부과하기 전 값 등 중간 계산 결과를 모두 보관할 수 있다.\n",
    "* 셋, 무엇보다도 계산그래프를 사용하면 역전파를 통해 '미분'을 효율적으로 계산할 수 있다."
   ]
  },
  {
   "cell_type": "markdown",
   "metadata": {},
   "source": [
    "#### 순전파와 역전파를 활용해서 각 변수의 미분을 효율적으로 구할 수 있다."
   ]
  },
  {
   "cell_type": "markdown",
   "metadata": {},
   "source": [
    "## 5.2 연쇄법칙"
   ]
  },
  {
   "cell_type": "markdown",
   "metadata": {},
   "source": [
    "* 이번 절의 목적은 계산 그래프 상의 역전파와 연쇄법칙이 같다는 것을 아는 것이다."
   ]
  },
  {
   "cell_type": "markdown",
   "metadata": {},
   "source": [
    "### 5.2.1 계산 그래프의 역전파\n"
   ]
  },
  {
   "cell_type": "markdown",
   "metadata": {},
   "source": [
    "목표로 하는 미분 값을 효율적으로 구할 수 있다는 것이 역전파의 핵심이다<br/>\n",
    "왜 이런 일이 가능한가는 연쇄법칙의 원리로 설명할 수 있다."
   ]
  },
  {
   "cell_type": "markdown",
   "metadata": {},
   "source": [
    "### 5.2.2 연쇄법칙이란?"
   ]
  },
  {
   "cell_type": "markdown",
   "metadata": {},
   "source": [
    "* 연쇄법칙은 합성 함수의 미분에 대한 성질이다.\n",
    "* 이는 다음과 같이 정의할 수 있다.\n",
    "    * 합성 함수의 미분은 합성 함수를 구성하는 각 함수의 미분의 곱으로 나타낼 수 있다.\n",
    "    * 이것이 연쇄법칙의 원리이다."
   ]
  },
  {
   "cell_type": "code",
   "execution_count": null,
   "metadata": {},
   "outputs": [],
   "source": []
  },
  {
   "cell_type": "markdown",
   "metadata": {},
   "source": [
    "### 5.2.3 연쇄법칙과 계산 그래프"
   ]
  },
  {
   "cell_type": "code",
   "execution_count": null,
   "metadata": {},
   "outputs": [],
   "source": []
  },
  {
   "cell_type": "markdown",
   "metadata": {},
   "source": [
    "## 5.3 역전파"
   ]
  },
  {
   "cell_type": "code",
   "execution_count": null,
   "metadata": {},
   "outputs": [],
   "source": []
  },
  {
   "cell_type": "markdown",
   "metadata": {},
   "source": [
    "### 5.3.1 덧셈 노드의 역전파\n"
   ]
  },
  {
   "cell_type": "code",
   "execution_count": null,
   "metadata": {},
   "outputs": [],
   "source": []
  },
  {
   "cell_type": "markdown",
   "metadata": {},
   "source": [
    "### 5.3.2 곱셈 노드의 역전파"
   ]
  },
  {
   "cell_type": "code",
   "execution_count": null,
   "metadata": {},
   "outputs": [],
   "source": []
  },
  {
   "cell_type": "code",
   "execution_count": null,
   "metadata": {},
   "outputs": [],
   "source": []
  }
 ],
 "metadata": {
  "kernelspec": {
   "display_name": "Python 3",
   "language": "python",
   "name": "python3"
  },
  "language_info": {
   "codemirror_mode": {
    "name": "ipython",
    "version": 3
   },
   "file_extension": ".py",
   "mimetype": "text/x-python",
   "name": "python",
   "nbconvert_exporter": "python",
   "pygments_lexer": "ipython3",
   "version": "3.7.6"
  }
 },
 "nbformat": 4,
 "nbformat_minor": 4
}
