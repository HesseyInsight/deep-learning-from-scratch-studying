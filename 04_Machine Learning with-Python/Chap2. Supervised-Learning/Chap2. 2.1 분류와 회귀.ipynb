{
 "cells": [
  {
   "cell_type": "markdown",
   "metadata": {},
   "source": [
    "# Chap2. 지도학습\n",
    "4th. Introduction to Machine Learning with Python<br>\n",
    "저자 : 안드레아스 뮐러 || 출판사 : 한빛미디어<br>\n",
    "\n",
    "본 Notebook은 안드레아스 뮐로(출판사 한빛미디어)의 <code>파이썬 라이브러리를 활용한 머신러닝</code>을 공부하며 작성한 Notebook입니다."
   ]
  },
  {
   "cell_type": "markdown",
   "metadata": {},
   "source": [
    "# 2.1 분류와 회귀"
   ]
  },
  {
   "cell_type": "markdown",
   "metadata": {},
   "source": [
    "## 지도학습의 종류"
   ]
  },
  {
   "cell_type": "markdown",
   "metadata": {},
   "source": [
    "지도학습에는 <code>분류(Classification)</code>과 <code>회귀(Regression)</code>이 있습니다."
   ]
  },
  {
   "cell_type": "markdown",
   "metadata": {},
   "source": [
    "## 분류(Classification)\n",
    "<code>분류(classification)</code> 는 미리 정의된, 가능성이 있는 여러 클래스 레이블(class label) 중 하나를 예측하는 것입니다.<br>\n",
    "분류는 딱 두 개의 클래스로 분류하는 <code>이진 분류(binary classification)</code>와 셋 이상의 클래스로 분류하는 <code>다중 분류(multiclass classification)</code>로 나뉩니다.<br>\n",
    "\n",
    "<code>이진 분류</code>는 질문의 답이 예/앙니오만 나올 수 있도록 하는 것이라 생각할 수 있습니다. 예를 들어 스팸 메일 필터기의 경우 해당 메일이 스팸 메일인지 / 스팸 메일이 아닌지 분류하는 이진 분류의 문제입니다."
   ]
  },
  {
   "cell_type": "markdown",
   "metadata": {},
   "source": [
    "한편 <code>이진 분류</code>에서는 클래스를 양성(positive), 음성(negative) 클래스로 나눕니다. 여기서 양성이라고 해서 좋은 것도 아니고 음성이라고 해서 나쁜 것도 아닙니다. 단지 클래스를 나누기 위해 양성/음성 두 가지로 분류한 것입니다. 기억해주세요!<br>\n",
    "\n",
    "앞서 예를 들어준 '스팸 메일'분류에서 스팸 메일을 양성으로 일반 메일을 음성으로 정의하여 분류할 수 있습니다.<br>\n",
    "이 때 두 클래스 중 어떤 것을 양성이라 할지는 보통 주관적인 문제이며 분야에 따라 달라진다고 합니다."
   ]
  },
  {
   "cell_type": "markdown",
   "metadata": {},
   "source": [
    "## 회귀(Regression)"
   ]
  },
  {
   "cell_type": "markdown",
   "metadata": {},
   "source": [
    "<code>회귀(Regression)</code>는 연속적인 숫자, 또는 프로그래밍 용어로 말하면 부동소수점수(수학 용어로는 실수)를 예측하는 것입니다."
   ]
  },
  {
   "cell_type": "markdown",
   "metadata": {},
   "source": [
    "책에서는 다음의 예시를 들어주었습니다.<br>\n",
    "어떤 사람의 교육 수준, 나이, 주거지를 바탕으로 연간 소득을 예측하는 것이 회귀 문제의 한 예입니다. "
   ]
  },
  {
   "cell_type": "markdown",
   "metadata": {},
   "source": [
    "소득을 예측할 때 예측된 값은 어떤 양으로서, 일정 범위 안의 어떤 숫자도 될 수 있습니다. 옥수수 농장에서 전년도 수확량과 날씨, 고용 인원수 등으로 올해 수확량을 예측하는 예도 회귀 문제 입니다. 수확량 역시 어떤 숫자든 될 수 있습니다."
   ]
  },
  {
   "cell_type": "markdown",
   "metadata": {},
   "source": [
    "## 분류 문제와 회귀문제 구분 방법"
   ]
  },
  {
   "cell_type": "markdown",
   "metadata": {},
   "source": [
    "*출력 값에 연속성이 있는가?*"
   ]
  },
  {
   "cell_type": "markdown",
   "metadata": {},
   "source": [
    "**예상 출력 값 사이에 연속성이 있다면 <code>회귀 문제</code> 입니다.**"
   ]
  },
  {
   "cell_type": "markdown",
   "metadata": {},
   "source": [
    "**예상 출력값 사이에 연속성이 없다면 <code>분류 문제<code>입니다.** "
   ]
  },
  {
   "cell_type": "code",
   "execution_count": null,
   "metadata": {},
   "outputs": [],
   "source": []
  }
 ],
 "metadata": {
  "kernelspec": {
   "display_name": "Python 3",
   "language": "python",
   "name": "python3"
  },
  "language_info": {
   "codemirror_mode": {
    "name": "ipython",
    "version": 3
   },
   "file_extension": ".py",
   "mimetype": "text/x-python",
   "name": "python",
   "nbconvert_exporter": "python",
   "pygments_lexer": "ipython3",
   "version": "3.7.4"
  }
 },
 "nbformat": 4,
 "nbformat_minor": 4
}
