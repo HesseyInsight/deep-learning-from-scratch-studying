{
 "cells": [
  {
   "cell_type": "markdown",
   "metadata": {},
   "source": [
    "# Chap2. 지도학습\n",
    "4th. Introduction to Machine Learning with Python<br>\n",
    "저자 : 안드레아스 뮐러 || 출판사 : 한빛미디어<br>\n",
    "\n",
    "본 Notebook은 안드레아스 뮐로(출판사 한빛미디어)의 파이썬 라이브러리를 활용한 머신러닝을 공부하며 작성한 Notebook입니다."
   ]
  },
  {
   "cell_type": "markdown",
   "metadata": {},
   "source": [
    "# 2.2 일반화, 과대적합, 최소적합"
   ]
  },
  {
   "cell_type": "markdown",
   "metadata": {},
   "source": [
    "## #1. 일반화"
   ]
  },
  {
   "cell_type": "markdown",
   "metadata": {},
   "source": [
    "\"지도학습에서는 훈련 데이터로부터 학습한 모델이 훈련 데이터와 특성이 같다면 처음 보는 새로운 데이터가 주어져도 정확히 예측을 할거라 기대합니다.\""
   ]
  },
  {
   "cell_type": "markdown",
   "metadata": {},
   "source": [
    "<code>일반화</code>란 모델이 처음 보는 데이터에 대해 정확하게 예측을 할 수 있는 것을 의미합니다.<br>\n",
    "훈련 세트에서 테스트 세트로 **일반화(generalization)**되었다고 합니다."
   ]
  },
  {
   "cell_type": "markdown",
   "metadata": {},
   "source": [
    "따라서 모델을 만들 때는 가능한 한 정확하게 일반화되도록 해야 합니다."
   ]
  },
  {
   "cell_type": "markdown",
   "metadata": {},
   "source": [
    "보통은 훈련 세트에 대해 정확히 예측하도록 모델을 구축합니다. 이 때 훈련 세트와 테스트 세트가 매우 비슷하다면 그 모델이 테스트 세트에서도 정확히 예측하리라 기대할 수 있습니다. 그러나 모델이 항상 테스트 세트에서도 정확히 예측하리라 기대할 수는 없습니다.<br>\n",
    "예를 들어 아주 복잡한 모델을 만든다면 훈련 세트에만 정확한 모델이 될 수 있습니다."
   ]
  },
  {
   "cell_type": "markdown",
   "metadata": {},
   "source": [
    "### 일반화 모델"
   ]
  },
  {
   "cell_type": "markdown",
   "metadata": {},
   "source": [
    "앞서 말했듯이 지도 학습의 목표는 처음 보는 새로운 데이터가 주어졌을 때 정답을 예측하고 싶은 것입니다. "
   ]
  },
  {
   "cell_type": "markdown",
   "metadata": {},
   "source": [
    "그러므로 어떤 훈련 데이터 세트가 주어졌을 때 훈련 데이터 세트에서 100% 정확도를 달성하는 것은 크게 도움이 되지 않습니다."
   ]
  },
  {
   "cell_type": "markdown",
   "metadata": {},
   "source": [
    "알고리즘이 새로운 데이터라도 잘 처리하는지 측정하는 방법은 테스트 세트로 평가해보는 것밖에 없습니다."
   ]
  },
  {
   "cell_type": "markdown",
   "metadata": {},
   "source": [
    "새로운 데이터에 더 잘 일반화하기 위해서는 간단한 모델을 사용하는 것입니다. 그렇기 때문에 우리는 언제나 가장 간단한 모델을 찾으려 하는 것입니다."
   ]
  },
  {
   "cell_type": "markdown",
   "metadata": {},
   "source": [
    "## #2. 과대적합"
   ]
  },
  {
   "cell_type": "markdown",
   "metadata": {},
   "source": [
    "훈련 데이터 세트에서 제공되는 모든 정보를 사용해서 너무 복잡한 모델을 만드는 것을 <code>과대적합(Overfitting)</code>이라고 합니다."
   ]
  },
  {
   "cell_type": "markdown",
   "metadata": {},
   "source": [
    "<code>과대적합</code>은 모델이 훈련 세트의 각 샘플에 너무 가깝게 맞춰져서 새로운 데이터에 일반화되기 어려울 때 일어납니다."
   ]
  },
  {
   "cell_type": "markdown",
   "metadata": {},
   "source": [
    "## #3. 과소 적합"
   ]
  },
  {
   "cell_type": "markdown",
   "metadata": {},
   "source": [
    "반면에 모델이 너무 간단하면 데이터 면면과 다양성을 잡아내지 못할 것이고 훈련 세트에도 잘 맞지 않을 것입니다.<br>\n",
    "너무 간단한 모델이 선택되는 것을 <code>과소적합(Underfitting)</code>라고 합니다."
   ]
  },
  {
   "cell_type": "markdown",
   "metadata": {},
   "source": [
    "## 모델을 선택하는 방법"
   ]
  },
  {
   "cell_type": "markdown",
   "metadata": {},
   "source": [
    "\"우리가 찾고자 하는 모델은 일반화 성능이 최대가 되는 최적점에 있는 모델입니다.\""
   ]
  },
  {
   "cell_type": "markdown",
   "metadata": {},
   "source": [
    "모델을 복잡하게 할수록 훈련 데이터에 대해서는 더 정확히 예측할 수 있습니다. 반면 너무 복잡해지면 훈련 세트의 각 데이터 포인트에 너무 민감해져 새로운 데이터에 잘 일반화 되지 못합니다."
   ]
  },
  {
   "cell_type": "code",
   "execution_count": null,
   "metadata": {},
   "outputs": [],
   "source": []
  }
 ],
 "metadata": {
  "kernelspec": {
   "display_name": "Python 3",
   "language": "python",
   "name": "python3"
  },
  "language_info": {
   "codemirror_mode": {
    "name": "ipython",
    "version": 3
   },
   "file_extension": ".py",
   "mimetype": "text/x-python",
   "name": "python",
   "nbconvert_exporter": "python",
   "pygments_lexer": "ipython3",
   "version": "3.7.4"
  }
 },
 "nbformat": 4,
 "nbformat_minor": 4
}
