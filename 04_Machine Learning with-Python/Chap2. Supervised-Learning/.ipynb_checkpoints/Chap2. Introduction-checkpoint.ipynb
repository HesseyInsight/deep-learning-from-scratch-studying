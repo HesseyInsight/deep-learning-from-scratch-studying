{
 "cells": [
  {
   "cell_type": "markdown",
   "metadata": {},
   "source": [
    "# Chap2. 지도학습\n",
    "4th. Introduction to Machine Learning with Python<br>\n",
    "저자 : 안드레아스 뮐러 || 출판사 : 한빛미디어<br>\n",
    "\n",
    "본 Notebook은 안드레아스 뮐로(출판사 한빛미디어)의 파이썬 라이브러리를 활용한 머신러닝을 공부하며 작성한 Notebook입니다."
   ]
  },
  {
   "cell_type": "markdown",
   "metadata": {},
   "source": [
    "## 지도학습이란?"
   ]
  },
  {
   "cell_type": "markdown",
   "metadata": {},
   "source": [
    "*What is Supervied Learning?*"
   ]
  },
  {
   "cell_type": "markdown",
   "metadata": {},
   "source": [
    "\"<code>지도 학습</code>은 가장 널리 사용되고 가장 성공적으로 사용되는 머신러닝 방법 중 하나입니다.\""
   ]
  },
  {
   "cell_type": "markdown",
   "metadata": {},
   "source": [
    "<code>Chap2. 지도학습</code>에서는 지도 학습에 관해 더 자세히 살펴보고 인기 있는 지도 학습 알고리즘 몇가지를 설명하겠습니다."
   ]
  },
  {
   "cell_type": "markdown",
   "metadata": {},
   "source": [
    "<code>지도 학습(Supervised Learning)</code>은 입력과 출력 샘플 데이터가 있고, 주어진 입력으로부터 출력을 예측하고자 할 때 사용한다는 점을 기억하시길 바랍니다.<br>\n",
    "입력/출력을 가지고 있는 샘플 데이터, 즉 <code>훈련 세트(Training data)</code>로부터 머신러닝 모델을 만듭니다."
   ]
  },
  {
   "cell_type": "markdown",
   "metadata": {},
   "source": [
    "직접 하나하나 코드를 작성해나가면서 배워보도록 하겠습니다! -20.05.16.Sat.am 9:00-"
   ]
  }
 ],
 "metadata": {
  "kernelspec": {
   "display_name": "Python 3",
   "language": "python",
   "name": "python3"
  },
  "language_info": {
   "codemirror_mode": {
    "name": "ipython",
    "version": 3
   },
   "file_extension": ".py",
   "mimetype": "text/x-python",
   "name": "python",
   "nbconvert_exporter": "python",
   "pygments_lexer": "ipython3",
   "version": "3.7.4"
  }
 },
 "nbformat": 4,
 "nbformat_minor": 4
}
