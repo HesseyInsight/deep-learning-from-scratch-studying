{
 "cells": [
  {
   "cell_type": "markdown",
   "metadata": {},
   "source": [
    "# Chap3. word2vec\n",
    "## 3.3. 학습 데이터 준비"
   ]
  },
  {
   "cell_type": "markdown",
   "metadata": {},
   "source": [
    "이번에도 지금까지와 마찬가지로 \"You say goodbye and I say hello.' 한 문장 말뭉치를 사용할 것이다."
   ]
  },
  {
   "cell_type": "markdown",
   "metadata": {},
   "source": [
    "🏷 *Meno*<br>\n",
    "한 Chapter가 끝날때 마다 리뷰를 하고, 내가 무엇을 배웠는지, 어떤 점이 중요한지 기록하고 리마인드 하는 시간을 가져보면 어떨까?🤔  -20.03.25.Wed-"
   ]
  },
  {
   "cell_type": "markdown",
   "metadata": {},
   "source": [
    "하나하나 지식을 쌓아가는 과정은 즐겁지만 지식이 계속해서 쌓여가면서 연결이 안되는 것 같은 느낌을 받을 때가 있다.\n",
    "계속해서 정리를 하고, 기존의 지식과 연결하는 과정이 필요하다고 생각한다."
   ]
  },
  {
   "cell_type": "markdown",
   "metadata": {},
   "source": [
    "* word2vec의 입력과 출력\n",
    "    * word2vec의 입력과 출력은 어떻게 될까?\n",
    "    * word2vec에서 이용하는 신경망의 입력은 <code>'맥락'</code>이다.\n",
    "    * 그리고 정답 레이블은 맥락에 둘러싸인 중앙의 단어, 즉 <code>'타겟'</code>이다.\n",
    "    * 다시말해 신경망에 '맥락'을 입력했을 때 '타킷'이 출현할 확률을 높이는 것이 <code>학습의 목표</code>이다."
   ]
  },
  {
   "cell_type": "markdown",
   "metadata": {},
   "source": [
    "말뭉치로부터 목표로 하는 단어를 '타겟'으로, 그 주변의 단어를 '맥락'으로 뽑아낸다.<br>\n",
    "이러한 작업을 말뭉치 안에 양 끝 단어는 제외한 모든 단어에 대해 수행한다. (처음과 끝 단어는 제외한다)<br>\n",
    "이렇게 만들어진 맥락의 각 행은 신경망의 입력으로 사용되고, 타깃의 각 행은 신경망의 정답 레이블(예측해야 하는 단어)이 된다. <br>\n",
    "참고로, 각 샘플 데이터에서 맥락의 수는 여러개가 될 수 있으나 타겟의 수는 반드시 하나여야 한다."
   ]
  },
  {
   "cell_type": "code",
   "execution_count": 1,
   "metadata": {},
   "outputs": [
    {
     "name": "stdout",
     "output_type": "stream",
     "text": [
      "[0 1 2 3 4 1 5 6]\n"
     ]
    }
   ],
   "source": [
    "# 우선 말뭉치에서 텍스트를 단어 ID로 변환해야 한다.\n",
    "\n",
    "import sys\n",
    "sys.path.append('..')\n",
    "from common.util import preprocess\n",
    "\n",
    "text = 'You say goodbye and I say hello.'\n",
    "corpus, word_to_id, id_to_word = preprocess(text)  # 앞서 util에 구현해 놓은 preprocess 함수를 통해 다음의 값을 리턴\n",
    "                                                   # corpus: 단어의 ID 배열\n",
    "                                                   # word_to_id: 단어와 단어의 ID에 대한 딕셔러니\n",
    "                                                   # id_to_word: 단어의 ID와 단어에 대한 딕셔너리\n",
    "print(corpus)"
   ]
  },
  {
   "cell_type": "code",
   "execution_count": 2,
   "metadata": {},
   "outputs": [
    {
     "name": "stdout",
     "output_type": "stream",
     "text": [
      "{0: 'you', 1: 'say', 2: 'goodbye', 3: 'and', 4: 'i', 5: 'hello', 6: '.'}\n"
     ]
    }
   ],
   "source": [
    "print(id_to_word)"
   ]
  },
  {
   "cell_type": "markdown",
   "metadata": {},
   "source": [
    "다음으로 corpus로 부터 맥락과 타겟을 만들어낸다"
   ]
  },
  {
   "cell_type": "markdown",
   "metadata": {},
   "source": [
    "* copurs로부터 만든 맥락과 타겟\n",
    "    * 맥락은 2차원 배열이다.\n",
    "    * 맥락의 0번째 차원에는 각 맥락 데이터가 저장된다.\n",
    "    * 정확하게 말하면, context[0]에는 0번째 맥락이 저장되고, context[1]에는 1번째 맥락이 저장된다."
   ]
  },
  {
   "cell_type": "markdown",
   "metadata": {},
   "source": [
    "**맥락과 타겟을 구하는 함수 구현**"
   ]
  },
  {
   "cell_type": "code",
   "execution_count": 3,
   "metadata": {},
   "outputs": [],
   "source": [
    "import numpy as np\n",
    "\n",
    "def create_contexts_target(corpus, window_size=1):\n",
    "    target = corpus[window_size:-window_size]  # 재미있는 인덱싱 표현이다.\n",
    "    contexts = []\n",
    "    \n",
    "    for idx in range(window_size, len(corpus)-window_size):\n",
    "        cs = [] # cs?\n",
    "        for t in range(-window_size, window_size + 1):\n",
    "            if t == 0:\n",
    "                continue\n",
    "            cs.append(corpus[idx + t])\n",
    "        contexts.append(cs)\n",
    "        \n",
    "    return np.array(contexts), np.array(target)\n",
    "        "
   ]
  },
  {
   "cell_type": "code",
   "execution_count": 4,
   "metadata": {},
   "outputs": [
    {
     "name": "stdout",
     "output_type": "stream",
     "text": [
      "context:  [[0 2]\n",
      " [1 3]\n",
      " [2 4]\n",
      " [3 1]\n",
      " [4 5]\n",
      " [1 6]]\n",
      "target:  [1 2 3 4 1 5]\n"
     ]
    }
   ],
   "source": [
    "contexts, target = create_contexts_target(corpus, window_size=1)\n",
    "\n",
    "print('context: ', contexts)\n",
    "print('target: ', target)"
   ]
  },
  {
   "cell_type": "markdown",
   "metadata": {},
   "source": [
    "이것으로 말뭉치로부터 맥락과 타겟을 만들었다. 나중에 이를 CBOW모델에 넘겨주면 된다."
   ]
  },
  {
   "cell_type": "markdown",
   "metadata": {},
   "source": [
    "📌 &lt;To-do&gt;\n",
    "common/util.py create_contexts_target(corpus, window_size=1)함수 구현\n",
    "\n",
    "** util create_contexts_target()함수 불러서 실험해보기 **"
   ]
  },
  {
   "cell_type": "code",
   "execution_count": 6,
   "metadata": {},
   "outputs": [
    {
     "name": "stdout",
     "output_type": "stream",
     "text": [
      "contexts:  [[0 2]\n",
      " [1 3]\n",
      " [2 4]\n",
      " [3 1]\n",
      " [4 5]\n",
      " [1 6]]\n",
      "target:  [1 2 3 4 1 5]\n"
     ]
    }
   ],
   "source": [
    "import sys\n",
    "sys.path.append('..')\n",
    "from common.util import preprocess, create_contexts_target\n",
    "import numpy as np\n",
    "\n",
    "\n",
    "text = 'You say goodbye and I say hello.'\n",
    "corpus, word_to_id, id_to_word = preprocess(text)\n",
    "\n",
    "contexts, target = create_contexts_target(corpus)\n",
    "print('contexts: ', contexts)\n",
    "print('target: ', target)"
   ]
  },
  {
   "cell_type": "markdown",
   "metadata": {},
   "source": [
    "---\n",
    "연구실에서 이어서 합시다...! 20.03.25.tue am 9:35"
   ]
  },
  {
   "cell_type": "markdown",
   "metadata": {},
   "source": [
    "조금은 납득이 안가는 부분이 있다...<br>\n",
    "context에 [3 1], [4 5], [1 6]은 무엇인가??"
   ]
  },
  {
   "cell_type": "code",
   "execution_count": 33,
   "metadata": {},
   "outputs": [],
   "source": [
    "# 수정\n",
    "\n",
    "import numpy as np\n",
    "\n",
    "def create_contexts_target(corpus, window_size=1):\n",
    "    target = corpus[window_size:-window_size]  # 재미있는 인덱싱 표현이다.\n",
    "    contexts = []\n",
    "    \n",
    "    for idx in range(window_size, len(corpus)-window_size): ## 수정 len(corpus) - window_size => len(corpus)\n",
    "                                                            # len(corpus)까지 할 경우, 15 line의 corpus인덱스 번호가 넘어간다.\n",
    "        cs = [] # cs?\n",
    "        for t in range(-window_size, window_size + 1): \n",
    "            if t == 0:\n",
    "                continue\n",
    "            cs.append(corpus[idx + t])\n",
    "#         print(idx)\n",
    "        contexts.append(cs)\n",
    "        \n",
    "    return np.array(contexts), np.array(target)\n",
    "        "
   ]
  },
  {
   "cell_type": "code",
   "execution_count": 34,
   "metadata": {},
   "outputs": [
    {
     "name": "stdout",
     "output_type": "stream",
     "text": [
      "context:  [[0 2]\n",
      " [1 3]\n",
      " [2 4]\n",
      " [3 1]\n",
      " [4 5]\n",
      " [1 6]]\n",
      "target:  [1 2 3 4 1 5]\n"
     ]
    }
   ],
   "source": [
    "contexts, target = create_contexts_target(corpus, window_size=1)\n",
    "\n",
    "print('context: ', contexts)\n",
    "print('target: ', target)"
   ]
  },
  {
   "cell_type": "markdown",
   "metadata": {},
   "source": [
    "### 3.3.2 원핫 표현으로 변환 "
   ]
  },
  {
   "cell_type": "markdown",
   "metadata": {},
   "source": [
    "계속해서 맥라과 타깃을 원핫 표현으로 바꿔보자<br>\n",
    "맥락과 타깃 단어 ID에서 원핫 표현으로 변환하면 된다.<br>\n",
    "이 때 다시 한번 각각의 다차원 배열의 형상에 주목해야 한다."
   ]
  },
  {
   "cell_type": "code",
   "execution_count": 35,
   "metadata": {},
   "outputs": [
    {
     "name": "stdout",
     "output_type": "stream",
     "text": [
      "context.shape:  (6, 2)\n"
     ]
    },
    {
     "ename": "AttributeError",
     "evalue": "'numpy.ndarray' object has no attribute 'shaep'",
     "output_type": "error",
     "traceback": [
      "\u001b[1;31m---------------------------------------------------------------------------\u001b[0m",
      "\u001b[1;31mAttributeError\u001b[0m                            Traceback (most recent call last)",
      "\u001b[1;32m<ipython-input-35-6b55febc0cf6>\u001b[0m in \u001b[0;36m<module>\u001b[1;34m\u001b[0m\n\u001b[0;32m      1\u001b[0m \u001b[0mprint\u001b[0m\u001b[1;33m(\u001b[0m\u001b[1;34m'context.shape: '\u001b[0m\u001b[1;33m,\u001b[0m \u001b[0mcontexts\u001b[0m\u001b[1;33m.\u001b[0m\u001b[0mshape\u001b[0m\u001b[1;33m)\u001b[0m\u001b[1;33m\u001b[0m\u001b[1;33m\u001b[0m\u001b[0m\n\u001b[1;32m----> 2\u001b[1;33m \u001b[0mprint\u001b[0m\u001b[1;33m(\u001b[0m\u001b[1;34m'target.shape: '\u001b[0m\u001b[1;33m,\u001b[0m \u001b[0mtarget\u001b[0m\u001b[1;33m.\u001b[0m\u001b[0mshaep\u001b[0m\u001b[1;33m)\u001b[0m\u001b[1;33m\u001b[0m\u001b[1;33m\u001b[0m\u001b[0m\n\u001b[0m",
      "\u001b[1;31mAttributeError\u001b[0m: 'numpy.ndarray' object has no attribute 'shaep'"
     ]
    }
   ],
   "source": [
    "print('context.shape: ', contexts.shape)\n",
    "print('target.shape: ', target.shape)"
   ]
  },
  {
   "cell_type": "code",
   "execution_count": null,
   "metadata": {},
   "outputs": [],
   "source": []
  },
  {
   "cell_type": "markdown",
   "metadata": {},
   "source": [
    "코드를 다시 한 번 봐야겠다...!"
   ]
  },
  {
   "cell_type": "markdown",
   "metadata": {},
   "source": [
    "이번장을 끝나고 나서 내가 할 일...\n",
    "\n",
    "word2vec란 무엇인가?<br>\n",
    "word2vec에 대해 내가 아는 모든 것을 정리한 문서!<br>\n",
    "\n",
    "📌 &lt;To-do&gt;\n",
    "* word2vec에 대한 모든것(내가 아는 선에서)"
   ]
  },
  {
   "cell_type": "code",
   "execution_count": 20,
   "metadata": {},
   "outputs": [
    {
     "data": {
      "text/plain": [
       "[2, 3, 4]"
      ]
     },
     "execution_count": 20,
     "metadata": {},
     "output_type": "execute_result"
    }
   ],
   "source": [
    "a = [1, 2, 3, 4, 5]\n",
    "b = 1\n",
    "a[b:-b]"
   ]
  },
  {
   "cell_type": "code",
   "execution_count": 18,
   "metadata": {},
   "outputs": [
    {
     "name": "stdout",
     "output_type": "stream",
     "text": [
      "1\n",
      "2\n",
      "3\n",
      "4\n"
     ]
    }
   ],
   "source": [
    "for i in range(1, 5):\n",
    "    print(i)"
   ]
  },
  {
   "cell_type": "code",
   "execution_count": 21,
   "metadata": {},
   "outputs": [
    {
     "name": "stdout",
     "output_type": "stream",
     "text": [
      "1\n",
      "2\n",
      "3\n",
      "4\n"
     ]
    }
   ],
   "source": [
    "for i in range(1, len(a)):\n",
    "    print(i)"
   ]
  },
  {
   "cell_type": "code",
   "execution_count": 9,
   "metadata": {},
   "outputs": [
    {
     "name": "stdout",
     "output_type": "stream",
     "text": [
      "-1\n",
      "0\n",
      "1\n",
      "2\n"
     ]
    }
   ],
   "source": [
    "for i in range(-1, 3):\n",
    "    print(i)  # [-1, 0, 1, 2]"
   ]
  }
 ],
 "metadata": {
  "kernelspec": {
   "display_name": "Python 3",
   "language": "python",
   "name": "python3"
  },
  "language_info": {
   "codemirror_mode": {
    "name": "ipython",
    "version": 3
   },
   "file_extension": ".py",
   "mimetype": "text/x-python",
   "name": "python",
   "nbconvert_exporter": "python",
   "pygments_lexer": "ipython3",
   "version": "3.7.4"
  }
 },
 "nbformat": 4,
 "nbformat_minor": 4
}
