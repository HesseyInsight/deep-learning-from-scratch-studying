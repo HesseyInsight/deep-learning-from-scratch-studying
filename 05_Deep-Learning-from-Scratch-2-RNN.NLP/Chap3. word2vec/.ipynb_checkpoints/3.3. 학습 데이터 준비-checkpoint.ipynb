{
 "cells": [
  {
   "cell_type": "markdown",
   "metadata": {},
   "source": [
    "# Chap3. word2vec\n",
    "## 3.3. 학습 데이터 준비"
   ]
  },
  {
   "cell_type": "markdown",
   "metadata": {},
   "source": [
    "이번에도 지금까지와 마찬가지로 \"You say goodbye and I say hello.' 한 문장 말뭉치를 사용할 것이다."
   ]
  },
  {
   "cell_type": "markdown",
   "metadata": {},
   "source": [
    "*Meno*<br>\n",
    "한 Chapter가 끝날때 마다 리뷰를 하고, 내가 무엇을 배웠는지, 어떤 점이 중요한지 기록하고 리마인드 하는 시간을 가져보면 어떨까?  -20.03.25.Wed-"
   ]
  },
  {
   "cell_type": "markdown",
   "metadata": {},
   "source": [
    "* word2vec의 입력과 출력\n",
    "    * word2vec의 입력과 출력은 어떻게 될까?\n",
    "    * word2vec에서 이용하는 신경망의 입력은 '맥락'이다.\n",
    "    * 그리고 정답 레이블은 맥락에 둘러싸인 중앙의 단어, 즉 '타겟'이다.\n",
    "    * 다시말해 신경망에 '맥락'을 입력했을 때 '타킷'이 출현할 확률을 높이는 것이 학습의 목표이다."
   ]
  },
  {
   "cell_type": "markdown",
   "metadata": {},
   "source": [
    "말뭉치로부터 목표로 하는 단어를 '타겟'으로, 그 주변의 단어를 '맥락'으로 뽑아낸다.<br>\n",
    "이러한 작업을 말뭉치 안에 양 끝 단어는 제외한 모든 단어에 대해 수행한다. (처음과 끝 단어는 제외한다)<br>\n",
    "이렇게 만들어진 맥락의 각 행은 신경망의 입력으로 사용되고, 타깃의 각 행은 신경망의 정답 레이블(예측해야 하는 단어)이 된다. <br>\n",
    "참고로, 각 샘플 데이터에서 맥락의 수는 여러개가 될 수 있으나 타겟의 수는 반드시 하나여야 하낟."
   ]
  },
  {
   "cell_type": "code",
   "execution_count": 1,
   "metadata": {},
   "outputs": [
    {
     "name": "stdout",
     "output_type": "stream",
     "text": [
      "[0 1 2 3 4 1 5 6]\n"
     ]
    }
   ],
   "source": [
    "# 우선 말뭉치에서 텍스트를 단어 ID로 변환해야 한다.\n",
    "\n",
    "import sys\n",
    "sys.path.append('..')\n",
    "from common.util import preprocess\n",
    "\n",
    "text = 'You say goodbye and I say hello.'\n",
    "corpus, word_to_id, id_to_word = preprocess(text)\n",
    "print(corpus)"
   ]
  },
  {
   "cell_type": "code",
   "execution_count": 2,
   "metadata": {},
   "outputs": [
    {
     "name": "stdout",
     "output_type": "stream",
     "text": [
      "{0: 'you', 1: 'say', 2: 'goodbye', 3: 'and', 4: 'i', 5: 'hello', 6: '.'}\n"
     ]
    }
   ],
   "source": [
    "print(id_to_word)"
   ]
  },
  {
   "cell_type": "markdown",
   "metadata": {},
   "source": [
    "다음으로 단어 ID의 배열인 corpus로부터 맥락과 타깃을 만들어낸다."
   ]
  },
  {
   "cell_type": "markdown",
   "metadata": {},
   "source": [
    "* copurs로부터 만든 맥락과 타겟\n",
    "    * 맥락은 2차원 배열이다.\n",
    "    * 맥락의 0번째 차원에는 각 맥락 데이터가 저장된다.\n",
    "    * 정확하게 말하면, context[0]에는 0번째 맥락이 저장되고, context[1]에는 1번째 맥락이 저장된다."
   ]
  },
  {
   "cell_type": "markdown",
   "metadata": {},
   "source": [
    "**맥락과 타겟을 구하는 함수 구현**"
   ]
  },
  {
   "cell_type": "code",
   "execution_count": 7,
   "metadata": {},
   "outputs": [],
   "source": [
    "import numpy as np\n",
    "\n",
    "def create_contexts_target(corpus, window_size=1):\n",
    "    target = corpus[window_size:-window_size]  # 재미있는 인덱싱 표현이다.\n",
    "    contexts = []\n",
    "    \n",
    "    for idx in range(window_size, len(corpus)-window_size):\n",
    "        cs = [] # cs?\n",
    "        for t in range(-window_size, window_size + 1):\n",
    "            if t == 0:\n",
    "                continue\n",
    "            cs.append(corpus[idx + t])\n",
    "        contexts.append(cs)\n",
    "        \n",
    "    return np.array(contexts), np.array(target)\n",
    "        "
   ]
  },
  {
   "cell_type": "code",
   "execution_count": 10,
   "metadata": {},
   "outputs": [
    {
     "name": "stdout",
     "output_type": "stream",
     "text": [
      "context:  [[0 2]\n",
      " [1 3]\n",
      " [2 4]\n",
      " [3 1]\n",
      " [4 5]\n",
      " [1 6]]\n",
      "target:  [1 2 3 4 1 5]\n"
     ]
    }
   ],
   "source": [
    "contexts, target = create_contexts_target(corpus, window_size=1)\n",
    "\n",
    "print('context: ', contexts)\n",
    "print('target: ', target)"
   ]
  },
  {
   "cell_type": "markdown",
   "metadata": {},
   "source": [
    "이것으로 말뭉치로부터 맥락과 타겟을 만들었다. 나중에 이를 CBOW모델에 넘겨주면 된다."
   ]
  },
  {
   "cell_type": "markdown",
   "metadata": {},
   "source": [
    "---\n",
    "연구실에서 이어서 합시다...! 20.03.25.tue am 9:35"
   ]
  },
  {
   "cell_type": "code",
   "execution_count": null,
   "metadata": {},
   "outputs": [],
   "source": []
  }
 ],
 "metadata": {
  "kernelspec": {
   "display_name": "Python 3",
   "language": "python",
   "name": "python3"
  },
  "language_info": {
   "codemirror_mode": {
    "name": "ipython",
    "version": 3
   },
   "file_extension": ".py",
   "mimetype": "text/x-python",
   "name": "python",
   "nbconvert_exporter": "python",
   "pygments_lexer": "ipython3",
   "version": "3.7.4"
  }
 },
 "nbformat": 4,
 "nbformat_minor": 4
}
