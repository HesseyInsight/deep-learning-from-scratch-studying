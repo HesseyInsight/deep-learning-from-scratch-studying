{
 "cells": [
  {
   "cell_type": "markdown",
   "metadata": {},
   "source": [
    "# Chap3. word2vec\n",
    "## 3.5 word2vec 보충\n",
    "😀 이번절을 마치면 Chap3도 끝이다!!"
   ]
  },
  {
   "cell_type": "markdown",
   "metadata": {},
   "source": [
    "지금까지 말하지 못한 word2vec에 관해 중요한 주제를 몇 개 보충하도록 하자.<br>\n",
    "우선은 CBOW 모델을 '확률'관점에서 다시 살펴보자."
   ]
  },
  {
   "cell_type": "markdown",
   "metadata": {},
   "source": [
    "### 3.5.1 CBOW 모델과 확률"
   ]
  },
  {
   "cell_type": "markdown",
   "metadata": {},
   "source": [
    "* 확률 표기법\n",
    "    * 이 책에서는 확률을 P(.)처럼 쓴다.\n",
    "    * A라는 현상이 일어날 확률은 P(A)이다.\n",
    "    * **동시 확률**은 P(A, B)로 쓴다\n",
    "    \n",
    "* 사후확률 P(A|B)\n",
    "    * 말 그대로 '**사건**이 일어난 **후**의 **확률**'이다.\n",
    "    * 'B(라는 정보)가 주어졌을 때 A가 일어날 확률'이라고 해석할 수 있다."
   ]
  },
  {
   "cell_type": "markdown",
   "metadata": {},
   "source": [
    "* CBOW 모델을 확률 표기법으로 기술해보자.\n",
    "    * 맥락을 주면 타깃 단어가 출현할 확률을 출력하는 것이다.\n",
    "    * 말뭉치를 w1, w2, w3, ..., wt처럼 단어 시퀀스로 표기한다.\n",
    "    * t번째 단어에 대해 윈도우 크기가 1인 맥락을 고려해보면\n",
    "    * W_t-1과 W_t+1이 주어졌을 때 타깃이 W_t가 될 확률은?\n",
    "       * 수식으로 <code>P(W_t | W_t-1, W_t+1)</code>\n",
    "       * 해석하면 W_t-1과 W_t+1이 주어졌을 때, W_t가 발생할 확률로 해석할 수 있다."
   ]
  },
  {
   "cell_type": "markdown",
   "metadata": {},
   "source": [
    "* CBOW모델을 나타내는 <code>수식</code>을 사용하면 CBOW모델의 손실 함수도 간결하게 표현할 수 있다."
   ]
  },
  {
   "cell_type": "markdown",
   "metadata": {},
   "source": [
    "CBOW 모델의 학습을 수행하는 일은 손실함수의 값을 가능한 한 작게 만드는 것이다. 그리고 이 때 가중치 <code>매개변수가</code> 우리가 얻고자 하는 <code>단어의 분산 표현</code>인 것이다."
   ]
  },
  {
   "cell_type": "markdown",
   "metadata": {},
   "source": [
    "### 3.5.2 skip-gram 모델"
   ]
  },
  {
   "cell_type": "markdown",
   "metadata": {},
   "source": [
    "* word2vec\n",
    "    * CBOW\n",
    "    * skip-gram\n",
    "* <code>CBOW 모델</code>은 여러개의 맥락이 있고, 맥락으로부터 중앙의 단어(타겟)을 추측한다.\n",
    "* 한편 <code>skip-gram</code> 모델은 중앙의 단어(타깃)로부터 주변의 여러 단어(맥락)을 추측한다."
   ]
  },
  {
   "cell_type": "markdown",
   "metadata": {},
   "source": [
    "📌 &lt;Break Point!&gt;<br>\n",
    "* 간단한 식사 후 계속!!"
   ]
  },
  {
   "cell_type": "markdown",
   "metadata": {},
   "source": [
    "### 3.5.3 통계 기반 vs. 추론 기반"
   ]
  },
  {
   "cell_type": "code",
   "execution_count": null,
   "metadata": {},
   "outputs": [],
   "source": []
  },
  {
   "cell_type": "markdown",
   "metadata": {},
   "source": [
    "### 3.6 정리"
   ]
  },
  {
   "cell_type": "code",
   "execution_count": null,
   "metadata": {},
   "outputs": [],
   "source": []
  }
 ],
 "metadata": {
  "kernelspec": {
   "display_name": "Python 3",
   "language": "python",
   "name": "python3"
  },
  "language_info": {
   "codemirror_mode": {
    "name": "ipython",
    "version": 3
   },
   "file_extension": ".py",
   "mimetype": "text/x-python",
   "name": "python",
   "nbconvert_exporter": "python",
   "pygments_lexer": "ipython3",
   "version": "3.7.6"
  }
 },
 "nbformat": 4,
 "nbformat_minor": 4
}
