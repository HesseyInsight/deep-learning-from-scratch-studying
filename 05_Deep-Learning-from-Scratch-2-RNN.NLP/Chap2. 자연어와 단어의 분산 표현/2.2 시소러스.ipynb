{
 "cells": [
  {
   "cell_type": "markdown",
   "metadata": {},
   "source": [
    "# Chap2. 자연어와 단어의 분산 표현\n",
    "## 2.2 시소러스"
   ]
  },
  {
   "cell_type": "markdown",
   "metadata": {},
   "source": [
    "'단어의 의미'를 나타내는 방법으로 먼저 사람이 직접 단어의 의미를 정의하는 방식을 생각할 수 있다. "
   ]
  },
  {
   "cell_type": "markdown",
   "metadata": {},
   "source": [
    "* 동의어의 예1.<br>\n",
    "car = auto, automibile, machine, motorcar"
   ]
  },
  {
   "cell_type": "markdown",
   "metadata": {},
   "source": [
    "이처럼 모든 단어에 대해 유의어 집합을 만든 다음, 단어들의 관계를 그래프로 표현하여 단어 사이의 연결을 정의할 수 있다."
   ]
  },
  {
   "cell_type": "markdown",
   "metadata": {},
   "source": [
    "* 시소러스를 사용한 예<br>\n",
    "검색 엔진에서 'Automobile'과 'Car'가 유의어임을 알고 있으면 'car'의 검색 결과에 'automobile'의 검색 결과도 포함시켜주면 좋을 것이다."
   ]
  },
  {
   "cell_type": "markdown",
   "metadata": {},
   "source": [
    "### 2.2.1 WordNet"
   ]
  },
  {
   "cell_type": "markdown",
   "metadata": {},
   "source": [
    "자연어 처리 분야에서 가장 유명한 시소러스는 WordNet이다. 프린스턴 대학교에서 1985년부터 구축된 전통 있는 시소러스로 많은 연구와 다양한 자연어 처리 애플리케이션에서 활용되고 있다.\n",
    "\n",
    "* WordNet을 사용하면 \n",
    "    * 유의어를 얻거나 '단어 네트워크'를 이용할 수 있다.\n",
    "    * 또한 단어 네트워크를 사용해 단어 사이의 유사도를 구할 수 있다."
   ]
  },
  {
   "cell_type": "markdown",
   "metadata": {},
   "source": [
    "### 2.2.2 시소러스의 문제점"
   ]
  },
  {
   "cell_type": "markdown",
   "metadata": {},
   "source": [
    "WordNet 시소러스를 사용하면 수많은 단어에 대한 동의어와 계층 구조 등의 관계를 파악할 수 있다. 그리고 이러한 지식을 이용하면 '단어의 의미'를 (간접적으로라도) 컴퓨터에 전달할 수 있다.\n",
    "\n",
    "하지만 이처럼 사람이 수작업으로 레이블링하는 방식에는 크나큰 결점이 존재하낟.\n",
    "\n",
    "* 대표적인 문제점\n",
    "    * 시대 변화에 대응하기 어렵다\n",
    "        * 시대가 변화면서 바뀌는 시소러스들을 끊임 없이 갱신해야 한다.\n",
    "    * 사람을 쓰는 비용이 크다\n",
    "    * 단어의 미묘한 차이를 표현할 수 없다.\n",
    "    \n",
    "이러한 문제점을 피하기 위해 '통계 기반 기법'과 신경망을 사용한 '추론 기반 기법'을 알아볼것이다.<br>\n",
    "이 두 기법에서는 대량의 텍스트 데이터로부터 '단어의 의미'를 자동으로 추출한다.이를 통해 손수 단어를 연결짓는 중노동에서 벗어날 수 있게 된다!"
   ]
  },
  {
   "cell_type": "markdown",
   "metadata": {},
   "source": [
    "* Note<br>\n",
    "자연어 처리뿐만 아니라 이미지 인식에서도 특징(Feature)를 사람이 수동으로 설계하는 일이 오랫동안 계속되었다. 그러다 딥러닝이 실용화 되면서 이미지로부터 원하는 결과를 곧바로 얻을 수 있게 되었다.\n",
    "\n",
    "자연어 처리에서도 이와 같은 일이 벌어지고 있는 것이다."
   ]
  }
 ],
 "metadata": {
  "kernelspec": {
   "display_name": "Python 3",
   "language": "python",
   "name": "python3"
  },
  "language_info": {
   "codemirror_mode": {
    "name": "ipython",
    "version": 3
   },
   "file_extension": ".py",
   "mimetype": "text/x-python",
   "name": "python",
   "nbconvert_exporter": "python",
   "pygments_lexer": "ipython3",
   "version": "3.7.6"
  }
 },
 "nbformat": 4,
 "nbformat_minor": 4
}
