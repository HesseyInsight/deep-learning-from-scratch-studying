{
 "cells": [
  {
   "cell_type": "markdown",
   "metadata": {},
   "source": [
    "# Chap2. 자연어와 단어의 분산 표현\n",
    "자연어 처리의 본질적인 목적은 컴퓨터가 우리의 말을 알아듣게(이해하게) 만드는 것이다.\n",
    "\n",
    "이번 장에서는 **컴퓨터에게 우리 말을 이해시키다는 것의 의미가 무엇인지 알아본다.**<br>\n",
    "또한 어떤 방법들이 존재하는지 알아볼 것이다.\n",
    "\n",
    "본격적인 딥러닝 입문에 앞서 고전적인 기법들(딥러닝 등장 이전의 기법)들을 자세히 살펴보자!"
   ]
  },
  {
   "cell_type": "markdown",
   "metadata": {},
   "source": [
    "또한 이번 장에서는 파이썬으로 텍스트를 다루는 연습도 겸한다. 텍스트를 단어로 분할하는 처리나 단어를 단어 ID로 변환하는 처리 등을 구현한다.\n",
    "\n",
    "이번 장에서 구현하는 함수는 다음 장 이후에서도 이용한다.\n",
    "\n",
    "\"자연어 처리의 세계로 뛰어들어 보자!\""
   ]
  },
  {
   "cell_type": "markdown",
   "metadata": {},
   "source": [
    "## 2.1 자연어 처리란 "
   ]
  },
  {
   "cell_type": "markdown",
   "metadata": {},
   "source": [
    "* 자연어란?<br>\n",
    "한국어와 영어 등 우리가 평소에 쓰는 말을 자연어(natural language)라고 한다."
   ]
  },
  {
   "cell_type": "markdown",
   "metadata": {},
   "source": [
    "* NLP(Natural Language Processing)란?<br>\n",
    "문자 그대로 해석하면 '자연어를 처리하는 분야'이고 '우리의 말을 컴퓨터에게 이해시키기 위한 기술(분야)'이다.<br>\n",
    "\n",
    "* 자연어 처리가 추구하는 목표는?<br>\n",
    "자연어 처리가 추구하는 목표는 사람의 말을 컴퓨터가 이해하도록 만들어서, 컴퓨터가 우리에게 도움이 되는 일을 수행하게 하는 것이다."
   ]
  },
  {
   "cell_type": "markdown",
   "metadata": {},
   "source": [
    "* 자연어를 이해함으로써 만들어진 프로그램\n",
    "    * 검색 엔진\n",
    "    * 기계 번역\n",
    "    * 질의 응답 시스템\n",
    "    * IME(입력기 전환)\n",
    "    * 문장 자동요약\n",
    "    * 감정분석\n",
    "    * ..."
   ]
  },
  {
   "cell_type": "markdown",
   "metadata": {},
   "source": [
    "### 2.1.1 단어의 의미"
   ]
  },
  {
   "cell_type": "markdown",
   "metadata": {},
   "source": [
    "우리의 말은 '문자'로 구성되며, 말의 의미는 '단어'로 구성된다. 단어는 말하자면 의미의 최소 단위인 셈이다.\n",
    "\n",
    "자연어를 컴퓨터에게 이해시키는 데는 무엇보다 **'단어의 의미'를 이해시키는 것**이 중요하다."
   ]
  },
  {
   "cell_type": "markdown",
   "metadata": {},
   "source": [
    "* 단어의 의미 이해시키기 \n",
    "    * 시소러스를 활용한 기법\n",
    "    * 통계 기반 기법\n",
    "    * 추론 기반 기법"
   ]
  },
  {
   "cell_type": "markdown",
   "metadata": {},
   "source": [
    "* 시소러스<br>\n",
    "    사람의 손으로 만든 시소러스(Thesaurus(유의어 사전))을 이용하는 방법을 우선 살펴본다"
   ]
  }
 ],
 "metadata": {
  "kernelspec": {
   "display_name": "Python 3",
   "language": "python",
   "name": "python3"
  },
  "language_info": {
   "codemirror_mode": {
    "name": "ipython",
    "version": 3
   },
   "file_extension": ".py",
   "mimetype": "text/x-python",
   "name": "python",
   "nbconvert_exporter": "python",
   "pygments_lexer": "ipython3",
   "version": "3.7.6"
  }
 },
 "nbformat": 4,
 "nbformat_minor": 4
}
