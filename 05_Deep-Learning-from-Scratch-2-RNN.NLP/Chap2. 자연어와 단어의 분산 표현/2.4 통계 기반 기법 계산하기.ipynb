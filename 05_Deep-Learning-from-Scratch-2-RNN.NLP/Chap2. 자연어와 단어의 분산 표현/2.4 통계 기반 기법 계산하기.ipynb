{
 "cells": [
  {
   "cell_type": "markdown",
   "metadata": {},
   "source": [
    "# Chap2. 자연어와 단어의 분산 표현\n",
    "## 2.4 통계 기반 기법 개선하기\n",
    "\n",
    "앞 절에서 생성한 동시 발생 행렬(co-occurence matrix) 개선 및 실용적인 말뭉치를 사용한 '진짜'단어의 분산 표현 구현하기"
   ]
  },
  {
   "cell_type": "markdown",
   "metadata": {},
   "source": [
    "### 2.4.1 상호정보량"
   ]
  },
  {
   "cell_type": "markdown",
   "metadata": {},
   "source": [
    "앞서 살펴본 co-occurence matrix에서 행렬의 원소는 두 단어가 동시에 발생한 횟수를 나타낸다. 그러나 이 '발생 횟수'는 사실 그리 좋은 특징이 아니다.\n",
    "\n",
    "문서에서 'the car'라는 문구가 자주보인다.그렇다면 'the'와 'car'의 동시 발생 횟수 또한 높을 것이다.<br>\n",
    "한편 'car'와 'drive'는 확실히 관련이 깊다. 하지만 단순 등장 횟수(동시 발생 횟수 등)만 보면 'car'는 'drive'보다는 'the'와의 관련성이 훨씬 강하다고 나올 것이다.\n",
    "\n",
    "이 문제를 해결하기 위해 점별 상호정보량(Pointwise Mutual Information(PMI))라는 척도를 사용한다.<br>\n",
    "(확률에 관해서는 3.5.1 CBOW 모델과 확률 절에서 자세히 설명한다)"
   ]
  },
  {
   "cell_type": "code",
   "execution_count": 1,
   "metadata": {},
   "outputs": [],
   "source": [
    "# library import\n",
    "\n",
    "import numpy as np"
   ]
  },
  {
   "cell_type": "code",
   "execution_count": 2,
   "metadata": {},
   "outputs": [],
   "source": [
    "## Do-it common/utils ppmi()\n",
    "\n",
    "def ppmi(C, verbose=False, eps=1e-8):\n",
    "    M = np.zeros_like(C, dtype=np.float32)\n",
    "    N = np.sum(C)\n",
    "    S = np.sum(C, axis=0)\n",
    "    total = C.shape[0] * C.shape[1]\n",
    "    cnt = 0\n",
    "    \n",
    "    for i in range(C.shape[0]):\n",
    "        for j in range(C.shape[1]):\n",
    "            pmi = np.log2(C[i,j] * N / (S[j]*S[i]) + eps)  # ??\n",
    "                                                           # S[j] 전체 corpus에서 j가 발생한 횟수\n",
    "                                                           # C(j)\n",
    "                                                           # S[i]도 마찬가지이다.\n",
    "            M[i, j] = max(0, pmi)\n",
    "            \n",
    "            if verbose:\n",
    "                cnt += 1\n",
    "                if cnt % (total//100) == 0:\n",
    "                    print('%.1f%%완료' % (100*cnt/total))\n"
   ]
  },
  {
   "cell_type": "markdown",
   "metadata": {},
   "source": [
    "---\n",
    "Break! common/utils.py 구현하고 오기 \n",
    "\n",
    "---"
   ]
  },
  {
   "cell_type": "code",
   "execution_count": 3,
   "metadata": {},
   "outputs": [
    {
     "name": "stdout",
     "output_type": "stream",
     "text": [
      "동시 발생 행렬\n",
      "[[0 1 0 0 0 0]\n",
      " [1 0 1 0 1 1]\n",
      " [0 1 0 1 0 0]\n",
      " [0 0 1 0 1 0]\n",
      " [0 1 0 1 0 0]\n",
      " [0 1 0 0 0 0]]\n",
      "--------------------------------------------------\n",
      "PPMI\n",
      "[[0.    1.585 0.    0.    0.    0.   ]\n",
      " [1.585 0.    0.585 0.    0.585 1.585]\n",
      " [0.    0.585 0.    1.585 0.    0.   ]\n",
      " [0.    0.    1.585 0.    1.585 0.   ]\n",
      " [0.    0.585 0.    1.585 0.    0.   ]\n",
      " [0.    1.585 0.    0.    0.    0.   ]]\n"
     ]
    }
   ],
   "source": [
    "import sys\n",
    "sys.path.append('..')\n",
    "import numpy as np\n",
    "from common.util import preprocess, create_co_matrix, cos_similarity, ppmi\n",
    "\n",
    "text = 'You say goodbye and I say hello'\n",
    "corpus, wor_to_id, id_to_word = preprocess(text)\n",
    "vocab_size = len(wor_to_id)\n",
    "C = create_co_matrix(corpus, vocab_size)\n",
    "W = ppmi(C)\n",
    "\n",
    "np.set_printoptions(precision=3)  # 유효 자릿수를 세 자리로 표시\n",
    "print('동시 발생 행렬')\n",
    "print(C)\n",
    "print('-'*50)\n",
    "print('PPMI')\n",
    "print(W)"
   ]
  },
  {
   "cell_type": "markdown",
   "metadata": {},
   "source": [
    "왜때문에 PPMI 출력값이 None로 나오는거지??<br>\n",
    "==> 수정 완료 -20.03.22.am 00:26-"
   ]
  },
  {
   "cell_type": "markdown",
   "metadata": {},
   "source": [
    "* PPMI(Positive Pointwise Mutual Information)행렬의 문제점\n",
    "    * 1. 말뭉치의 어휘 수가 증가함에 따라 각 단어 벡터의 차원 수도 증가한다는 문제가있다.\n",
    "    * 2. 원소 대부분이 0이다. \n",
    "        * 이는 벡터 원소 대부분이 중요하지 않다는 뜻이다.\n",
    "        * 각 원소의 '중요도'가 낮다는 뜻이다.\n",
    "        * 이런 벡터는(중요도가 낮은 벡터) 노이즈에 약하고 견고하지 못하다는 약점이 있다.\n",
    "        * 이 문제를 해결하고자 수행하는 기법이 바로 **벡터의 차원 감소**이다."
   ]
  },
  {
   "cell_type": "markdown",
   "metadata": {},
   "source": [
    "### 2.4.2 차원 감소"
   ]
  },
  {
   "cell_type": "markdown",
   "metadata": {},
   "source": [
    "* 차원 감소(Dimensionality Reduction)는 문자 그대로 벡터의 차원을 줄이는 방법을 말한다. \n",
    "    * 여기서 중요한 점은 단순히 차원을 줄이는 것이 아니라, '중요한 정보'는 최대한 유지하면서 줄이는 게 핵심이다.\n",
    "    * 직관적인 예로는 데이터의 분포를 고려해 중요한 '축'을 찾는 일을 수행하는 것이 있다."
   ]
  },
  {
   "cell_type": "markdown",
   "metadata": {},
   "source": [
    "[X][To-do] ===== 그림 첨부 -- 2차원 데이터 1차원 표현 -- ===="
   ]
  },
  {
   "cell_type": "markdown",
   "metadata": {},
   "source": [
    "* 차원 감소의 핵심\n",
    "    * 차원 감소의 핵심은 '    '이다.<br>\n",
    "    => 차원 감소의 핵심은 Sparse Matrix(or Sparse Vector)(희소 행렬 또는 희소 벡터)에서 중요한 축을 찾아내어 더 적은 차원으로 다시 표현하는 것이다.<br>\n",
    "    * 차원 감소 결과 원래의 희소벡터는 원소 대부분이 0이 아닌 값으로 구성된 '밀집벡터'로 변환된다."
   ]
  },
  {
   "cell_type": "markdown",
   "metadata": {},
   "source": [
    "차원 감소 방법에는 여러 방법이 있지만 우선은 SVD(Singular Value Decomposition)을 이용한다."
   ]
  },
  {
   "cell_type": "markdown",
   "metadata": {},
   "source": [
    "### 2.4.3 SVD에 의한 차원 감소"
   ]
  },
  {
   "cell_type": "markdown",
   "metadata": {},
   "source": [
    "SVD를 파이썬 코드로 살펴보자.<br>\n",
    "SVD는 넘파이의 linalg 모듈이 제공하는 svd 메서드로 실행할 수 있다.\n",
    "\n",
    "동시 발생 행렬(co-occurunce matrix)를 만들어 PPMI행렬로 변환한 다음 SVD를 적용해보도록하자."
   ]
  },
  {
   "cell_type": "code",
   "execution_count": 6,
   "metadata": {},
   "outputs": [],
   "source": [
    "import sys\n",
    "sys.path.append('..')\n",
    "import numpy as np\n",
    "import matplotlib.pyplot as plt\n",
    "from common.util import preprocess, create_co_matrix, ppmi\n",
    "\n",
    "text = 'You say goodbye and I say hello'\n",
    "corpus, wor_to_id, id_to_word = preprocess(text)\n",
    "vocab_size = len(id_to_word)\n",
    "C = create_co_matrix(corpus, vocab_size, window_size=1)\n",
    "W = ppmi(C)\n",
    "\n",
    "# SVD\n",
    "U, S, V = np.linalg.svd(W)  # NumPy linalg모듈의 svd메서드"
   ]
  },
  {
   "cell_type": "code",
   "execution_count": 8,
   "metadata": {},
   "outputs": [
    {
     "name": "stdout",
     "output_type": "stream",
     "text": [
      "[0 1 0 0 0 0]\n",
      "[0.    1.585 0.    0.    0.    0.   ]\n",
      "[-0.452  0.     0.    -0.543  0.183 -0.683]\n"
     ]
    }
   ],
   "source": [
    "print(C[0])  # 동시 발생 행렬\n",
    "\n",
    "print(W[0])  # PPMI 행렬\n",
    "\n",
    "print(U[0])  # SVD\n",
    "             # 이 코드에서 SVD에 의해 변환된 밀집벡터 표현은 변수 U에 저장된다."
   ]
  },
  {
   "cell_type": "markdown",
   "metadata": {},
   "source": [
    "결과에서 볼 수 있듯이 원래의 희소벡터인 W[0]가 SVD에 의해 밀집벡터U[0]로 변했다.\n",
    "\n",
    "그리고 이 밀집벡터의 차원을 감소시키려면, 예컨데 2차원 벡터로 줄이려면 단순히 처음의 두 원소를 꺼내면 된다."
   ]
  },
  {
   "cell_type": "code",
   "execution_count": 10,
   "metadata": {},
   "outputs": [
    {
     "name": "stdout",
     "output_type": "stream",
     "text": [
      "[-0.452  0.   ]\n"
     ]
    }
   ],
   "source": [
    "print(U[0, :2])"
   ]
  },
  {
   "cell_type": "markdown",
   "metadata": {},
   "source": [
    "각 단어를 2차원 벡터로 표현한 후 그래프로 그려보자"
   ]
  },
  {
   "cell_type": "code",
   "execution_count": 13,
   "metadata": {},
   "outputs": [
    {
     "data": {
      "image/png": "[encoded data removed]",
      "text/plain": [
       "<Figure size 432x288 with 1 Axes>"
      ]
     },
     "metadata": {
      "needs_background": "light"
     },
     "output_type": "display_data"
    }
   ],
   "source": [
    "# SVD에 의해 각 단어들을 2차원 벡터로 표현한다\n",
    "# 2차원 벡터값을 그래프로 확인해보자.\n",
    "\n",
    "for word, word_id in wor_to_id.items():\n",
    "    plt.annotate(word, (U[word_id, 0], U[word_id, 1]))\n",
    "    \n",
    "plt.scatter(U[:, 0], U[:, 1], alpha=0.5)\n",
    "plt.show()"
   ]
  },
  {
   "cell_type": "markdown",
   "metadata": {},
   "source": [
    "goodbye와 hello 그리고 and와 say가 비슷한 단어로 분류되고 있다.<br>\n",
    "corpus의 크기가 아직은 작기 때문에 더 큰 데이터 셋(말뭉치)을 활용하여 실험을 해 볼 필요가 있다. "
   ]
  },
  {
   "cell_type": "markdown",
   "metadata": {},
   "source": [
    "### 2.4.4 PTB 데이터셋"
   ]
  },
  {
   "cell_type": "markdown",
   "metadata": {},
   "source": [
    "이제 '본격적인'말뭉치를 가지고 실험을 해보자. **펜 트리뱅크(Penn Treebank(PTB))** Corpus를 활용해 실험을 해보자."
   ]
  },
  {
   "cell_type": "code",
   "execution_count": null,
   "metadata": {},
   "outputs": [],
   "source": []
  },
  {
   "cell_type": "code",
   "execution_count": null,
   "metadata": {},
   "outputs": [],
   "source": []
  },
  {
   "cell_type": "markdown",
   "metadata": {},
   "source": [
    "### 2.4.5 PTB 데이터셋 평가"
   ]
  },
  {
   "cell_type": "code",
   "execution_count": null,
   "metadata": {},
   "outputs": [],
   "source": []
  }
 ],
 "metadata": {
  "kernelspec": {
   "display_name": "Python 3",
   "language": "python",
   "name": "python3"
  },
  "language_info": {
   "codemirror_mode": {
    "name": "ipython",
    "version": 3
   },
   "file_extension": ".py",
   "mimetype": "text/x-python",
   "name": "python",
   "nbconvert_exporter": "python",
   "pygments_lexer": "ipython3",
   "version": "3.7.6"
  }
 },
 "nbformat": 4,
 "nbformat_minor": 4
}
