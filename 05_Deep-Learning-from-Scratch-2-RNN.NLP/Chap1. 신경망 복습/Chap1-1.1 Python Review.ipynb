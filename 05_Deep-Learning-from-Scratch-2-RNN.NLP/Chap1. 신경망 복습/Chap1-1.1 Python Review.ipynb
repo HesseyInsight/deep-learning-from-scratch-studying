{
 "cells": [
  {
   "cell_type": "markdown",
   "metadata": {},
   "source": [
    "# Chap1 신경망 복습\n",
    "* 이번장에서는 지난 1권에서 다뤘던 신경망에 대해 복습을 한다.\n",
    "* 신경망에 대한 기본을 다져보자"
   ]
  },
  {
   "cell_type": "markdown",
   "metadata": {},
   "source": [
    "## #1.1 수학과 파이썬 복습"
   ]
  },
  {
   "cell_type": "markdown",
   "metadata": {},
   "source": [
    "### #1.1.1 벡터와 행렬\n",
    "* 벡터는 크기와 방향을 가진 양이다.\n",
    "    * '벡터'는 숫자가 일열로 늘어선 집합으로 표현할 수 있으며 파이썬에서는 1차원 배열로 취급할 수 있다.\n",
    "    * '행렬'은 숫자가 2차원 형태로(사각형 형상으로) 늘어선 것이다.\n",
    "* 벡터의 표현 방법에 주목하자\n",
    "    * 열벡터: 숫자들을 세로로 나열한다. 수학, 딥러닝 등에서 '열벡터'방식을 선호한다.\n",
    "    * 행벡터: 열벡터와 반대로 숫자들을 가로로 나열한다. 파이썬으로 구현할 때 벡터를 (가로 방향)행렬로 변환해 사용하면 명확해진다."
   ]
  },
  {
   "cell_type": "code",
   "execution_count": 2,
   "metadata": {},
   "outputs": [
    {
     "name": "stdout",
     "output_type": "stream",
     "text": [
      "x의 class:  <class 'numpy.ndarray'>\n",
      "x의 shape:  (3,)\n",
      "x의... 차원(Dimension):  1\n"
     ]
    }
   ],
   "source": [
    "import numpy as np\n",
    "\n",
    "x = np.array([1, 2, 3])\n",
    "print('x의 class: ', x.__class__)\n",
    "print('x의 shape: ', x.shape)\n",
    "print('x의... 차원(Dimension): ', x.ndim)"
   ]
  },
  {
   "cell_type": "code",
   "execution_count": 4,
   "metadata": {},
   "outputs": [
    {
     "name": "stdout",
     "output_type": "stream",
     "text": [
      "행렬 W의 class:  <class 'numpy.ndarray'>\n",
      "행렬 W의 shape:  (2, 3)\n",
      "행렬 W의 차원(Dimension):  2\n"
     ]
    }
   ],
   "source": [
    "W = np.array([[1, 2, 3], [4, 5, 6]])\n",
    "print('행렬 W의 class: ', W.__class__)\n",
    "print('행렬 W의 shape: ', W.shape)\n",
    "print('행렬 W의 차원(Dimension): ', W.ndim)"
   ]
  },
  {
   "cell_type": "markdown",
   "metadata": {},
   "source": [
    "벡터와 행열은 NumPy 패키지의 np.array()메서드로 생성할 수 있다.<br>\n",
    "이 메서드는 넘파이의 다차원 배열 클래스인 'np.ndarray'를 생성한다.<br>\n",
    "np.ndarray클래스에는 다양한 편의 메서드와 인스턴스 변수가 준비되어있다.\n",
    "\n",
    "위에서 사용한 shape, ndim외에도..."
   ]
  },
  {
   "cell_type": "code",
   "execution_count": 6,
   "metadata": {},
   "outputs": [
    {
     "data": {
      "text/plain": [
       "dtype('int32')"
      ]
     },
     "execution_count": 6,
     "metadata": {},
     "output_type": "execute_result"
    }
   ],
   "source": [
    "W.dtype # Data-type of the array’s elements."
   ]
  },
  {
   "cell_type": "code",
   "execution_count": 9,
   "metadata": {},
   "outputs": [
    {
     "data": {
      "text/plain": [
       "6"
      ]
     },
     "execution_count": 9,
     "metadata": {},
     "output_type": "execute_result"
    }
   ],
   "source": [
    "W.size # Number of elements in the array."
   ]
  },
  {
   "cell_type": "markdown",
   "metadata": {},
   "source": [
    "... 더 많은 정보는\n",
    "\n",
    "https://docs.scipy.org/doc/numpy/reference/generated/numpy.ndarray.html"
   ]
  },
  {
   "cell_type": "markdown",
   "metadata": {},
   "source": [
    "## #1.1.2 행렬의 원소별 연산"
   ]
  },
  {
   "cell_type": "code",
   "execution_count": 11,
   "metadata": {},
   "outputs": [
    {
     "name": "stdout",
     "output_type": "stream",
     "text": [
      "W + X: \n",
      "[[ 1  3  5]\n",
      " [ 7  9 11]]\n",
      "W * X:\n",
      "[[ 0  2  6]\n",
      " [12 20 30]]\n"
     ]
    },
    {
     "ename": "ValueError",
     "evalue": "shapes (2,3) and (2,3) not aligned: 3 (dim 1) != 2 (dim 0)",
     "output_type": "error",
     "traceback": [
      "\u001b[1;31m---------------------------------------------------------------------------\u001b[0m",
      "\u001b[1;31mValueError\u001b[0m                                Traceback (most recent call last)",
      "\u001b[1;32m<ipython-input-11-d3778b2d490e>\u001b[0m in \u001b[0;36m<module>\u001b[1;34m\u001b[0m\n\u001b[0;32m      5\u001b[0m \u001b[0mprint\u001b[0m\u001b[1;33m(\u001b[0m\u001b[1;34m'W * X:'\u001b[0m\u001b[1;33m)\u001b[0m\u001b[1;33m\u001b[0m\u001b[1;33m\u001b[0m\u001b[0m\n\u001b[0;32m      6\u001b[0m \u001b[0mprint\u001b[0m\u001b[1;33m(\u001b[0m\u001b[0mW\u001b[0m\u001b[1;33m*\u001b[0m\u001b[0mX\u001b[0m\u001b[1;33m)\u001b[0m\u001b[1;33m\u001b[0m\u001b[1;33m\u001b[0m\u001b[0m\n\u001b[1;32m----> 7\u001b[1;33m \u001b[0mprint\u001b[0m\u001b[1;33m(\u001b[0m\u001b[1;34m'W dot X: '\u001b[0m\u001b[1;33m,\u001b[0m \u001b[0mnp\u001b[0m\u001b[1;33m.\u001b[0m\u001b[0mdot\u001b[0m\u001b[1;33m(\u001b[0m\u001b[0mW\u001b[0m\u001b[1;33m,\u001b[0m \u001b[0mX\u001b[0m\u001b[1;33m)\u001b[0m\u001b[1;33m)\u001b[0m\u001b[1;33m\u001b[0m\u001b[1;33m\u001b[0m\u001b[0m\n\u001b[0m",
      "\u001b[1;32m<__array_function__ internals>\u001b[0m in \u001b[0;36mdot\u001b[1;34m(*args, **kwargs)\u001b[0m\n",
      "\u001b[1;31mValueError\u001b[0m: shapes (2,3) and (2,3) not aligned: 3 (dim 1) != 2 (dim 0)"
     ]
    }
   ],
   "source": [
    "W = np.array([[1, 2, 3], [4, 5, 6]])\n",
    "X = np.array([[0, 1, 2], [3, 4, 5]])\n",
    "print('W + X: ')\n",
    "print(W+X)\n",
    "print('W * X:')\n",
    "print(W*X)\n",
    "print('W dot X: ', np.dot(W, X))"
   ]
  },
  {
   "cell_type": "markdown",
   "metadata": {},
   "source": [
    "np.dot() 즉, 벡터의 내적의 경우 피연산자의 형상이 같아야한다. 뒤에서 다룰 것이다."
   ]
  },
  {
   "cell_type": "markdown",
   "metadata": {},
   "source": [
    "### #1.1.3브로드캐스트\n",
    "넘파이 다차원 배열에서는 형상이 다른 배열끼리도 연산할 수 있다."
   ]
  },
  {
   "cell_type": "code",
   "execution_count": 12,
   "metadata": {},
   "outputs": [
    {
     "name": "stdout",
     "output_type": "stream",
     "text": [
      "[[10 20]\n",
      " [30 40]]\n"
     ]
    }
   ],
   "source": [
    "A = np.array([[1, 2], [3, 4]])\n",
    "print(A*10)"
   ]
  },
  {
   "cell_type": "markdown",
   "metadata": {},
   "source": [
    "스칼라 값 10이 2x2행렬로 확장된 후에 원소별 연산을 수행한다."
   ]
  },
  {
   "cell_type": "code",
   "execution_count": 17,
   "metadata": {},
   "outputs": [
    {
     "data": {
      "text/plain": [
       "array([[10, 40],\n",
       "       [30, 80]])"
      ]
     },
     "execution_count": 17,
     "metadata": {},
     "output_type": "execute_result"
    }
   ],
   "source": [
    "# 넘파이 브로드캐스트의 또다른 예\n",
    "\n",
    "A = np.array([[1, 2], [3, 4]])\n",
    "B = np.array([10, 20])\n",
    "A*B # [[10, 40], [30, 80]]"
   ]
  },
  {
   "cell_type": "markdown",
   "metadata": {},
   "source": [
    "### #1.1.4 벡터의 내적과 행렬의 곱"
   ]
  },
  {
   "cell_type": "markdown",
   "metadata": {},
   "source": [
    "* 벡터의 내적\n",
    "\n",
    "\n",
    "벡터의 내적은 두 벡터에서 대응하는 원소들의 곱을 모두 더한 것이다.\n",
    "\n",
    "x.y = x1y1 + x2y2 + ... + xnyn\n",
    "\n",
    "벡터의 내적은 직관적으로는 '두 벡터가 얼마나 같은 방향을 향하고 있는가를 나타낸다.'"
   ]
  },
  {
   "cell_type": "markdown",
   "metadata": {},
   "source": [
    "* 행렬 곱\n",
    "\n",
    "행렬의 곱은 '왼쪽 행렬의 행벡터와 오른쪽 행렬의 열벡터의 내적으로 계산한다.<br>\n",
    "그 결과는 새로운 행렬의 대응하는 원소에 저장된다."
   ]
  },
  {
   "cell_type": "code",
   "execution_count": 23,
   "metadata": {},
   "outputs": [
    {
     "name": "stdout",
     "output_type": "stream",
     "text": [
      "벡터의 내적:  32\n",
      "행렬의 곱: \n",
      "[[19 22]\n",
      " [43 50]]\n"
     ]
    }
   ],
   "source": [
    "#벡터의 내적\n",
    "a = np.array([1, 2, 3])\n",
    "b = np.array([4, 5, 6])\n",
    "print('벡터의 내적: ', np.dot(a, b))\n",
    "\n",
    "# 행렬의 곱\n",
    "A = np.array([[1, 2], [3, 4]])\n",
    "B = np.array([[5, 6], [7, 8]])\n",
    "print('행렬의 곱: ')\n",
    "print(np.matmul(A, B))"
   ]
  },
  {
   "cell_type": "code",
   "execution_count": 24,
   "metadata": {},
   "outputs": [
    {
     "data": {
      "text/plain": [
       "array([[19, 22],\n",
       "       [43, 50]])"
      ]
     },
     "execution_count": 24,
     "metadata": {},
     "output_type": "execute_result"
    }
   ],
   "source": [
    "# np.dot으로도 행렬의 곱을 구하 수 있다.\n",
    "np.dot(A, B)"
   ]
  },
  {
   "cell_type": "code",
   "execution_count": 25,
   "metadata": {},
   "outputs": [
    {
     "data": {
      "text/plain": [
       "array([[ True,  True],\n",
       "       [ True,  True]])"
      ]
     },
     "execution_count": 25,
     "metadata": {},
     "output_type": "execute_result"
    }
   ],
   "source": [
    "np.matmul(A, B) == np.dot(A, B)"
   ]
  },
  {
   "cell_type": "markdown",
   "metadata": {},
   "source": [
    "## #1.2 신경망의 추론\n",
    "신경망에서 수행하는 작업은 두 단계로 나눌 수 있다. 이번 절에서는 '추론'에 집중해보자"
   ]
  },
  {
   "cell_type": "code",
   "execution_count": 29,
   "metadata": {},
   "outputs": [],
   "source": [
    "# 완전연결계층에 의한 변환의 미니배치를 적용한 예시\n",
    "\n",
    "import numpy as np\n",
    "\n",
    "W1 = np.random.randn(2, 4)  # 가중치\n",
    "b1 = np.random.randn(4)     # 편향\n",
    "x = np.random.randn(10, 2)  #  입력\n",
    "h = np.matmul(x, W1) + b1"
   ]
  },
  {
   "cell_type": "code",
   "execution_count": 27,
   "metadata": {},
   "outputs": [
    {
     "name": "stdout",
     "output_type": "stream",
     "text": [
      "[[ 0.88174233  0.59653774  2.07535792  0.90319354]\n",
      " [ 0.72876231  0.8333473   0.15289992  0.98194665]\n",
      " [ 0.41615272  1.26164724  2.56441836  1.16809538]\n",
      " [-0.02877447  1.90993692  1.58426599  1.4154832 ]\n",
      " [ 0.53199899  1.1327597  -1.73006867  1.08558484]\n",
      " [ 1.14518175  0.23014356  0.66574824  0.74880063]\n",
      " [ 1.11594529  0.26047518  1.99992125  0.77061994]\n",
      " [ 0.99568468  0.44318764  0.88174482  0.83409302]\n",
      " [ 0.90008081  0.59953237 -1.27184996  0.87952172]\n",
      " [ 1.13531675  0.2466154   0.40485407  0.75333441]]\n"
     ]
    }
   ],
   "source": [
    "print(h)"
   ]
  },
  {
   "cell_type": "code",
   "execution_count": 28,
   "metadata": {},
   "outputs": [
    {
     "name": "stdout",
     "output_type": "stream",
     "text": [
      "(10, 4)\n"
     ]
    }
   ],
   "source": [
    "print(h.shape)"
   ]
  },
  {
   "cell_type": "markdown",
   "metadata": {},
   "source": [
    "그런데 완전연결계층에 의한 변환은 '선형 변환'이다.\n",
    "\n",
    "여기에 '비선형 효과'를 부여하는 것이 바로 활성화함수(Activation Function)이다.\n",
    "\n",
    "비선형 활성화 함수를 이용함으로써 신경망의 표현력을 높일 수 있다. 이번 예제에서는 시그모이드 함수(Sigmoid Function)을 활성화 함수로 사용한다."
   ]
  },
  {
   "cell_type": "markdown",
   "metadata": {},
   "source": [
    "![Image of Sigmoid](https://www.researchgate.net/profile/Knut_Kvaal/publication/239269767/figure/fig2/AS:643520205430784@1530438581076/An-illustration-of-the-signal-processing-in-a-sigmoid-function.png)"
   ]
  },
  {
   "cell_type": "markdown",
   "metadata": {},
   "source": [
    "시그모이드 함수는 임의의 실수를 입력받아 0에서 1사이의 실수를 출력한다."
   ]
  },
  {
   "cell_type": "code",
   "execution_count": 30,
   "metadata": {},
   "outputs": [],
   "source": [
    "# sigmoid 함수 구현하기\n",
    "\n",
    "def sigmoid(x):\n",
    "    return 1 / (1 + np.exp(-x))"
   ]
  },
  {
   "cell_type": "code",
   "execution_count": 31,
   "metadata": {},
   "outputs": [
    {
     "data": {
      "text/plain": [
       "array([[0.19435155, 0.13896099, 0.64103184, 0.28610755],\n",
       "       [0.44792088, 0.0415743 , 0.15031754, 0.089807  ],\n",
       "       [0.73224547, 0.18710246, 0.24477309, 0.14574096],\n",
       "       [0.21287667, 0.10048206, 0.53072217, 0.23039785],\n",
       "       [0.8102651 , 0.27666357, 0.26763696, 0.16304967],\n",
       "       [0.83859031, 0.50466505, 0.44680207, 0.25297207],\n",
       "       [0.71514678, 0.12000515, 0.17269779, 0.11181037],\n",
       "       [0.11873739, 0.00474848, 0.08519848, 0.04944866],\n",
       "       [0.25432433, 0.02463839, 0.17825731, 0.09263722],\n",
       "       [0.32995943, 0.36203276, 0.76973396, 0.39856178]])"
      ]
     },
     "execution_count": 31,
     "metadata": {},
     "output_type": "execute_result"
    }
   ],
   "source": [
    "a = sigmoid(h)\n",
    "a"
   ]
  },
  {
   "cell_type": "code",
   "execution_count": 33,
   "metadata": {},
   "outputs": [
    {
     "name": "stdout",
     "output_type": "stream",
     "text": [
      "[[-1.3521489   1.697994   -5.39224939]\n",
      " [-1.80747326  1.79944235 -5.6458211 ]\n",
      " [-1.26203609  1.67536623 -5.33793471]\n",
      " [-1.72841262  0.10900109 -2.64505646]\n",
      " [-2.35120209  0.36840324 -3.19148659]\n",
      " [-2.50011737  1.17202553 -4.72369356]\n",
      " [-2.42100912  1.40541845 -5.11525249]\n",
      " [-2.15029851  1.62745384 -5.431468  ]\n",
      " [-2.22930528  1.69013039 -5.54937348]\n",
      " [-1.81383704  1.30013304 -4.79562259]]\n"
     ]
    }
   ],
   "source": [
    "import numpy as np\n",
    "\n",
    "def sigmoid(x):\n",
    "    return 1 / (1 + np.exp(-x))\n",
    "\n",
    "x = np.random.randn(10, 2)\n",
    "W1 = np.random.randn(2, 4)\n",
    "b1 = np.random.randn(4)\n",
    "W2 = np.random.randn(4, 3)\n",
    "b2 = np.random.randn(3)\n",
    "\n",
    "h1 = np.dot(x, W1)  + b1\n",
    "a1 = sigmoid(h1)\n",
    "h2 = np.dot(a1, W2) + b2\n",
    "print(h2)"
   ]
  },
  {
   "cell_type": "code",
   "execution_count": null,
   "metadata": {},
   "outputs": [],
   "source": []
  }
 ],
 "metadata": {
  "kernelspec": {
   "display_name": "Python 3",
   "language": "python",
   "name": "python3"
  },
  "language_info": {
   "codemirror_mode": {
    "name": "ipython",
    "version": 3
   },
   "file_extension": ".py",
   "mimetype": "text/x-python",
   "name": "python",
   "nbconvert_exporter": "python",
   "pygments_lexer": "ipython3",
   "version": "3.7.4"
  }
 },
 "nbformat": 4,
 "nbformat_minor": 4
}
