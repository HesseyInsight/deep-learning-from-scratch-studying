{
 "cells": [
  {
   "cell_type": "markdown",
   "metadata": {},
   "source": [
    "# 1.5 계산 고속화\n",
    "\n",
    "신경망의 학습과 추론에는 연산량이 상당히 발생한다. 때문에 신경망에서는 얼마나 빠르게 계산을 하느냐가 중요한 주제이다.\n",
    "\n",
    "이번 절에서는 신경망 고속화에 도움이 되는 **'비트 정밀도'**와 **'GPU'**에 관해 가볍게 배워본다."
   ]
  },
  {
   "cell_type": "markdown",
   "metadata": {},
   "source": [
    "## 1.5.1 비트 정밀도"
   ]
  },
  {
   "cell_type": "markdown",
   "metadata": {},
   "source": [
    "넘파이의 부동소수점 수는 기본적으로 64비트 데이터 타입을 사용한다.\n",
    "\n",
    "실제로 64비트 부동소수점 수가 사용되는지는 다음 코드로 확인할 수 있다."
   ]
  },
  {
   "cell_type": "code",
   "execution_count": 1,
   "metadata": {},
   "outputs": [
    {
     "data": {
      "text/plain": [
       "dtype('float64')"
      ]
     },
     "execution_count": 1,
     "metadata": {},
     "output_type": "execute_result"
    }
   ],
   "source": [
    "import numpy as np\n",
    "a = np.random.randn(3)\n",
    "a.dtype"
   ]
  },
  {
   "cell_type": "markdown",
   "metadata": {},
   "source": [
    "이처럼 넘파이 배열의 인스턴스 변수 dtype을 출력해 데이터 타임을 확인할 수 있다. float64는 64비트 부동소수점 수라는 뜻이다."
   ]
  },
  {
   "cell_type": "markdown",
   "metadata": {},
   "source": [
    "**32비트 부동소수점 수 사용하기**<br>\n",
    "NumPy는 64비트 부동소수점 수를 표준으로 사용한다. 그러나 신경망의 추론과 학습은 32비트 부동소수점 수로도 문제없이 학습을 수행할 수 있다. 32비트는 다음의 이점을 가진다.<br>\n",
    "* 메모리 관점에서 32비트는 64비트의 절반이므로 효율적이다\n",
    "* 신경망 계산 시 데이터를 전송하는 '버스 대역폭(bus bandwidth)'이 병목되는 경우 데이터 타입이 작은게 유리하다.\n",
    "* 계산 속도 측면에서 32비트 부동소수점 수가 일반적으로 더 빠르다.<br>\n",
    "\n",
    "이러한 이유로 책에서는 32비트 부동소수점 수를 우선 사용한다."
   ]
  },
  {
   "cell_type": "code",
   "execution_count": 2,
   "metadata": {},
   "outputs": [
    {
     "data": {
      "text/plain": [
       "dtype('float32')"
      ]
     },
     "execution_count": 2,
     "metadata": {},
     "output_type": "execute_result"
    }
   ],
   "source": [
    "b = np.random.randn(3).astype(np.float32)\n",
    "b.dtype"
   ]
  },
  {
   "cell_type": "code",
   "execution_count": 3,
   "metadata": {},
   "outputs": [
    {
     "data": {
      "text/plain": [
       "dtype('float32')"
      ]
     },
     "execution_count": 3,
     "metadata": {},
     "output_type": "execute_result"
    }
   ],
   "source": [
    "c = np.random.randn(3).astype('f')\n",
    "c.dtype"
   ]
  },
  {
   "cell_type": "markdown",
   "metadata": {},
   "source": [
    "**또한 본 책에서는 학습된 가중치를 저장하는 경우에 한해 16비트 부동소수점 수로 변환한다**"
   ]
  },
  {
   "cell_type": "markdown",
   "metadata": {},
   "source": [
    "## 1.5.2 GPU(쿠파이)"
   ]
  },
  {
   "cell_type": "code",
   "execution_count": 3,
   "metadata": {},
   "outputs": [
    {
     "name": "stdout",
     "output_type": "stream",
     "text": "[[0. 1. 2.]\n [3. 4. 5.]]\n"
    }
   ],
   "source": [
    "import cupy as cp\n",
    "x = cp.arange(6).reshape(2, 3).astype('f')\n",
    "print(x)"
   ]
  },
  {
   "cell_type": "code",
   "execution_count": 4,
   "metadata": {},
   "outputs": [
    {
     "data": {
      "text/plain": "array([ 3., 12.], dtype=float32)"
     },
     "execution_count": 4,
     "metadata": {},
     "output_type": "execute_result"
    }
   ],
   "source": [
    "x.sum(axis=1)"
   ]
  },
  {
   "cell_type": "markdown",
   "metadata": {},
   "source": [
    "이와 같이 쿠파이의 사용법은 기본적으로 넘파이와 같다. 사용법은 같지만 뒤에서 열심히 GPU를 사용해 계산하는 것이다.<br>\n",
    "즉 넘파이로 작성한 코드를 'GPU용'으로 변경하기가 아주 쉽다는 것이다 "
   ]
  },
  {
   "cell_type": "markdown",
   "metadata": {},
   "source": [
    "호환되는 GPU를 가지고 있다면 \n",
    "\n",
    "\"config.GPU = True\"라는 한 줄의 코드 수정을 통해 CPU 모드를 GPU모드로 변경할 수 있다.ㅏ"
   ]
  },
  {
   "cell_type": "code",
   "execution_count": null,
   "metadata": {},
   "outputs": [],
   "source": []
  }
 ],
 "metadata": {
  "kernelspec": {
   "display_name": "Python 3",
   "language": "python",
   "name": "python3"
  },
  "language_info": {
   "codemirror_mode": {
    "name": "ipython",
    "version": 3
   },
   "file_extension": ".py",
   "mimetype": "text/x-python",
   "name": "python",
   "nbconvert_exporter": "python",
   "pygments_lexer": "ipython3",
   "version": "3.7.4-final"
  }
 },
 "nbformat": 4,
 "nbformat_minor": 4
}