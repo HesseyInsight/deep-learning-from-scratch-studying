{
 "cells": [
  {
   "cell_type": "markdown",
   "metadata": {},
   "source": [
    "## 1.2 신경망의 추론\n",
    "신경망에서 수행하는 작업은 두 단계로 나눌 수 있다. 이번 절에서는 '추론'에 집중해보자"
   ]
  },
  {
   "cell_type": "code",
   "execution_count": 1,
   "metadata": {},
   "outputs": [],
   "source": [
    "# 완전연결계층에 의한 변환\n",
    "# 미니배치를 적용한 예시\n",
    "\n",
    "import numpy as np\n",
    "\n",
    "W1 = np.random.randn(2, 4)  # 가중치\n",
    "b1 = np.random.randn(4)     # 편향\n",
    "x = np.random.randn(10, 2)  # 입력\n",
    "\n",
    "# 입력노드가 2개일 때, 4개의 출력노드를 갖는 신경망\n",
    "# (10, 2) -> (10, 2) x (2, 4) + (4) = (10, 4)\n",
    "\n",
    "h = np.matmul(x, W1) + b1"
   ]
  },
  {
   "cell_type": "code",
   "execution_count": 2,
   "metadata": {},
   "outputs": [
    {
     "name": "stdout",
     "output_type": "stream",
     "text": [
      "(10, 4)\n"
     ]
    }
   ],
   "source": [
    "print(h.shape)"
   ]
  },
  {
   "cell_type": "code",
   "execution_count": 3,
   "metadata": {},
   "outputs": [
    {
     "name": "stdout",
     "output_type": "stream",
     "text": [
      "[[-1.18015747 -0.02312066  0.93229396 -2.56117088]\n",
      " [-0.30647906  0.3130062   0.55301953 -1.62864453]\n",
      " [-1.99401965 -0.55318815  0.6430953  -3.4794539 ]\n",
      " [-1.213154    0.00615531  1.07091378 -2.58679424]\n",
      " [-0.61430204  0.19277216  0.68129927 -1.95761442]\n",
      " [-1.17609309  0.13588488  1.39679247 -2.52083692]\n",
      " [ 0.53604905  1.65401956  3.19872312 -0.49688024]\n",
      " [-1.14930139 -0.1952873   0.37387247 -2.57031287]\n",
      " [-0.70873655  0.36789181  1.34850518 -2.01006581]\n",
      " [-0.75052694  0.08214213  0.56801582 -2.11632592]]\n"
     ]
    }
   ],
   "source": [
    "print(h)"
   ]
  },
  {
   "cell_type": "markdown",
   "metadata": {},
   "source": [
    "그런데 완전연결계층에 의한 변환은 '선형 변환'이다.\n",
    "\n",
    "여기에 **'비선형 효과'**를 부여하는 것이 바로 **활성화함수(Activation Function)**이다.\n",
    "\n",
    "비선형 활성화 함수를 이용함으로써 신경망의 표현력을 높일 수 있다. 이번 예제에서는 시그모이드 함수(Sigmoid Function)을 활성화 함수로 사용한다."
   ]
  },
  {
   "cell_type": "markdown",
   "metadata": {},
   "source": [
    "![Image of Sigmoid](https://www.researchgate.net/profile/Knut_Kvaal/publication/239269767/figure/fig2/AS:643520205430784@1530438581076/An-illustration-of-the-signal-processing-in-a-sigmoid-function.png)"
   ]
  },
  {
   "cell_type": "markdown",
   "metadata": {},
   "source": [
    "시그모이드 함수는 임의의 실수를 입력받아 0에서 1사이의 실수를 출력한다."
   ]
  },
  {
   "cell_type": "markdown",
   "metadata": {},
   "source": [
    "* 시그모이드 함수 구현하기"
   ]
  },
  {
   "cell_type": "code",
   "execution_count": 4,
   "metadata": {},
   "outputs": [],
   "source": [
    "# sigmoid function\n",
    "\n",
    "def sigmoid(x):\n",
    "    return 1 / (1 + np.exp(-x))"
   ]
  },
  {
   "cell_type": "code",
   "execution_count": 7,
   "metadata": {},
   "outputs": [
    {
     "data": {
      "text/plain": [
       "array([[0.23502388, 0.49422009, 0.71754045, 0.07167959],\n",
       "       [0.42397439, 0.57761887, 0.63483586, 0.16401613],\n",
       "       [0.11983225, 0.36512505, 0.65545282, 0.02990252],\n",
       "       [0.22914346, 0.50153882, 0.74477065, 0.06999317],\n",
       "       [0.35107847, 0.54804435, 0.66402862, 0.12372545],\n",
       "       [0.2357554 , 0.53391904, 0.80167441, 0.07441028],\n",
       "       [0.63089285, 0.83943357, 0.9607862 , 0.3782741 ],\n",
       "       [0.24061671, 0.45133275, 0.59239437, 0.07107365],\n",
       "       [0.32987808, 0.59094947, 0.79388514, 0.11815012],\n",
       "       [0.32070649, 0.52052399, 0.63830521, 0.10752013]])"
      ]
     },
     "execution_count": 7,
     "metadata": {},
     "output_type": "execute_result"
    }
   ],
   "source": [
    "a = sigmoid(h)\n",
    "a"
   ]
  },
  {
   "cell_type": "markdown",
   "metadata": {},
   "source": [
    "* 10개의 데이터를 갖는 2개의 입력노드가있다. 은닉층을 거쳐서 3개의 출력 노드를 갖는 완전신경망을 구현해보자"
   ]
  },
  {
   "cell_type": "code",
   "execution_count": 8,
   "metadata": {},
   "outputs": [
    {
     "name": "stdout",
     "output_type": "stream",
     "text": [
      "[[0.34042506 1.87095788 0.22820835]\n",
      " [0.88737931 1.73249498 0.93608287]\n",
      " [0.55365595 1.93142429 0.36457133]\n",
      " [0.91834243 2.18458366 0.42180521]\n",
      " [0.20868081 1.79041129 0.20930506]\n",
      " [0.75253542 2.15869045 0.26759512]\n",
      " [0.8545556  2.12747722 0.42444608]\n",
      " [0.30314686 1.90181023 0.1313175 ]\n",
      " [0.67146552 1.72012054 0.68864551]\n",
      " [1.03704736 1.83830579 0.96587446]]\n"
     ]
    }
   ],
   "source": [
    "import numpy as np\n",
    "\n",
    "# define sigmoid function\n",
    "def sigmoid(x):\n",
    "    return 1 / (1 + np.exp(-x))\n",
    "\n",
    "# Fully-connected layer\n",
    "x = np.random.randn(10, 2) # np.random.randn(): return the sample(or samples) from standard normal distribution\n",
    "W1 = np.random.randn(2, 4)\n",
    "b1 = np.random.randn(4)\n",
    "W2 = np.random.randn(4, 3)\n",
    "b2 = np.random.randn(3)\n",
    "\n",
    "h1 = np.dot(x, W1) + b1\n",
    "a1 = sigmoid(h1)\n",
    "h2 = np.dot(a1, W2) + b2\n",
    "print(h2)"
   ]
  },
  {
   "cell_type": "code",
   "execution_count": null,
   "metadata": {},
   "outputs": [],
   "source": []
  }
 ],
 "metadata": {
  "kernelspec": {
   "display_name": "Python 3",
   "language": "python",
   "name": "python3"
  },
  "language_info": {
   "codemirror_mode": {
    "name": "ipython",
    "version": 3
   },
   "file_extension": ".py",
   "mimetype": "text/x-python",
   "name": "python",
   "nbconvert_exporter": "python",
   "pygments_lexer": "ipython3",
   "version": "3.7.4"
  }
 },
 "nbformat": 4,
 "nbformat_minor": 4
}
