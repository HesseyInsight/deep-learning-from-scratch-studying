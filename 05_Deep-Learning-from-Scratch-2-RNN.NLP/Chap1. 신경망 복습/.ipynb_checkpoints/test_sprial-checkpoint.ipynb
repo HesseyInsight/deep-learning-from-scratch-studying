{
 "cells": [
  {
   "cell_type": "code",
   "execution_count": 4,
   "metadata": {},
   "outputs": [
    {
     "name": "stdout",
     "output_type": "stream",
     "text": [
      "C:\\Users\\Lee\\Documents\\steve-home\\05_Deep-Learning-from-Scratch-2-RNN.NLP\\Chap1. 신경망 복습\n",
      "['C:\\\\Users\\\\Lee\\\\Documents\\\\steve-home\\\\05_Deep-Learning-from-Scratch-2-RNN.NLP\\\\Chap1. 신경망 복습', 'C:\\\\Users\\\\Lee\\\\Anaconda3\\\\python37.zip', 'C:\\\\Users\\\\Lee\\\\Anaconda3\\\\DLLs', 'C:\\\\Users\\\\Lee\\\\Anaconda3\\\\lib', 'C:\\\\Users\\\\Lee\\\\Anaconda3', '', 'C:\\\\Users\\\\Lee\\\\Anaconda3\\\\lib\\\\site-packages', 'C:\\\\Users\\\\Lee\\\\Anaconda3\\\\lib\\\\site-packages\\\\win32', 'C:\\\\Users\\\\Lee\\\\Anaconda3\\\\lib\\\\site-packages\\\\win32\\\\lib', 'C:\\\\Users\\\\Lee\\\\Anaconda3\\\\lib\\\\site-packages\\\\Pythonwin', 'C:\\\\Users\\\\Lee\\\\Anaconda3\\\\lib\\\\site-packages\\\\IPython\\\\extensions', 'C:\\\\Users\\\\Lee\\\\.ipython', '..', '..', '..', '..']\n",
      "x.shape:  (300, 2)\n",
      "t.shape:  (300, 3)\n"
     ]
    }
   ],
   "source": [
    "#%%\n",
    "# https://brownbears.tistory.com/296\n",
    "# 상위 폴더 내 파일 참조\n",
    "# coding: uft-8\n",
    "\n",
    "import os\n",
    "import sys\n",
    "from matplotlib import pyplot as plt\n",
    "\n",
    "print(sys.path[0])\n",
    "\n",
    "sys.path.append('..')  # 방법1\n",
    "# sys.path.append('C:\\\\Users\\\\Lee\\\\Documents\\\\steve-home\\\\05_Deep-Learning-from-Scratch-2-RNN.NLP') # 방법2\n",
    "print(sys.path)\n",
    "# from dataset import spiral\n",
    "import dataset.spiral as spiral\n",
    "\n",
    "x, t = spiral.load_data()\n",
    "print('x.shape: ', x.shape)\n",
    "print('t.shape: ', t.shape)"
   ]
  },
  {
   "cell_type": "code",
   "execution_count": null,
   "metadata": {},
   "outputs": [],
   "source": []
  }
 ],
 "metadata": {
  "kernelspec": {
   "display_name": "Python 3",
   "language": "python",
   "name": "python3"
  },
  "language_info": {
   "codemirror_mode": {
    "name": "ipython",
    "version": 3
   },
   "file_extension": ".py",
   "mimetype": "text/x-python",
   "name": "python",
   "nbconvert_exporter": "python",
   "pygments_lexer": "ipython3",
   "version": "3.7.4"
  }
 },
 "nbformat": 4,
 "nbformat_minor": 4
}
