{
 "cells": [
  {
   "cell_type": "markdown",
   "metadata": {},
   "source": [
    "\"기본으로 돌아가자\""
   ]
  },
  {
   "cell_type": "markdown",
   "metadata": {},
   "source": [
    "Python sys module, os module\n",
    "\n",
    "library를 import 하기 위해서 경로를 설정하는 방법에 대해 알아보자\n",
    "\n",
    "---\n",
    "복습! 왜때문에 VScode에서는 되지 않는걸까...? -20.03.14.Sat-"
   ]
  },
  {
   "cell_type": "markdown",
   "metadata": {},
   "source": [
    "## 1.모듈"
   ]
  },
  {
   "cell_type": "markdown",
   "metadata": {},
   "source": [
    "* 모듈(Module)이란?"
   ]
  },
  {
   "cell_type": "markdown",
   "metadata": {},
   "source": [
    "\"Module란 파이썬 코드를 논리적으로 묶어 관리하고 사용할 수 있도록 하는 것을 말한다.\"\n",
    "\n",
    "보통 하나의 파이썬 <code>.py</code>파일이 하나의 모듈이 된다. <br>\n",
    "모듈안에는 함수, 클래스, 혹은 변수들이 정의될 수 있으며, 실행 코드를 포함할 수도 있다.<br>\n",
    "<br>\n",
    "\n",
    "파이썬은 기본적으로 상당히 많은 표준 라이브러리 모듈을 제공하고 있으며, 3rd Party에서도 많은 파이썬 모듈들을 제공하고 있다.<br>\n",
    "이러한 모듈들을 사용하기 위해서는 모듈을 import 하여 사용하면 되는데, import 문은 다음과 같이 하나 혹은 복수의 모듈을 불러들일 수 있다."
   ]
  },
  {
   "cell_type": "markdown",
   "metadata": {},
   "source": [
    "<code> import 모듈1[, 모듈2[, ... 모듈N]</code>"
   ]
  },
  {
   "cell_type": "markdown",
   "metadata": {},
   "source": [
    "Math Module예제\n",
    "\n",
    "표준 라이브러리 중 수학과 관련된 함수들을 모아 놓은 \"math\" 모듈을 import 하여 모듈 안에 있는 factorial()함수를 사용하는 예이다."
   ]
  },
  {
   "cell_type": "code",
   "execution_count": 1,
   "metadata": {},
   "outputs": [],
   "source": [
    "import math  # 모듈을 사용하기 위해 import한다.\n",
    "n = math.factorial(5)"
   ]
  },
  {
   "cell_type": "markdown",
   "metadata": {},
   "source": [
    "하나의 모듈 안에는 여러 함수들이 존재할 수 있는데, 이 중 하나의 함수만 불러 사용하기 위해서는 아래와 같이 \"from 모듈명 import 함수명\"라는 표현을 사용할 수 있다."
   ]
  },
  {
   "cell_type": "code",
   "execution_count": 5,
   "metadata": {},
   "outputs": [
    {
     "data": {
      "text/plain": [
       "20.0"
      ]
     },
     "execution_count": 5,
     "metadata": {},
     "output_type": "execute_result"
    }
   ],
   "source": [
    "# math 모듈에서 factorial 함수만 import해보자\n",
    "\n",
    "from math import factorial\n",
    "\n",
    "n = factorial(5) / factorial(3)\n",
    "n"
   ]
  },
  {
   "cell_type": "markdown",
   "metadata": {},
   "source": [
    "### 하나의 모듈에서 여러 함수 사용하기"
   ]
  },
  {
   "cell_type": "code",
   "execution_count": 7,
   "metadata": {},
   "outputs": [
    {
     "data": {
      "text/plain": [
       "14.73606797749979"
      ]
     },
     "execution_count": 7,
     "metadata": {},
     "output_type": "execute_result"
    }
   ],
   "source": [
    "# 여러 함수를 import\n",
    "from math import (factorial, acos)\n",
    "n = factorial(3) + acos(1)\n",
    "\n",
    "# 모든 함수를 import\n",
    "from math import *\n",
    "n = sqrt(5) + fabs(-12.5)\n",
    "n"
   ]
  },
  {
   "cell_type": "markdown",
   "metadata": {},
   "source": [
    "### 함수의 이름에 Alias주기"
   ]
  },
  {
   "cell_type": "code",
   "execution_count": 11,
   "metadata": {},
   "outputs": [
    {
     "data": {
      "text/plain": [
       "20.0"
      ]
     },
     "execution_count": 11,
     "metadata": {},
     "output_type": "execute_result"
    }
   ],
   "source": [
    "# factorial() 함수를 f()로 사용 가능\n",
    "\n",
    "from math import factorial as f\n",
    "n = f(5) / f(3)\n",
    "n"
   ]
  },
  {
   "cell_type": "markdown",
   "metadata": {},
   "source": [
    "## 2. 모듈의 위치"
   ]
  },
  {
   "cell_type": "markdown",
   "metadata": {},
   "source": [
    "파이썬에서 모듈을 import하면 그 모듈을 찾기 위해 다음과 같은 경로를 순서대로 검색한다."
   ]
  },
  {
   "cell_type": "markdown",
   "metadata": {},
   "source": [
    "* 파이썬이 module을 찾는 과정\n",
    "    * 01. 현재 디렉토리\n",
    "    * 02. 환경변수 PYTHONPATH에 지정된 경로\n",
    "    * 03. Python이 설치된 경로 및 그 밑의 라이브러리 경로"
   ]
  },
  {
   "cell_type": "markdown",
   "metadata": {},
   "source": [
    "이러한 경로들은 모두 취합되어 시스템 경로인 sys.path에 리스트 형태로 저장된다. 따라서 모듈이 검색되는 검색 경로는 sys.path를 체크하면 쉽게 알 수 있다.<br>\n",
    "모듈을 import하면 sys.path에 있는 경로 순서대로 모듈을 찾아 import 하다가 만약 끝까지 찾지 못하면 에러가 발생된다."
   ]
  },
  {
   "cell_type": "markdown",
   "metadata": {},
   "source": [
    "_Q. 그렇다면 sys.path를 사용하기 위해서는 어떻게 해야할까?_<br>\n",
    "sys라는 시스템 모듈을 import해야 하며, sys.path는 임의로 수정할 수도 있다. <br>\n",
    "예를 들어 기존 sys.path에 새 경로를 추가(append)하면 추가된 경로도 이후 모듈 검색 경로에 포함된다."
   ]
  },
  {
   "cell_type": "code",
   "execution_count": 1,
   "metadata": {},
   "outputs": [
    {
     "name": "stdout",
     "output_type": "stream",
     "text": [
      "['C:\\\\Users\\\\Lee\\\\Documents\\\\steve-home\\\\Py-for-Deep', 'C:\\\\Users\\\\Lee\\\\Anaconda3\\\\python37.zip', 'C:\\\\Users\\\\Lee\\\\Anaconda3\\\\DLLs', 'C:\\\\Users\\\\Lee\\\\Anaconda3\\\\lib', 'C:\\\\Users\\\\Lee\\\\Anaconda3', '', 'C:\\\\Users\\\\Lee\\\\Anaconda3\\\\lib\\\\site-packages', 'C:\\\\Users\\\\Lee\\\\Anaconda3\\\\lib\\\\site-packages\\\\win32', 'C:\\\\Users\\\\Lee\\\\Anaconda3\\\\lib\\\\site-packages\\\\win32\\\\lib', 'C:\\\\Users\\\\Lee\\\\Anaconda3\\\\lib\\\\site-packages\\\\Pythonwin', 'C:\\\\Users\\\\Lee\\\\Anaconda3\\\\lib\\\\site-packages\\\\IPython\\\\extensions', 'C:\\\\Users\\\\Lee\\\\.ipython']\n"
     ]
    }
   ],
   "source": [
    "# Example> sys.path\n",
    "\n",
    "import sys\n",
    "print(sys.path)"
   ]
  },
  {
   "cell_type": "code",
   "execution_count": 2,
   "metadata": {},
   "outputs": [
    {
     "name": "stdout",
     "output_type": "stream",
     "text": [
      "C:\\Users\\Lee\\Documents\\steve-home\\Py-for-Deep\n"
     ]
    }
   ],
   "source": [
    "print(sys.path[0])  # 첫번째는 빈 문자열로 현재 디렉토리를 가리킨다."
   ]
  },
  {
   "cell_type": "markdown",
   "metadata": {},
   "source": [
    "현재 디렉토리는 C:\\Users\\Lee\\Documents\\steve-home\\Py-for-Deep 이다.(현재 필자의 작업 환경 기준)"
   ]
  },
  {
   "cell_type": "markdown",
   "metadata": {},
   "source": [
    "* Deep-Learning-from-Scratch-2 spiral dataset추가하기\n",
    "    * 현재 디렉토리에서 모듈을 import해서 spiral data를 불러보자!"
   ]
  },
  {
   "cell_type": "code",
   "execution_count": 3,
   "metadata": {},
   "outputs": [],
   "source": [
    "sys.path.append('..')"
   ]
  },
  {
   "cell_type": "code",
   "execution_count": 4,
   "metadata": {},
   "outputs": [
    {
     "name": "stdout",
     "output_type": "stream",
     "text": [
      "['C:\\\\Users\\\\Lee\\\\Documents\\\\steve-home\\\\Py-for-Deep', 'C:\\\\Users\\\\Lee\\\\Anaconda3\\\\python37.zip', 'C:\\\\Users\\\\Lee\\\\Anaconda3\\\\DLLs', 'C:\\\\Users\\\\Lee\\\\Anaconda3\\\\lib', 'C:\\\\Users\\\\Lee\\\\Anaconda3', '', 'C:\\\\Users\\\\Lee\\\\Anaconda3\\\\lib\\\\site-packages', 'C:\\\\Users\\\\Lee\\\\Anaconda3\\\\lib\\\\site-packages\\\\win32', 'C:\\\\Users\\\\Lee\\\\Anaconda3\\\\lib\\\\site-packages\\\\win32\\\\lib', 'C:\\\\Users\\\\Lee\\\\Anaconda3\\\\lib\\\\site-packages\\\\Pythonwin', 'C:\\\\Users\\\\Lee\\\\Anaconda3\\\\lib\\\\site-packages\\\\IPython\\\\extensions', 'C:\\\\Users\\\\Lee\\\\.ipython', '..']\n"
     ]
    }
   ],
   "source": [
    "print(sys.path)"
   ]
  },
  {
   "cell_type": "code",
   "execution_count": 5,
   "metadata": {},
   "outputs": [],
   "source": [
    "# sys.path.append('../05_Deep-Learning-from-Scratch-2-RNN.NLP/dataset/')"
   ]
  },
  {
   "cell_type": "code",
   "execution_count": 6,
   "metadata": {},
   "outputs": [
    {
     "name": "stdout",
     "output_type": "stream",
     "text": [
      "['C:\\\\Users\\\\Lee\\\\Documents\\\\steve-home\\\\Py-for-Deep', 'C:\\\\Users\\\\Lee\\\\Anaconda3\\\\python37.zip', 'C:\\\\Users\\\\Lee\\\\Anaconda3\\\\DLLs', 'C:\\\\Users\\\\Lee\\\\Anaconda3\\\\lib', 'C:\\\\Users\\\\Lee\\\\Anaconda3', '', 'C:\\\\Users\\\\Lee\\\\Anaconda3\\\\lib\\\\site-packages', 'C:\\\\Users\\\\Lee\\\\Anaconda3\\\\lib\\\\site-packages\\\\win32', 'C:\\\\Users\\\\Lee\\\\Anaconda3\\\\lib\\\\site-packages\\\\win32\\\\lib', 'C:\\\\Users\\\\Lee\\\\Anaconda3\\\\lib\\\\site-packages\\\\Pythonwin', 'C:\\\\Users\\\\Lee\\\\Anaconda3\\\\lib\\\\site-packages\\\\IPython\\\\extensions', 'C:\\\\Users\\\\Lee\\\\.ipython', '..']\n"
     ]
    }
   ],
   "source": [
    "print(sys.path)"
   ]
  },
  {
   "cell_type": "markdown",
   "metadata": {},
   "source": [
    "_개선된 방법_"
   ]
  },
  {
   "cell_type": "code",
   "execution_count": 8,
   "metadata": {},
   "outputs": [],
   "source": [
    "sys.path.append('../05_Deep-Learning-from-Scratch-2-RNN.NLP/')"
   ]
  },
  {
   "cell_type": "code",
   "execution_count": 10,
   "metadata": {},
   "outputs": [
    {
     "name": "stdout",
     "output_type": "stream",
     "text": [
      "x.shape:  (300, 2)\n",
      "y.shape:  (300, 3)\n"
     ]
    }
   ],
   "source": [
    "from dataset import spiral\n",
    "\n",
    "x, t = spiral.load_data()\n",
    "print('x.shape: ', x.shape)\n",
    "print('y.shape: ', t.shape)"
   ]
  },
  {
   "cell_type": "markdown",
   "metadata": {},
   "source": [
    "## 3. 모듈의 작성"
   ]
  },
  {
   "cell_type": "code",
   "execution_count": 8,
   "metadata": {},
   "outputs": [
    {
     "name": "stdout",
     "output_type": "stream",
     "text": [
      "add:  30\n",
      "subtract:  -10\n"
     ]
    }
   ],
   "source": [
    "from mylib import *\n",
    "\n",
    "a = 10\n",
    "b = 20\n",
    "\n",
    "print('add: ', add(a, b))\n",
    "print('subtract: ', substract(a, b))"
   ]
  },
  {
   "cell_type": "markdown",
   "metadata": {},
   "source": [
    "## Reference\n",
    "* 예제로 배우는 파이썬 프로그래밍 http://pythonstudy.xyz/python/article/17-%EB%AA%A8%EB%93%88-Module"
   ]
  }
 ],
 "metadata": {
  "kernelspec": {
   "display_name": "Python 3",
   "language": "python",
   "name": "python3"
  },
  "language_info": {
   "codemirror_mode": {
    "name": "ipython",
    "version": 3
   },
   "file_extension": ".py",
   "mimetype": "text/x-python",
   "name": "python",
   "nbconvert_exporter": "python",
   "pygments_lexer": "ipython3",
   "version": "3.7.4"
  }
 },
 "nbformat": 4,
 "nbformat_minor": 4
}
