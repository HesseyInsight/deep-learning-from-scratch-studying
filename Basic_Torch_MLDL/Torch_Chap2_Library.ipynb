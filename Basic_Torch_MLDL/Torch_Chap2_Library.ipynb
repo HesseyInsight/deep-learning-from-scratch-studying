{
 "cells": [
  {
   "cell_type": "markdown",
   "metadata": {},
   "source": [
    "# Chap02-파이토치 라이브러리"
   ]
  },
  {
   "cell_type": "markdown",
   "metadata": {},
   "source": [
    "## 2-1 파이토치란?"
   ]
  },
  {
   "cell_type": "markdown",
   "metadata": {},
   "source": [
    "* 같은 딥러닝 라이브러리인 체이너(Chainer)의 특징인 \"Define by Run\"을 설계 사상에 받아들인 후 2016년 후반부터 급속도로 사용자가 증가했다\n",
    "* 2017년 1월에 오픈소스로 공개되었다(지금으로부터 3년전!)"
   ]
  },
  {
   "cell_type": "markdown",
   "metadata": {},
   "source": [
    "## 2-2 파이토치의 특징"
   ]
  },
  {
   "cell_type": "markdown",
   "metadata": {},
   "source": [
    "* 파이토치의 특징은 크게 세 가지다. \n",
    "* 이러한 특징 덕에 파이토치는 이미 딥러닝을 사용하던 사람에게도 그렇지 않은 사람에게도 접근성이 좋다.\n",
    "    * Define by Run 설계 사상을 채택함\n",
    "    * \"파이썬스러운\" 구현이 가능하다\n",
    "    * 자동 미분이 가능하다"
   ]
  },
  {
   "cell_type": "markdown",
   "metadata": {},
   "source": [
    "### Define by Run 설계 사상을 채택함\n",
    "* 딥러닝에서는 데이터를 텐서(다차원 배열)에 저장하고 텐서를 처리하는 계산 그래프를 구축한다 (<- 뭔 말이지...?)"
   ]
  },
  {
   "cell_type": "markdown",
   "metadata": {},
   "source": [
    "* 계산그래프란 무엇인가?\n",
    "    * a x b + d를 계산하는 그래프는 어떻게 생겼을까?\n",
    "* 계산그래프를 구축하는 2가지 방법\n",
    "    * Define and Run\n",
    "    * Define by Run\n",
    "    * 위의 두 가지 방법으로 계산 그래프를 구축할 수 있따. \n",
    "    <br/>\n",
    "* Define and Run은 계산그래프를 먼저 구성한 다음에 그래프를 따라 계산 과정이 이뤄진다<br/>\n",
    "* Define by Run은 데이터를 계산하는 과정에서 동적으로 계산 그래프가 구성된다"
   ]
  },
  {
   "cell_type": "markdown",
   "metadata": {},
   "source": [
    "### Define and Run과 Define by Run 예제"
   ]
  },
  {
   "cell_type": "markdown",
   "metadata": {},
   "source": [
    "* 1. Define and Run "
   ]
  },
  {
   "cell_type": "code",
   "execution_count": 2,
   "metadata": {},
   "outputs": [
    {
     "ename": "NameError",
     "evalue": "name 'Variable' is not defined",
     "output_type": "error",
     "traceback": [
      "\u001b[1;31m---------------------------------------------------------------------------\u001b[0m",
      "\u001b[1;31mNameError\u001b[0m                                 Traceback (most recent call last)",
      "\u001b[1;32m<ipython-input-2-dbdfbd6ca6de>\u001b[0m in \u001b[0;36m<module>\u001b[1;34m\u001b[0m\n\u001b[0;32m      1\u001b[0m \u001b[1;31m# 그래프 구성\u001b[0m\u001b[1;33m\u001b[0m\u001b[1;33m\u001b[0m\u001b[1;33m\u001b[0m\u001b[0m\n\u001b[0;32m      2\u001b[0m \u001b[1;33m\u001b[0m\u001b[0m\n\u001b[1;32m----> 3\u001b[1;33m \u001b[0mx\u001b[0m \u001b[1;33m=\u001b[0m \u001b[0mVariable\u001b[0m\u001b[1;33m(\u001b[0m\u001b[1;34m'x'\u001b[0m\u001b[1;33m)\u001b[0m\u001b[1;33m\u001b[0m\u001b[1;33m\u001b[0m\u001b[0m\n\u001b[0m\u001b[0;32m      4\u001b[0m \u001b[0my\u001b[0m \u001b[1;33m=\u001b[0m \u001b[0mVariable\u001b[0m\u001b[1;33m(\u001b[0m\u001b[1;34m'y'\u001b[0m\u001b[1;33m)\u001b[0m\u001b[1;33m\u001b[0m\u001b[1;33m\u001b[0m\u001b[0m\n\u001b[0;32m      5\u001b[0m \u001b[0mz\u001b[0m \u001b[1;33m=\u001b[0m \u001b[0mx\u001b[0m \u001b[1;33m+\u001b[0m \u001b[1;36m2\u001b[0m\u001b[1;33m*\u001b[0m\u001b[0my\u001b[0m\u001b[1;33m\u001b[0m\u001b[1;33m\u001b[0m\u001b[0m\n",
      "\u001b[1;31mNameError\u001b[0m: name 'Variable' is not defined"
     ]
    }
   ],
   "source": [
    "# 그래프 구성\n",
    "\n",
    "x = Variable('x')\n",
    "y = Variable('y')\n",
    "z = x + 2*y\n",
    "\n",
    "# 계산\n",
    "for xi, yi in data:\n",
    "    eval(z, x=xi, y=yi)"
   ]
  },
  {
   "cell_type": "markdown",
   "metadata": {},
   "source": [
    "* 2. Define and Run"
   ]
  },
  {
   "cell_type": "code",
   "execution_count": null,
   "metadata": {},
   "outputs": [],
   "source": [
    "# 그래프 구성 및 계산\n",
    "\n",
    "for xi, yi in data:\n",
    "    x = Variable(xi)\n",
    "    y = Variable(yi)\n",
    "    z = x + 2 * y"
   ]
  },
  {
   "cell_type": "markdown",
   "metadata": {},
   "source": [
    "* Define and Run은 계산 그래프를 구성하는 비용이 적게 들지만 나중에 계산 그래프 구조를 바꾸기가 어렵다\n",
    "* 반면 Define by Run 방식은 계산 그래프를 동적으로 구성할 수 있으므로 디버깅이 쉽지만 계산 그래프를 구성하는 비용이 크다\n",
    "* 즉 어떤 데이터를 다루냐에 따라 두 가지 방법 중 하나를 적절히 서낵하면 된다\n",
    "* 대부분의 딥러닝 라이브러리는 Define and Run 방식을 채택하고 있으나 체이너와 파이토치는 Define by Run 방식이다.\n",
    "<br/>\n",
    "* 정리하자면\n",
    "    * Define and Run 방식의 경우 계산그래프와 계산이 따로 진행된다\n",
    "    * 계산그래프를 구성하는 비용이 적게 들지만 나중에 계산 그래프 구조를 바꾸기가 어렵다\n",
    "    * Define by Run 방식은 계산 그래프를 동적으로 구성할 수 있으므로 디버깅이 쉽다\n",
    "    * 하지만 그래프를 구성하는 비용이 크다는 단점이 있다"
   ]
  },
  {
   "cell_type": "code",
   "execution_count": null,
   "metadata": {},
   "outputs": [],
   "source": []
  }
 ],
 "metadata": {
  "kernelspec": {
   "display_name": "Python 3",
   "language": "python",
   "name": "python3"
  },
  "language_info": {
   "codemirror_mode": {
    "name": "ipython",
    "version": 3
   },
   "file_extension": ".py",
   "mimetype": "text/x-python",
   "name": "python",
   "nbconvert_exporter": "python",
   "pygments_lexer": "ipython3",
   "version": "3.7.6"
  }
 },
 "nbformat": 4,
 "nbformat_minor": 4
}
