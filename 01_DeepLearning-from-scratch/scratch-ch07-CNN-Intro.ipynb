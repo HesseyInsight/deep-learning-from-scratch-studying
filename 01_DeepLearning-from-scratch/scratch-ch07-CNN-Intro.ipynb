{
 "cells": [
  {
   "cell_type": "markdown",
   "metadata": {},
   "source": [
    "# Deep-Learning-from-Scratch\n",
    "## Chap07.CNN"
   ]
  },
  {
   "cell_type": "markdown",
   "metadata": {},
   "source": [
    "드디어 CNN!!!"
   ]
  },
  {
   "cell_type": "markdown",
   "metadata": {},
   "source": [
    "사실 이번이 CNN 2번째이다(이 전에 Deep-Learning-from-Scratch 교재를 통해 한 번 구현해본 경험이 있다는 말이다<br/>\n",
    "당시 너무나도 재미있게 구현했던 경험이 있어서 사실 이 날만을 손꼽아 기다렸다ㅎㅎ<br/>\n",
    "이미지 인식 분야에서 활용한 기법은 거의 다 CNN을 기초로 한다는데... CNN 메커니즘을 자세히 하나하나 구현하면서 알아나가자!"
   ]
  },
  {
   "cell_type": "code",
   "execution_count": null,
   "metadata": {},
   "outputs": [],
   "source": []
  }
 ],
 "metadata": {
  "kernelspec": {
   "display_name": "Python 3",
   "language": "python",
   "name": "python3"
  },
  "language_info": {
   "codemirror_mode": {
    "name": "ipython",
    "version": 3
   },
   "file_extension": ".py",
   "mimetype": "text/x-python",
   "name": "python",
   "nbconvert_exporter": "python",
   "pygments_lexer": "ipython3",
   "version": "3.7.6"
  }
 },
 "nbformat": 4,
 "nbformat_minor": 4
}
