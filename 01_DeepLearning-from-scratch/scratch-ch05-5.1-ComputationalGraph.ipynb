{
 "cells": [
  {
   "cell_type": "markdown",
   "metadata": {},
   "source": [
    "# Deep-Learning-from-Scratch\n",
    "* 반정도 온 것 같다 ^^\n",
    "* 오차 역전파법(Backpropagation)너무나도 중요한 파트이다\n",
    "* 끝까지 최선을 다하자 - 20.01.29.Wed"
   ]
  },
  {
   "cell_type": "markdown",
   "metadata": {},
   "source": [
    "### 5.1.1 계산 그래프로 풀다"
   ]
  },
  {
   "cell_type": "markdown",
   "metadata": {},
   "source": [
    "### 5.1.2 국소적 계산"
   ]
  },
  {
   "cell_type": "markdown",
   "metadata": {},
   "source": [
    "* 국소적이란 말은 '자신과 직접 관계된 작은 범위'라는 뜻이다\n",
    "* 국소적 계산은 결국 (전체에서 어떤 일이 벌어지든 상관없이) 자신과 관계된 정보만으로 결과를 출력할 수 있다."
   ]
  },
  {
   "cell_type": "markdown",
   "metadata": {},
   "source": [
    "### 5.1.3 왜 계산 그래프로 푸는가?"
   ]
  },
  {
   "cell_type": "markdown",
   "metadata": {},
   "source": [
    "* 하나, 계산그래프를 사용하면 '국소적 계산'을 할 수 있다.\n",
    "* 둘, 계산그래프는 중간 계산 결과를 보존할 수 있다.\n",
    "    * 사과를 계산한 값, 전체 구매 내역을 계산한 값, 세금을 부과하기 전 값 등 중간 계산 결과를 모두 보관할 수 있다.\n",
    "* 셋, 무엇보다도 계산그래프를 사용하면 역전파를 통해 '미분'을 효율적으로 계산할 수 있다."
   ]
  },
  {
   "cell_type": "markdown",
   "metadata": {},
   "source": [
    "#### 순전파와 역전파를 활용해서 각 변수의 미분을 효율적으로 구할 수 있다."
   ]
  },
  {
   "cell_type": "markdown",
   "metadata": {},
   "source": [
    "## 5.2 연쇄법칙"
   ]
  },
  {
   "cell_type": "markdown",
   "metadata": {},
   "source": [
    "* 이번 절의 목적은 계산 그래프 상의 역전파와 연쇄법칙이 같다는 것을 아는 것이다."
   ]
  },
  {
   "cell_type": "markdown",
   "metadata": {},
   "source": [
    "### 5.2.1 계산 그래프의 역전파\n"
   ]
  },
  {
   "cell_type": "markdown",
   "metadata": {},
   "source": [
    "목표로 하는 미분 값을 효율적으로 구할 수 있다는 것이 역전파의 핵심이다<br/>\n",
    "왜 이런 일이 가능한가는 연쇄법칙의 원리로 설명할 수 있다."
   ]
  },
  {
   "cell_type": "markdown",
   "metadata": {},
   "source": [
    "### 5.2.2 연쇄법칙이란?"
   ]
  },
  {
   "cell_type": "markdown",
   "metadata": {},
   "source": [
    "* 연쇄법칙은 합성 함수의 미분에 대한 성질이다.\n",
    "* 이는 다음과 같이 정의할 수 있다.\n",
    "    * 합성 함수의 미분은 합성 함수를 구성하는 각 함수의 미분의 곱으로 나타낼 수 있다.\n",
    "    * 이것이 연쇄법칙의 원리이다."
   ]
  },
  {
   "cell_type": "markdown",
   "metadata": {},
   "source": [
    "### 5.2.3 연쇄법칙과 계산 그래프"
   ]
  },
  {
   "cell_type": "markdown",
   "metadata": {},
   "source": [
    "## 5.3 역전파"
   ]
  },
  {
   "cell_type": "markdown",
   "metadata": {},
   "source": [
    "### 5.3.1 덧셈 노드의 역전파"
   ]
  },
  {
   "cell_type": "markdown",
   "metadata": {},
   "source": [
    "덧셈 노드의 역전파 때는 상류에서 전해진 미분에 1을 곱하여 하류로 흘려보낸다 <br/>\n",
    "즉, 덧셈 노드의 역전파는 1을 곱하기만 할 뿐이므로 입력된 값을 그대로 다음 노드로 보내게 된다"
   ]
  },
  {
   "cell_type": "markdown",
   "metadata": {},
   "source": [
    "가령 '10 + 5 = 15'라는 계산이 있고, 상류에서 1.3이라는 값이 흘러들어온다고 하자. <br/>\n",
    "이 때 10에 대한 15의 미분값과 5에 대한 15의 미분값은 각각 1.3이 된다. <br/>\n",
    "즉, 입력된 값을 그대로 다음 노드로 보내게 된다."
   ]
  },
  {
   "cell_type": "markdown",
   "metadata": {},
   "source": [
    "### 5.3.2 곱셈 노드의 역전파"
   ]
  },
  {
   "cell_type": "markdown",
   "metadata": {},
   "source": [
    "다음으로 z = xy라는 예를 살펴보자."
   ]
  },
  {
   "cell_type": "markdown",
   "metadata": {},
   "source": [
    "곱셈 노드 역전파는 상류 값에 순전파 때의 입력 신호들을 '서로 바꾼 값'을 곱해서 하류로 보낸다. 즉 순전파에서 입력신호가 x였다면 상류로부터 흘러들어온 gradient에 y(서로 바꾼 값)을 곱해주고, y였다면 상류로부터 흘러들어온 gradient에 x(y의 반대값)을 곱해준다."
   ]
  },
  {
   "cell_type": "markdown",
   "metadata": {},
   "source": [
    "가령 '10 * 5 = 50'라는 식을 살펴보자.<br/>\n",
    "x, y이 있다면 상류에서 흘러 들어온 1.3에 서로 바꾼 값인 5와 10을 각각 곱해준다. "
   ]
  },
  {
   "cell_type": "markdown",
   "metadata": {},
   "source": [
    "### 5.3.3 사과 쇼핑의 예"
   ]
  },
  {
   "cell_type": "markdown",
   "metadata": {},
   "source": [
    "도서 참고"
   ]
  }
 ],
 "metadata": {
  "kernelspec": {
   "display_name": "Python 3",
   "language": "python",
   "name": "python3"
  },
  "language_info": {
   "codemirror_mode": {
    "name": "ipython",
    "version": 3
   },
   "file_extension": ".py",
   "mimetype": "text/x-python",
   "name": "python",
   "nbconvert_exporter": "python",
   "pygments_lexer": "ipython3",
   "version": "3.7.6"
  }
 },
 "nbformat": 4,
 "nbformat_minor": 4
}
