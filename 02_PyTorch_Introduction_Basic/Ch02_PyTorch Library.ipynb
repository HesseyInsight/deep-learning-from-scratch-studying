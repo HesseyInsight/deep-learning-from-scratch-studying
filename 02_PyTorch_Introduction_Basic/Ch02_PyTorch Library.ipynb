{
 "cells": [
  {
   "cell_type": "markdown",
   "metadata": {},
   "source": [
    "# Ch02-파이토치 라이브러리"
   ]
  },
  {
   "cell_type": "markdown",
   "metadata": {},
   "source": [
    "\"지금 딥러닝을 활용하고 있거나 활용할 계획이 있는 엔지니어 모두에게 주목받고 있는 라이브러리가 있다.\""
   ]
  },
  {
   "cell_type": "markdown",
   "metadata": {},
   "source": [
    "### 2-1 파이토치란?\n",
    "* \n",
    "    * 본래 머신러닝 라이브러리인 토치(Torch)를 파이썬으로 포팅한 것으로 2012년 개발 시작.\n",
    "    * 같은 딥러닝 라이브러리인 체이너(Chiner)의 특징인 \"Define by Run\"설계사상을 받아들인 후 2016년 후반 급속도로 사용자 증가.\n",
    "    * 2017년 1월 오픈소스로 공개되었다."
   ]
  },
  {
   "cell_type": "markdown",
   "metadata": {},
   "source": [
    "### 2-2 파이토치의 특징"
   ]
  },
  {
   "cell_type": "markdown",
   "metadata": {},
   "source": [
    "파이토치의 특징은 크게 세 가지이다.\n",
    "* \n",
    "    * 1. Define by Run 설계 사상을 채택함\n",
    "    * 2. \"파이썬스러운\" 구현이 가능함\n",
    "    * 3. 자동미분 가능"
   ]
  },
  {
   "cell_type": "markdown",
   "metadata": {},
   "source": [
    "### Define by Run 설계 사상을 채택"
   ]
  },
  {
   "cell_type": "markdown",
   "metadata": {},
   "source": [
    "딥러닝에서는 데이터를 텐서에 저장하고 텐서를 처리하는 계산 그래프를 구축한다."
   ]
  },
  {
   "cell_type": "markdown",
   "metadata": {},
   "source": [
    "계산그래프를 구축하는 방법에는 Define and Run방식과 Define by Run방식이 있다.\n",
    "* Define and Run은 계산그래프를 먼저 구성한 다음에 그래프를 따라 계산하는 과정이 이뤄진다\n",
    "* Define by Run은 데이터를 계산하는 과정에서 동적으로 계산 그래프가 구성된다\n",
    "\n",
    "\n",
    "두 방식의 차이를 코드를 통해 알아보자(말로만 들어서는 이해가 가지 않는 부분이 있죠...)"
   ]
  },
  {
   "cell_type": "markdown",
   "metadata": {},
   "source": [
    "**예제2.1 Define and Run**"
   ]
  },
  {
   "cell_type": "code",
   "execution_count": 2,
   "metadata": {},
   "outputs": [
    {
     "ename": "NameError",
     "evalue": "name 'Variable' is not defined",
     "output_type": "error",
     "traceback": [
      "\u001b[1;31m---------------------------------------------------------------------------\u001b[0m",
      "\u001b[1;31mNameError\u001b[0m                                 Traceback (most recent call last)",
      "\u001b[1;32m<ipython-input-2-b765c264408d>\u001b[0m in \u001b[0;36m<module>\u001b[1;34m\u001b[0m\n\u001b[0;32m      1\u001b[0m \u001b[1;31m# 그래프 구성\u001b[0m\u001b[1;33m\u001b[0m\u001b[1;33m\u001b[0m\u001b[1;33m\u001b[0m\u001b[0m\n\u001b[1;32m----> 2\u001b[1;33m \u001b[0mx\u001b[0m \u001b[1;33m=\u001b[0m \u001b[0mVariable\u001b[0m\u001b[1;33m(\u001b[0m\u001b[1;34m'x'\u001b[0m\u001b[1;33m)\u001b[0m\u001b[1;33m\u001b[0m\u001b[1;33m\u001b[0m\u001b[0m\n\u001b[0m\u001b[0;32m      3\u001b[0m \u001b[0my\u001b[0m \u001b[1;33m=\u001b[0m \u001b[0mVariable\u001b[0m\u001b[1;33m(\u001b[0m\u001b[1;34m'y'\u001b[0m\u001b[1;33m)\u001b[0m\u001b[1;33m\u001b[0m\u001b[1;33m\u001b[0m\u001b[0m\n\u001b[0;32m      4\u001b[0m \u001b[0mz\u001b[0m \u001b[1;33m=\u001b[0m \u001b[0mx\u001b[0m \u001b[1;33m+\u001b[0m \u001b[1;36m2\u001b[0m \u001b[1;33m*\u001b[0m \u001b[0my\u001b[0m      \u001b[1;31m# 변수와 계산그래프를 먼저 구성해 놓는구나\u001b[0m\u001b[1;33m\u001b[0m\u001b[1;33m\u001b[0m\u001b[0m\n\u001b[0;32m      5\u001b[0m \u001b[1;33m\u001b[0m\u001b[0m\n",
      "\u001b[1;31mNameError\u001b[0m: name 'Variable' is not defined"
     ]
    }
   ],
   "source": [
    "# 그래프 구성\n",
    "x = Variable('x')\n",
    "y = Variable('y')\n",
    "z = x + 2 * y      # 변수와 계산그래프를 먼저 구성해 놓는구나\n",
    "\n",
    "# 계산\n",
    "for xi, yi in data:\n",
    "    eval(z, x=xi, y=yi)"
   ]
  },
  {
   "cell_type": "markdown",
   "metadata": {},
   "source": [
    "**예제2.2 Define by Run**"
   ]
  },
  {
   "cell_type": "code",
   "execution_count": 3,
   "metadata": {},
   "outputs": [
    {
     "ename": "NameError",
     "evalue": "name 'data' is not defined",
     "output_type": "error",
     "traceback": [
      "\u001b[1;31m---------------------------------------------------------------------------\u001b[0m",
      "\u001b[1;31mNameError\u001b[0m                                 Traceback (most recent call last)",
      "\u001b[1;32m<ipython-input-3-8b149b5bffa4>\u001b[0m in \u001b[0;36m<module>\u001b[1;34m\u001b[0m\n\u001b[0;32m      1\u001b[0m \u001b[1;31m# 그래프 구성 및 계산\u001b[0m\u001b[1;33m\u001b[0m\u001b[1;33m\u001b[0m\u001b[1;33m\u001b[0m\u001b[0m\n\u001b[0;32m      2\u001b[0m \u001b[1;33m\u001b[0m\u001b[0m\n\u001b[1;32m----> 3\u001b[1;33m \u001b[1;32mfor\u001b[0m \u001b[0mxi\u001b[0m\u001b[1;33m,\u001b[0m \u001b[0myi\u001b[0m \u001b[1;32min\u001b[0m \u001b[0mdata\u001b[0m\u001b[1;33m:\u001b[0m\u001b[1;33m\u001b[0m\u001b[1;33m\u001b[0m\u001b[0m\n\u001b[0m\u001b[0;32m      4\u001b[0m     \u001b[0mx\u001b[0m \u001b[1;33m=\u001b[0m \u001b[0mVariable\u001b[0m\u001b[1;33m(\u001b[0m\u001b[0mxi\u001b[0m\u001b[1;33m)\u001b[0m\u001b[1;33m\u001b[0m\u001b[1;33m\u001b[0m\u001b[0m\n\u001b[0;32m      5\u001b[0m     \u001b[0my\u001b[0m \u001b[1;33m=\u001b[0m \u001b[0mVariable\u001b[0m\u001b[1;33m(\u001b[0m\u001b[0myi\u001b[0m\u001b[1;33m)\u001b[0m\u001b[1;33m\u001b[0m\u001b[1;33m\u001b[0m\u001b[0m\n",
      "\u001b[1;31mNameError\u001b[0m: name 'data' is not defined"
     ]
    }
   ],
   "source": [
    "# 그래프 구성 및 계산\n",
    "\n",
    "for xi, yi in data:\n",
    "    x = Variable(xi)\n",
    "    y = Variable(yi)\n",
    "    z = x + 2 * y     #  계산하는 과정에서 그래프가 그려지네..."
   ]
  },
  {
   "cell_type": "markdown",
   "metadata": {},
   "source": [
    "Define and Run은 계산 그래프를 구성하는 비용이 적게 들지만 나중에 계산 그래프 구조를 바꾸기가 어렵다.<br/>\n",
    "반면 Define by Run은 계산 그래프를 동적으로 구성할 수 있으므로 디버깅이 쉽지만 계산그래프를 구성하는 비용이 크다. "
   ]
  },
  {
   "cell_type": "markdown",
   "metadata": {},
   "source": [
    "### \"파이썬스러운\" 구현이 가능하다."
   ]
  },
  {
   "cell_type": "markdown",
   "metadata": {},
   "source": [
    "파이썬 스러운 코드란 파이썬 문법을 잘 활용한 간결하고 읽기 쉬운 코드를 말한다.<br/>\n",
    "파이토치에서 파이썬스러운 코드가 나오기 쉬운 이유는 NumPy배열과 텐서 간의 변환이 쉽다는 점과 직관적인 코드로 계산 그래프를 구성할 수 있다는 점이 크다."
   ]
  },
  {
   "cell_type": "markdown",
   "metadata": {},
   "source": [
    "넘파이 배열을 토치 텐서로 변환해보자"
   ]
  },
  {
   "cell_type": "code",
   "execution_count": 6,
   "metadata": {},
   "outputs": [],
   "source": [
    "# Numpy to Troch\n",
    "\n",
    "import numpy as np\n",
    "import torch\n",
    "\n",
    "train_X = np.array([12.29, 3.17, 2.21, 18, 88, 2.85, 2.99, 0.45, 2.81, 2.3, 1.42, 2.83, 406.])\n",
    "train_X = torch.from_numpy(train_X).float()"
   ]
  },
  {
   "cell_type": "code",
   "execution_count": 8,
   "metadata": {},
   "outputs": [
    {
     "data": {
      "text/plain": [
       "tensor([ 12.2900,   3.1700,   2.2100,  18.0000,  88.0000,   2.8500,   2.9900,\n",
       "          0.4500,   2.8100,   2.3000,   1.4200,   2.8300, 406.0000])"
      ]
     },
     "execution_count": 8,
     "metadata": {},
     "output_type": "execute_result"
    }
   ],
   "source": [
    "train_X"
   ]
  },
  {
   "cell_type": "code",
   "execution_count": 9,
   "metadata": {},
   "outputs": [
    {
     "data": {
      "text/plain": [
       "torch.Tensor"
      ]
     },
     "execution_count": 9,
     "metadata": {},
     "output_type": "execute_result"
    }
   ],
   "source": [
    "type(train_X)"
   ]
  },
  {
   "cell_type": "markdown",
   "metadata": {},
   "source": [
    "### 자동미분 기능"
   ]
  },
  {
   "cell_type": "markdown",
   "metadata": {},
   "source": [
    "실제 학습에서 업데이트할 여러개의 파라미터에 대한 미분(편미분)을 제공한다."
   ]
  },
  {
   "cell_type": "markdown",
   "metadata": {},
   "source": [
    "## 2-3 파이토치의 구성 요소"
   ]
  },
  {
   "cell_type": "markdown",
   "metadata": {},
   "source": [
    "파이토치는 다음과 같은 구성 요소로 이뤄져 있다.\n",
    "\n",
    "* torch: 텐서를 생성하는 라이브러리\n",
    "* torch.autograd: 자동미분 기능을 제공하는 라이브러리\n",
    "* torch.nn: 신경망을 생성하는 라이브러리\n",
    "* torch.multiprocessing: 병렬처리 기능을 제공하는 라이브러리\n",
    "* torch.utils: 데이터 조작 등 유틸리티 기능 제공\n",
    "* torch.legacy(./nn/.optim): Torch로부터 포팅해온 코드"
   ]
  },
  {
   "cell_type": "markdown",
   "metadata": {},
   "source": [
    "수고했다. 이제 5장 예제를 통해 Torch 사용법을 하나하나 적용해보자!"
   ]
  },
  {
   "cell_type": "code",
   "execution_count": null,
   "metadata": {},
   "outputs": [],
   "source": []
  }
 ],
 "metadata": {
  "kernelspec": {
   "display_name": "Python 3",
   "language": "python",
   "name": "python3"
  },
  "language_info": {
   "codemirror_mode": {
    "name": "ipython",
    "version": 3
   },
   "file_extension": ".py",
   "mimetype": "text/x-python",
   "name": "python",
   "nbconvert_exporter": "python",
   "pygments_lexer": "ipython3",
   "version": "3.7.6"
  }
 },
 "nbformat": 4,
 "nbformat_minor": 4
}
