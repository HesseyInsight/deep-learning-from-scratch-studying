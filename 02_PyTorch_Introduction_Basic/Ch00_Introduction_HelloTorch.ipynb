{
 "cells": [
  {
   "cell_type": "markdown",
   "metadata": {},
   "source": [
    "# PyTorch를 활용한 머신러닝, 딥러닝 철저 입문\n",
    "## 파이토치를 활용한 머신러닝, 딥러닝 알고리즘의 원리와 구현"
   ]
  },
  {
   "cell_type": "markdown",
   "metadata": {},
   "source": [
    "### 저자: 코이즈미 사토시 || 출판사: 위키북스\n",
    "* 밑바닥부터 시작하는 딥러닝(사이토 고키 저, 한빛미디어)를 최근에 1회독 했다. 넘파이로 딥러닝의 원리를 배워나감과 동시에 모듈, 레이어를 말그대로 밑바닥부터 구현하면서 딥러닝의 원리를 정말 바닥부터 이해할 수 있었다. 무엇보다도  딥러닝 프로세스를 머리로 이해할 수 있게 되었기에 너무 감사했다.\n",
    "* 이 책을 꺼내든 이유는 딥러닝을 보다 쉽게 구현할 수 있도록 도와주는 파이토치를 즐거운 마음으로 배워보고 싶기 떄문이다. (물론 당장 연구에 사용해야 하기 때문이기도 하다)\n",
    "* Jeina님께서 이전에 추천해주신 책을 지금 펼쳐본다. 딥러닝의 원리를 막 깨우친 이 시점. 알고리즘을 하나하나 배워가면서 예제들을 구현하고 이를 응용할 수 있는 기반을 다지고자한다. 아! 토치 사용법도 이 책을 시작으로 하나씩 깨우쳐가고싶다!\n",
    "* 그럼 시작하자 20.02.12.Wed.pm11:50~"
   ]
  },
  {
   "cell_type": "code",
   "execution_count": null,
   "metadata": {},
   "outputs": [],
   "source": []
  }
 ],
 "metadata": {
  "kernelspec": {
   "display_name": "Python 3",
   "language": "python",
   "name": "python3"
  },
  "language_info": {
   "codemirror_mode": {
    "name": "ipython",
    "version": 3
   },
   "file_extension": ".py",
   "mimetype": "text/x-python",
   "name": "python",
   "nbconvert_exporter": "python",
   "pygments_lexer": "ipython3",
   "version": "3.7.6"
  }
 },
 "nbformat": 4,
 "nbformat_minor": 4
}
