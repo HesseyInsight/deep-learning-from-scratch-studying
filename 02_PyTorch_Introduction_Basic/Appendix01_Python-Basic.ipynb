{
 "cells": [
  {
   "cell_type": "markdown",
   "metadata": {},
   "source": [
    "# PyTorch를 활용한 머신러닝, 딥러닝 철저 입문"
   ]
  },
  {
   "cell_type": "markdown",
   "metadata": {},
   "source": [
    "## Appendix_B: 파이썬 기본 문법"
   ]
  },
  {
   "cell_type": "markdown",
   "metadata": {},
   "source": [
    "이 책에서는 파이썬을 개발언어로 사용한다. 다음은 구현에 사용되는 파이썬의 문법이다.\n",
    "* 1. 변수와 계산\n",
    "* 2. 데이터 구조 및 데이터 구조 다루기\n",
    "* 3. 제어문 활용\n",
    "* 4. 컴프리헨션 문법 활용\n",
    "* 5. 함수\n",
    "* 6. 클래스\n",
    "* 7. 파일 다루기"
   ]
  },
  {
   "cell_type": "markdown",
   "metadata": {},
   "source": [
    "한 번쯤은 다시 짚고나가야 하는 문법이기에 가벼운 마음으로 한 번 공부하고 넘어가자<br/>\n",
    "어제.오늘 하루종일 보고서쓰고 회의하고 했더니 코딩이 그리워졌다. 쉬운 코딩이면 불금을 보내기 더없이 좋다."
   ]
  },
  {
   "cell_type": "markdown",
   "metadata": {},
   "source": [
    "## 1. 변수와 연산"
   ]
  },
  {
   "cell_type": "markdown",
   "metadata": {},
   "source": [
    "자바나 C와 같은 언어의 경우 미리 변수를 선언하지 않으면 값을 대입할 수 없다.<br/>\n",
    "반면 파이썬은 변수의 선언 없이도 값을 대입할 수 있다. 다시 말해 변수에 값을 대입할 때 변수 선언이 함께 이루어진다."
   ]
  },
  {
   "cell_type": "markdown",
   "metadata": {},
   "source": [
    "PyTorch의 설계 사상인 Define by Run사상과 Torch의 Pyhonic함은 여기에 있는거구나!"
   ]
  },
  {
   "cell_type": "code",
   "execution_count": 3,
   "metadata": {},
   "outputs": [],
   "source": [
    "# 정수형 변수에 대해서는 숱하게 다뤄봤기에 문자열 데이터를 다뤄보자!\n",
    "\n",
    "# 변수를 정의하고 값 대입하기\n",
    "\n",
    "o = 'Welcome to PyTorch!'\n",
    "p = '파이토치' "
   ]
  },
  {
   "cell_type": "code",
   "execution_count": 4,
   "metadata": {},
   "outputs": [
    {
     "name": "stdout",
     "output_type": "stream",
     "text": [
      "Welcome to PyTorch!\n",
      "파이토치\n",
      "Welcome to PyTorch!\t파이토치\n",
      "Welcome to PyTorch!파이토치\n"
     ]
    }
   ],
   "source": [
    "# 변수 o, p의 값 출력하기\n",
    "print(o)\n",
    "print(p)\n",
    "\n",
    "# 문자열을 연결하고 출력하기\n",
    "q = o + '\\t' + p\n",
    "print(q)\n",
    "r = o + p\n",
    "print(r)"
   ]
  },
  {
   "cell_type": "code",
   "execution_count": 5,
   "metadata": {},
   "outputs": [],
   "source": [
    "# '\\t'는 문자열 사이에 텝을 추가하는 것과 같다."
   ]
  },
  {
   "cell_type": "code",
   "execution_count": 8,
   "metadata": {},
   "outputs": [
    {
     "name": "stdout",
     "output_type": "stream",
     "text": [
      "original q:  Welcome to PyTorch!\t파이토치\n",
      "transformed q:  Welc*me t* PyT*rch!\t파이토치\n"
     ]
    }
   ],
   "source": [
    "# 문자열 치환하기\n",
    "r = q.replace('o', '*')\n",
    "print('original q: ', q)\n",
    "print('transformed q: ', r)"
   ]
  },
  {
   "cell_type": "code",
   "execution_count": 10,
   "metadata": {},
   "outputs": [
    {
     "name": "stdout",
     "output_type": "stream",
     "text": [
      "Dont use slang for U:  F*ck!\n"
     ]
    }
   ],
   "source": [
    "# 재미있게 응용해보기\n",
    "\n",
    "slang = 'Fuck!'\n",
    "heal = slang.replace('u', '*')\n",
    "print('Dont use slang for U: ', heal)"
   ]
  },
  {
   "cell_type": "markdown",
   "metadata": {},
   "source": [
    "## 2. 데이터 구조 및 데이터 구조 다루기"
   ]
  },
  {
   "cell_type": "markdown",
   "metadata": {},
   "source": [
    "앞에서 살펴본 변수보다 훨씬 더 복잡한 데이터를 다루는 구조를 알아보겠다.<br/>\n",
    "여기서는 리스트, 튜플, 딕셔너리 타입에 대해 알아보겠다.<br/>\n",
    "이들 데이터 타입은 변수 여러 개 합쳐 놓은 배열과 같다고 생각하면 된다."
   ]
  },
  {
   "cell_type": "markdown",
   "metadata": {},
   "source": [
    "### List Type"
   ]
  },
  {
   "cell_type": "code",
   "execution_count": 11,
   "metadata": {},
   "outputs": [
    {
     "name": "stdout",
     "output_type": "stream",
     "text": [
      "<class 'list'>\n"
     ]
    }
   ],
   "source": [
    "# 리스트 생성\n",
    "lst = [1, 7, 5, 3, 2]\n",
    "\n",
    "# 리스트의 데이터 타입 확인\n",
    "print(type(lst))"
   ]
  },
  {
   "cell_type": "code",
   "execution_count": 14,
   "metadata": {},
   "outputs": [
    {
     "name": "stdout",
     "output_type": "stream",
     "text": [
      "1\n",
      "2\n",
      "2\n"
     ]
    }
   ],
   "source": [
    "# 첫 번째 요소값에 접근\n",
    "print(lst[0])\n",
    "\n",
    "# 마지막 요소값에 접근\n",
    "print(lst[4])\n",
    "print(lst[-1])"
   ]
  },
  {
   "cell_type": "code",
   "execution_count": 16,
   "metadata": {},
   "outputs": [
    {
     "name": "stdout",
     "output_type": "stream",
     "text": [
      "[1, 7, 5]\n"
     ]
    }
   ],
   "source": [
    "# 첫 번째부터 세 번째 요소를 담은 부분 리스트\n",
    "print(lst[0:3])"
   ]
  },
  {
   "cell_type": "code",
   "execution_count": 19,
   "metadata": {},
   "outputs": [
    {
     "name": "stdout",
     "output_type": "stream",
     "text": [
      "[1, 2, 3, 5, 7]\n"
     ]
    }
   ],
   "source": [
    "# 요소값의 오름차순 정리\n",
    "print(sorted(lst))"
   ]
  },
  {
   "cell_type": "markdown",
   "metadata": {},
   "source": [
    "sorted()함수는 인사로 받은 리스트를 오름차순으로 정렬한 복사본을 반환한다."
   ]
  },
  {
   "cell_type": "markdown",
   "metadata": {},
   "source": [
    "리스트 타입은 어떤 데이터 타입이라도 요소로 가질 수 있으며, 정의한 후에도 수정이 가능한 가변형이다.<br/>\n"
   ]
  },
  {
   "cell_type": "markdown",
   "metadata": {},
   "source": [
    "* 리스트는 가변형 데이터 타입이다<br/>\n",
    "삽입, 삭제, 수정등을 해보자"
   ]
  },
  {
   "cell_type": "code",
   "execution_count": 23,
   "metadata": {},
   "outputs": [
    {
     "name": "stdout",
     "output_type": "stream",
     "text": [
      "[1, 7, 5, 3, 2, 4]\n",
      "[1, 7, 5, 3, 2, 4, [5, 8]]\n",
      "[1, 7, 5, 3, 2, 4, [5, 8], 5, 8]\n",
      "[1, 7, 5, 3, 2, [5, 8], 5, 8]\n",
      "[1, 7, 5, 5, 3, 2, [5, 8], 5, 8]\n",
      "3\n"
     ]
    }
   ],
   "source": [
    "# 리스트 생성\n",
    "lst = [1, 7, 5, 3, 2]\n",
    "\n",
    "# 요소 추가\n",
    "lst.append(4)\n",
    "print(lst)\n",
    "lst.append([5, 8])  # list에 list를 추가한다?\n",
    "print(lst)\n",
    "lst.extend([5, 8])\n",
    "print(lst)          # append()함수와 extend()함수의 차이점은 무엇인가?\n",
    "                    # append()함수는 데이터 타입을 그대로 추가해주는 반면 extend는 기존의 데이터 타입과 같은 원소를 더해주는 것 같은데?!\n",
    "                    # Googling을 해보자! -20.02.14.Fri.pm10:00-\n",
    "                    # When append() method adds its argument as a single element to the end of a list, \n",
    "                    # the length of the list itself will increase by one. \n",
    "                    # Whereas extend() method iterates over its argument adding each element to the list, extending the list.\n",
    "                    # 즉, append()는 list의 끝에 하나의 요소값을 추가하는 반면 extend는 인자값 하나하나를 리스트에 추가해준다.\n",
    "                    # extend()함수를 사용할 떄 인자가 여러개 있다면 list에는 값이 여러개 추가되는것이다!\n",
    "# 요소 삭제\n",
    "lst.remove(4)\n",
    "print(lst)\n",
    "\n",
    "# 요소 삽입\n",
    "lst.insert(3, 5)   # append(), extend()와 다론 친구가 하나더?!\n",
    "print(lst)         # 3번째 요소에(인덱스에) 5라는 값을 하나 더 추가한다.\n",
    "\n",
    "# 특정 요소 개수 세기\n",
    "print(lst.count(5))"
   ]
  },
  {
   "cell_type": "markdown",
   "metadata": {},
   "source": [
    "### Tuple Type"
   ]
  },
  {
   "cell_type": "markdown",
   "metadata": {},
   "source": [
    "* 튜플"
   ]
  },
  {
   "cell_type": "code",
   "execution_count": 26,
   "metadata": {},
   "outputs": [
    {
     "name": "stdout",
     "output_type": "stream",
     "text": [
      "<class 'tuple'>\n",
      "1\n",
      "2\n",
      "2\n",
      "(1, 7, 5)\n",
      "[1, 2, 3, 5, 7]\n"
     ]
    }
   ],
   "source": [
    "tpl = (1, 7, 5, 3, 2)\n",
    "\n",
    "# 튜플의 데이터 타입 확인\n",
    "print(type(tpl))\n",
    "\n",
    "# 첫 번째 요소값에 접근\n",
    "print(tpl[0])\n",
    "# 마지막 요소값에 접근\n",
    "print(tpl[4])\n",
    "print(tpl[-1])\n",
    "# 첫 번째부터 세 번째 요소를 담은 부분 튜플\n",
    "print(tpl[0:3])\n",
    "\n",
    "# 요소를 오름차순으로 정렬한 리스트\n",
    "print(sorted(tpl))"
   ]
  },
  {
   "cell_type": "markdown",
   "metadata": {},
   "source": [
    "sorted()함수의 인자값으로 tpl을 주면 list를 반환하는 것 같은데?"
   ]
  },
  {
   "cell_type": "code",
   "execution_count": 28,
   "metadata": {},
   "outputs": [
    {
     "name": "stdout",
     "output_type": "stream",
     "text": [
      "<class 'list'>\n"
     ]
    }
   ],
   "source": [
    "print(type(sorted(tpl)))"
   ]
  },
  {
   "cell_type": "markdown",
   "metadata": {},
   "source": [
    "### Dict Type"
   ]
  },
  {
   "cell_type": "code",
   "execution_count": 42,
   "metadata": {},
   "outputs": [
    {
     "name": "stdout",
     "output_type": "stream",
     "text": [
      "<class 'dict'>\n",
      "Welcome to PyTorch\n",
      "PyTorch\n",
      "{0: 'Welcome to PyTorch', 1: '파이토치', 2: 'PyTorch', 4: 'Python'}\n",
      "dict_items([(0, 'Welcome to PyTorch'), (1, '파이토치'), (2, 'PyTorch'), (4, 'Python')])\n",
      "dict_keys([0, 1, 2, 4])\n",
      "dict_values(['Welcome to PyTorch', '파이토치', 'PyTorch', 'Python'])\n"
     ]
    }
   ],
   "source": [
    "# 딕셔너리 생성\n",
    "dic = {0: 'Welcome to PyTorch', 1: '파이토치', 2: 'PyTorch'}\n",
    "\n",
    "# 딕셔너리의 데이터 타임 확인 \n",
    "print(type(dic))\n",
    "\n",
    "# 첫 번째 요소값에 접근\n",
    "print(dic[0])\n",
    "# 마지막 요소값에 접근\n",
    "print(dic[2])\n",
    "# list, tuple과 마찬가지로 -1을 통해 마지막 요소에 접근할 수 있을까?\n",
    "# print(dic[-1])  # Key-Error가 발생한다.\n",
    "\n",
    "# 요소 추가\n",
    "dic[4] = 'Python'\n",
    "print(dic)        # 요소의 추가는 딕셔너리명[키]=값 을 통해 할 수 있구나\n",
    "\n",
    "# 키-값 쌍 목록 보기\n",
    "print(dic.items())  # Key와 Value 쌍으로도 볼 수  있구나!\n",
    "# 키의 목록 보기\n",
    "print(dic.keys())\n",
    "# 값의 목록 보기\n",
    "print(dic.values())"
   ]
  },
  {
   "cell_type": "markdown",
   "metadata": {},
   "source": [
    "dictionary라는 Data Type은 상당히 재미있는 것 같다.<br/>\n",
    "요소를 추가할 때 별도의 함수 없이 딕셔너리명[키]변수에 값을 대입한다는 점이나<br/>\n",
    "Key, Value 심지어 item도 볼 수 있다는 게 좋군!"
   ]
  },
  {
   "cell_type": "markdown",
   "metadata": {},
   "source": [
    "## 3. 제어문 활용"
   ]
  },
  {
   "cell_type": "markdown",
   "metadata": {},
   "source": [
    "프로그램은 기본적으로 한 줄에 한 가지 작업을 수행하지만 의미적으로 같은 내용은 가능한 한 한줄로 합치는 것이 코드 작성에 편리하다.<br/>\n",
    "또 코드가 간단해지므로 나중에 코드를 이해하기도 쉬워진다.<br/>\n",
    "이렇게 작성하는 요령을 한 번 배워보자!"
   ]
  },
  {
   "cell_type": "code",
   "execution_count": 44,
   "metadata": {},
   "outputs": [
    {
     "name": "stdout",
     "output_type": "stream",
     "text": [
      "1\n",
      "7\n",
      "5\n",
      "3\n",
      "2\n"
     ]
    }
   ],
   "source": [
    "# 리스트 생성\n",
    "lst = [1, 7, 5, 3, 2]\n",
    "\n",
    "# for문으로 리스트 순회\n",
    "i = 0\n",
    "for i in lst:\n",
    "    print(i)"
   ]
  },
  {
   "cell_type": "code",
   "execution_count": 45,
   "metadata": {},
   "outputs": [
    {
     "name": "stdout",
     "output_type": "stream",
     "text": [
      "1\n",
      "7\n",
      "5\n",
      "3\n",
      "2\n"
     ]
    }
   ],
   "source": [
    "# 이번에는 while문으로 순회해보자\n",
    "\n",
    "i = 0\n",
    "while i < len(lst):\n",
    "    print(lst[i])\n",
    "    i += 1"
   ]
  },
  {
   "cell_type": "code",
   "execution_count": 53,
   "metadata": {},
   "outputs": [
    {
     "name": "stdout",
     "output_type": "stream",
     "text": [
      "2\n"
     ]
    }
   ],
   "source": [
    "# 리스트 생성\n",
    "lst = [1, 7, 5, 3, 2]\n",
    "\n",
    "# while문으로 리스트 순회\n",
    "i = 0\n",
    "while i < len(lst):\n",
    "    # 2로 나누어 떨어지는 요소를 출력\n",
    "    if not lst[i]%2:  # if lst[i]%2 is not none!\n",
    "        print(lst[i])\n",
    "    i += 1\n",
    "        "
   ]
  },
  {
   "cell_type": "markdown",
   "metadata": {},
   "source": [
    "Python if not Syntax<br/>\n",
    "Ref: https://stackoverflow.com/questions/16739555/python-if-not-syntax<br/>\n",
    "\n",
    "if not lst[i]%2: 가 의미하는 것은 무엇일까?<br/>\n",
    "\n",
    "=> if lst[i]%2 is not none!"
   ]
  },
  {
   "cell_type": "markdown",
   "metadata": {},
   "source": [
    "## 4. 컴프리헨션 문법 활용"
   ]
  },
  {
   "cell_type": "markdown",
   "metadata": {},
   "source": [
    "앞서 제어문을 사용해 리스트의 요소를 순회했다.<br/>\n",
    "그러나 '컴프리헨션 문법'을 사용하면 훨씬 간결한 코드로도 같은 일을 할 수 있다.<br/>\n",
    "컴프리헨션 문법은 리스트뿐만 아니라 딕셔너리에서도 사용할 수 있다."
   ]
  },
  {
   "cell_type": "markdown",
   "metadata": {},
   "source": [
    "### 컴프리헨션 문법1 - for List Data"
   ]
  },
  {
   "cell_type": "code",
   "execution_count": 54,
   "metadata": {},
   "outputs": [
    {
     "name": "stdout",
     "output_type": "stream",
     "text": [
      "[0, 1, 2, 3, 4, 5, 6, 7, 8, 9]\n"
     ]
    }
   ],
   "source": [
    "# 궁금해지는군...!\n",
    "# 빈 리스트 생성\n",
    "\n",
    "lst1 = []\n",
    "\n",
    "# 리스트에 요소 추가\n",
    "# 0부터 9까지의 값을 추가해보자\n",
    "for i in range(10):\n",
    "    lst1.append(i)\n",
    "print(lst1)"
   ]
  },
  {
   "cell_type": "markdown",
   "metadata": {},
   "source": [
    "컴프리헨션 문법을 활용해 한 번에 표현해보자!"
   ]
  },
  {
   "cell_type": "code",
   "execution_count": 57,
   "metadata": {},
   "outputs": [
    {
     "name": "stdout",
     "output_type": "stream",
     "text": [
      "[0, 1, 2, 3, 4, 5, 6, 7, 8, 9]\n"
     ]
    }
   ],
   "source": [
    "lst2 = [i for i in range(10)]\n",
    "print(lst2)"
   ]
  },
  {
   "cell_type": "markdown",
   "metadata": {},
   "source": [
    "### 컴프리헨션 문법2 - for Dict"
   ]
  },
  {
   "cell_type": "code",
   "execution_count": 59,
   "metadata": {},
   "outputs": [
    {
     "name": "stdout",
     "output_type": "stream",
     "text": [
      "{0: 'A', 1: 'B', 2: 'C', 3: 'D', 4: 'E'}\n"
     ]
    }
   ],
   "source": [
    "# 빈 딕셔너리 생성\n",
    "dic1 = {}\n",
    "\n",
    "# 딕셔너리에 요소 추가\n",
    "for i in range(5):\n",
    "    dic1[i] = chr(i+65)\n",
    "print(dic1)"
   ]
  },
  {
   "cell_type": "code",
   "execution_count": 60,
   "metadata": {},
   "outputs": [
    {
     "name": "stdout",
     "output_type": "stream",
     "text": [
      "{0: 'A', 1: 'B', 2: 'C', 3: 'D', 4: 'E'}\n"
     ]
    }
   ],
   "source": [
    "# 딕셔너리 생성과 동시에 추가\n",
    "\n",
    "dic2 = {i: chr(i+65) for i in range(5)}\n",
    "print(dic2)"
   ]
  },
  {
   "cell_type": "markdown",
   "metadata": {},
   "source": [
    "## 5. 함수"
   ]
  },
  {
   "cell_type": "markdown",
   "metadata": {},
   "source": [
    "좀만 쉬고 함수부터 다시 시작!"
   ]
  },
  {
   "cell_type": "markdown",
   "metadata": {},
   "source": [
    "## 6. 클래스"
   ]
  },
  {
   "cell_type": "code",
   "execution_count": null,
   "metadata": {},
   "outputs": [],
   "source": []
  },
  {
   "cell_type": "markdown",
   "metadata": {},
   "source": [
    "## 7. 파일 다루기"
   ]
  },
  {
   "cell_type": "code",
   "execution_count": null,
   "metadata": {},
   "outputs": [],
   "source": []
  }
 ],
 "metadata": {
  "kernelspec": {
   "display_name": "Python 3",
   "language": "python",
   "name": "python3"
  },
  "language_info": {
   "codemirror_mode": {
    "name": "ipython",
    "version": 3
   },
   "file_extension": ".py",
   "mimetype": "text/x-python",
   "name": "python",
   "nbconvert_exporter": "python",
   "pygments_lexer": "ipython3",
   "version": "3.7.6"
  }
 },
 "nbformat": 4,
 "nbformat_minor": 4
}
