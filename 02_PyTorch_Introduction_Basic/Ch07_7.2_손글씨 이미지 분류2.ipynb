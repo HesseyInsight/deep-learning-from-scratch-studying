{
 "cells": [
  {
   "cell_type": "markdown",
   "metadata": {},
   "source": [
    "## Chap7. 7-2 손글씨 이미지 분류하기\n",
    "6장 6.3절에서 다층 퍼셉트론을 사용해 손글씨 이미지 분류 모형을 학습했다. <br/>\n",
    "이번에는 합성곱신경망(CNN)으로 손글씨 이미지 분류 모형을 학습해보자."
   ]
  },
  {
   "cell_type": "markdown",
   "metadata": {},
   "source": [
    "데이터를 불러오는 단계는 이전 Chap6 6.3 손글씨 이미지 분류와 같다.<br/>\n",
    "복습겸 다시 한번 코드를 리뷰하자"
   ]
  },
  {
   "cell_type": "markdown",
   "metadata": {},
   "source": [
    "# #1. 학습 데이터 준비"
   ]
  },
  {
   "cell_type": "code",
   "execution_count": 1,
   "metadata": {},
   "outputs": [
    {
     "name": "stderr",
     "output_type": "stream",
     "text": [
      "UsageError: unrecognized arguments: # 이미지를 주피터 노트북 안에 출력하도록 함\n"
     ]
    }
   ],
   "source": [
    "# PyTorch 라이브러리 임포트\n",
    "\n",
    "import torch\n",
    "from torch.autograd import Variable  # torch.autograd.Variable(data)-p18: 텐서를 래핑하고, 계산 과정을 기록하는 역할을 한다.\n",
    "import torch.nn as nn\n",
    "import torch.nn.functional as F\n",
    "import torch.optim as optim\n",
    "from torch.utils.data import DataLoader, TensorDataset\n",
    "\n",
    "# scikit-learn 라이브러리 임포트\n",
    "from sklearn.datasets import load_digits\n",
    "from sklearn import datasets, model_selection\n",
    "\n",
    "# pandas 라이브러리 임포트\n",
    "import pandas as pd\n",
    "\n",
    "# matplotlib 라이브러리 임포트\n",
    "from matplotlib import pyplot as plt\n",
    "from matplotlib import cm\n",
    "%matplotlib inline  # 이미지를 주피터 노트북 안에 출력하도록 함"
   ]
  },
  {
   "cell_type": "code",
   "execution_count": 2,
   "metadata": {},
   "outputs": [],
   "source": [
    "mnist = datasets.fetch_openml('mnist_784', data_home='./data/')"
   ]
  },
  {
   "cell_type": "code",
   "execution_count": 4,
   "metadata": {},
   "outputs": [
    {
     "data": {
      "text/plain": [
       "array([[0., 0., 0., ..., 0., 0., 0.],\n",
       "       [0., 0., 0., ..., 0., 0., 0.],\n",
       "       [0., 0., 0., ..., 0., 0., 0.],\n",
       "       ...,\n",
       "       [0., 0., 0., ..., 0., 0., 0.],\n",
       "       [0., 0., 0., ..., 0., 0., 0.],\n",
       "       [0., 0., 0., ..., 0., 0., 0.]])"
      ]
     },
     "execution_count": 4,
     "metadata": {},
     "output_type": "execute_result"
    }
   ],
   "source": [
    "mnist['data']"
   ]
  },
  {
   "cell_type": "code",
   "execution_count": 5,
   "metadata": {},
   "outputs": [
    {
     "data": {
      "text/plain": [
       "(784,)"
      ]
     },
     "execution_count": 5,
     "metadata": {},
     "output_type": "execute_result"
    }
   ],
   "source": [
    "mnist['data'][0].shape"
   ]
  },
  {
   "cell_type": "code",
   "execution_count": 6,
   "metadata": {},
   "outputs": [
    {
     "data": {
      "text/plain": [
       "array(['5', '0', '4', ..., '4', '5', '6'], dtype=object)"
      ]
     },
     "execution_count": 6,
     "metadata": {},
     "output_type": "execute_result"
    }
   ],
   "source": [
    "mnist['target']"
   ]
  },
  {
   "cell_type": "markdown",
   "metadata": {},
   "source": [
    "mnist에는 다음과 같은 필드가 있다.<br/>\n",
    "* COL_NAMES: 데이터 집합의 각 칼럼명\n",
    "* DESCR: 데이터 집합 설명\n",
    "* data: 손글씨 이미지 픽셀값\n",
    "* target: 손글씨 이미지 숫자 레이블"
   ]
  },
  {
   "cell_type": "markdown",
   "metadata": {},
   "source": [
    "### 설명변수 정규화"
   ]
  },
  {
   "cell_type": "code",
   "execution_count": 7,
   "metadata": {},
   "outputs": [],
   "source": [
    "mnist_data = mnist.data / 255"
   ]
  },
  {
   "cell_type": "code",
   "execution_count": 8,
   "metadata": {},
   "outputs": [
    {
     "data": {
      "text/html": [
       "<div>\n",
       "<style scoped>\n",
       "    .dataframe tbody tr th:only-of-type {\n",
       "        vertical-align: middle;\n",
       "    }\n",
       "\n",
       "    .dataframe tbody tr th {\n",
       "        vertical-align: top;\n",
       "    }\n",
       "\n",
       "    .dataframe thead th {\n",
       "        text-align: right;\n",
       "    }\n",
       "</style>\n",
       "<table border=\"1\" class=\"dataframe\">\n",
       "  <thead>\n",
       "    <tr style=\"text-align: right;\">\n",
       "      <th></th>\n",
       "      <th>0</th>\n",
       "      <th>1</th>\n",
       "      <th>2</th>\n",
       "      <th>3</th>\n",
       "      <th>4</th>\n",
       "      <th>5</th>\n",
       "      <th>6</th>\n",
       "      <th>7</th>\n",
       "      <th>8</th>\n",
       "      <th>9</th>\n",
       "      <th>...</th>\n",
       "      <th>774</th>\n",
       "      <th>775</th>\n",
       "      <th>776</th>\n",
       "      <th>777</th>\n",
       "      <th>778</th>\n",
       "      <th>779</th>\n",
       "      <th>780</th>\n",
       "      <th>781</th>\n",
       "      <th>782</th>\n",
       "      <th>783</th>\n",
       "    </tr>\n",
       "  </thead>\n",
       "  <tbody>\n",
       "    <tr>\n",
       "      <th>0</th>\n",
       "      <td>0.0</td>\n",
       "      <td>0.0</td>\n",
       "      <td>0.0</td>\n",
       "      <td>0.0</td>\n",
       "      <td>0.0</td>\n",
       "      <td>0.0</td>\n",
       "      <td>0.0</td>\n",
       "      <td>0.0</td>\n",
       "      <td>0.0</td>\n",
       "      <td>0.0</td>\n",
       "      <td>...</td>\n",
       "      <td>0.0</td>\n",
       "      <td>0.0</td>\n",
       "      <td>0.0</td>\n",
       "      <td>0.0</td>\n",
       "      <td>0.0</td>\n",
       "      <td>0.0</td>\n",
       "      <td>0.0</td>\n",
       "      <td>0.0</td>\n",
       "      <td>0.0</td>\n",
       "      <td>0.0</td>\n",
       "    </tr>\n",
       "    <tr>\n",
       "      <th>1</th>\n",
       "      <td>0.0</td>\n",
       "      <td>0.0</td>\n",
       "      <td>0.0</td>\n",
       "      <td>0.0</td>\n",
       "      <td>0.0</td>\n",
       "      <td>0.0</td>\n",
       "      <td>0.0</td>\n",
       "      <td>0.0</td>\n",
       "      <td>0.0</td>\n",
       "      <td>0.0</td>\n",
       "      <td>...</td>\n",
       "      <td>0.0</td>\n",
       "      <td>0.0</td>\n",
       "      <td>0.0</td>\n",
       "      <td>0.0</td>\n",
       "      <td>0.0</td>\n",
       "      <td>0.0</td>\n",
       "      <td>0.0</td>\n",
       "      <td>0.0</td>\n",
       "      <td>0.0</td>\n",
       "      <td>0.0</td>\n",
       "    </tr>\n",
       "    <tr>\n",
       "      <th>2</th>\n",
       "      <td>0.0</td>\n",
       "      <td>0.0</td>\n",
       "      <td>0.0</td>\n",
       "      <td>0.0</td>\n",
       "      <td>0.0</td>\n",
       "      <td>0.0</td>\n",
       "      <td>0.0</td>\n",
       "      <td>0.0</td>\n",
       "      <td>0.0</td>\n",
       "      <td>0.0</td>\n",
       "      <td>...</td>\n",
       "      <td>0.0</td>\n",
       "      <td>0.0</td>\n",
       "      <td>0.0</td>\n",
       "      <td>0.0</td>\n",
       "      <td>0.0</td>\n",
       "      <td>0.0</td>\n",
       "      <td>0.0</td>\n",
       "      <td>0.0</td>\n",
       "      <td>0.0</td>\n",
       "      <td>0.0</td>\n",
       "    </tr>\n",
       "    <tr>\n",
       "      <th>3</th>\n",
       "      <td>0.0</td>\n",
       "      <td>0.0</td>\n",
       "      <td>0.0</td>\n",
       "      <td>0.0</td>\n",
       "      <td>0.0</td>\n",
       "      <td>0.0</td>\n",
       "      <td>0.0</td>\n",
       "      <td>0.0</td>\n",
       "      <td>0.0</td>\n",
       "      <td>0.0</td>\n",
       "      <td>...</td>\n",
       "      <td>0.0</td>\n",
       "      <td>0.0</td>\n",
       "      <td>0.0</td>\n",
       "      <td>0.0</td>\n",
       "      <td>0.0</td>\n",
       "      <td>0.0</td>\n",
       "      <td>0.0</td>\n",
       "      <td>0.0</td>\n",
       "      <td>0.0</td>\n",
       "      <td>0.0</td>\n",
       "    </tr>\n",
       "    <tr>\n",
       "      <th>4</th>\n",
       "      <td>0.0</td>\n",
       "      <td>0.0</td>\n",
       "      <td>0.0</td>\n",
       "      <td>0.0</td>\n",
       "      <td>0.0</td>\n",
       "      <td>0.0</td>\n",
       "      <td>0.0</td>\n",
       "      <td>0.0</td>\n",
       "      <td>0.0</td>\n",
       "      <td>0.0</td>\n",
       "      <td>...</td>\n",
       "      <td>0.0</td>\n",
       "      <td>0.0</td>\n",
       "      <td>0.0</td>\n",
       "      <td>0.0</td>\n",
       "      <td>0.0</td>\n",
       "      <td>0.0</td>\n",
       "      <td>0.0</td>\n",
       "      <td>0.0</td>\n",
       "      <td>0.0</td>\n",
       "      <td>0.0</td>\n",
       "    </tr>\n",
       "    <tr>\n",
       "      <th>...</th>\n",
       "      <td>...</td>\n",
       "      <td>...</td>\n",
       "      <td>...</td>\n",
       "      <td>...</td>\n",
       "      <td>...</td>\n",
       "      <td>...</td>\n",
       "      <td>...</td>\n",
       "      <td>...</td>\n",
       "      <td>...</td>\n",
       "      <td>...</td>\n",
       "      <td>...</td>\n",
       "      <td>...</td>\n",
       "      <td>...</td>\n",
       "      <td>...</td>\n",
       "      <td>...</td>\n",
       "      <td>...</td>\n",
       "      <td>...</td>\n",
       "      <td>...</td>\n",
       "      <td>...</td>\n",
       "      <td>...</td>\n",
       "      <td>...</td>\n",
       "    </tr>\n",
       "    <tr>\n",
       "      <th>69995</th>\n",
       "      <td>0.0</td>\n",
       "      <td>0.0</td>\n",
       "      <td>0.0</td>\n",
       "      <td>0.0</td>\n",
       "      <td>0.0</td>\n",
       "      <td>0.0</td>\n",
       "      <td>0.0</td>\n",
       "      <td>0.0</td>\n",
       "      <td>0.0</td>\n",
       "      <td>0.0</td>\n",
       "      <td>...</td>\n",
       "      <td>0.0</td>\n",
       "      <td>0.0</td>\n",
       "      <td>0.0</td>\n",
       "      <td>0.0</td>\n",
       "      <td>0.0</td>\n",
       "      <td>0.0</td>\n",
       "      <td>0.0</td>\n",
       "      <td>0.0</td>\n",
       "      <td>0.0</td>\n",
       "      <td>0.0</td>\n",
       "    </tr>\n",
       "    <tr>\n",
       "      <th>69996</th>\n",
       "      <td>0.0</td>\n",
       "      <td>0.0</td>\n",
       "      <td>0.0</td>\n",
       "      <td>0.0</td>\n",
       "      <td>0.0</td>\n",
       "      <td>0.0</td>\n",
       "      <td>0.0</td>\n",
       "      <td>0.0</td>\n",
       "      <td>0.0</td>\n",
       "      <td>0.0</td>\n",
       "      <td>...</td>\n",
       "      <td>0.0</td>\n",
       "      <td>0.0</td>\n",
       "      <td>0.0</td>\n",
       "      <td>0.0</td>\n",
       "      <td>0.0</td>\n",
       "      <td>0.0</td>\n",
       "      <td>0.0</td>\n",
       "      <td>0.0</td>\n",
       "      <td>0.0</td>\n",
       "      <td>0.0</td>\n",
       "    </tr>\n",
       "    <tr>\n",
       "      <th>69997</th>\n",
       "      <td>0.0</td>\n",
       "      <td>0.0</td>\n",
       "      <td>0.0</td>\n",
       "      <td>0.0</td>\n",
       "      <td>0.0</td>\n",
       "      <td>0.0</td>\n",
       "      <td>0.0</td>\n",
       "      <td>0.0</td>\n",
       "      <td>0.0</td>\n",
       "      <td>0.0</td>\n",
       "      <td>...</td>\n",
       "      <td>0.0</td>\n",
       "      <td>0.0</td>\n",
       "      <td>0.0</td>\n",
       "      <td>0.0</td>\n",
       "      <td>0.0</td>\n",
       "      <td>0.0</td>\n",
       "      <td>0.0</td>\n",
       "      <td>0.0</td>\n",
       "      <td>0.0</td>\n",
       "      <td>0.0</td>\n",
       "    </tr>\n",
       "    <tr>\n",
       "      <th>69998</th>\n",
       "      <td>0.0</td>\n",
       "      <td>0.0</td>\n",
       "      <td>0.0</td>\n",
       "      <td>0.0</td>\n",
       "      <td>0.0</td>\n",
       "      <td>0.0</td>\n",
       "      <td>0.0</td>\n",
       "      <td>0.0</td>\n",
       "      <td>0.0</td>\n",
       "      <td>0.0</td>\n",
       "      <td>...</td>\n",
       "      <td>0.0</td>\n",
       "      <td>0.0</td>\n",
       "      <td>0.0</td>\n",
       "      <td>0.0</td>\n",
       "      <td>0.0</td>\n",
       "      <td>0.0</td>\n",
       "      <td>0.0</td>\n",
       "      <td>0.0</td>\n",
       "      <td>0.0</td>\n",
       "      <td>0.0</td>\n",
       "    </tr>\n",
       "    <tr>\n",
       "      <th>69999</th>\n",
       "      <td>0.0</td>\n",
       "      <td>0.0</td>\n",
       "      <td>0.0</td>\n",
       "      <td>0.0</td>\n",
       "      <td>0.0</td>\n",
       "      <td>0.0</td>\n",
       "      <td>0.0</td>\n",
       "      <td>0.0</td>\n",
       "      <td>0.0</td>\n",
       "      <td>0.0</td>\n",
       "      <td>...</td>\n",
       "      <td>0.0</td>\n",
       "      <td>0.0</td>\n",
       "      <td>0.0</td>\n",
       "      <td>0.0</td>\n",
       "      <td>0.0</td>\n",
       "      <td>0.0</td>\n",
       "      <td>0.0</td>\n",
       "      <td>0.0</td>\n",
       "      <td>0.0</td>\n",
       "      <td>0.0</td>\n",
       "    </tr>\n",
       "  </tbody>\n",
       "</table>\n",
       "<p>70000 rows × 784 columns</p>\n",
       "</div>"
      ],
      "text/plain": [
       "       0    1    2    3    4    5    6    7    8    9    ...  774  775  776  \\\n",
       "0      0.0  0.0  0.0  0.0  0.0  0.0  0.0  0.0  0.0  0.0  ...  0.0  0.0  0.0   \n",
       "1      0.0  0.0  0.0  0.0  0.0  0.0  0.0  0.0  0.0  0.0  ...  0.0  0.0  0.0   \n",
       "2      0.0  0.0  0.0  0.0  0.0  0.0  0.0  0.0  0.0  0.0  ...  0.0  0.0  0.0   \n",
       "3      0.0  0.0  0.0  0.0  0.0  0.0  0.0  0.0  0.0  0.0  ...  0.0  0.0  0.0   \n",
       "4      0.0  0.0  0.0  0.0  0.0  0.0  0.0  0.0  0.0  0.0  ...  0.0  0.0  0.0   \n",
       "...    ...  ...  ...  ...  ...  ...  ...  ...  ...  ...  ...  ...  ...  ...   \n",
       "69995  0.0  0.0  0.0  0.0  0.0  0.0  0.0  0.0  0.0  0.0  ...  0.0  0.0  0.0   \n",
       "69996  0.0  0.0  0.0  0.0  0.0  0.0  0.0  0.0  0.0  0.0  ...  0.0  0.0  0.0   \n",
       "69997  0.0  0.0  0.0  0.0  0.0  0.0  0.0  0.0  0.0  0.0  ...  0.0  0.0  0.0   \n",
       "69998  0.0  0.0  0.0  0.0  0.0  0.0  0.0  0.0  0.0  0.0  ...  0.0  0.0  0.0   \n",
       "69999  0.0  0.0  0.0  0.0  0.0  0.0  0.0  0.0  0.0  0.0  ...  0.0  0.0  0.0   \n",
       "\n",
       "       777  778  779  780  781  782  783  \n",
       "0      0.0  0.0  0.0  0.0  0.0  0.0  0.0  \n",
       "1      0.0  0.0  0.0  0.0  0.0  0.0  0.0  \n",
       "2      0.0  0.0  0.0  0.0  0.0  0.0  0.0  \n",
       "3      0.0  0.0  0.0  0.0  0.0  0.0  0.0  \n",
       "4      0.0  0.0  0.0  0.0  0.0  0.0  0.0  \n",
       "...    ...  ...  ...  ...  ...  ...  ...  \n",
       "69995  0.0  0.0  0.0  0.0  0.0  0.0  0.0  \n",
       "69996  0.0  0.0  0.0  0.0  0.0  0.0  0.0  \n",
       "69997  0.0  0.0  0.0  0.0  0.0  0.0  0.0  \n",
       "69998  0.0  0.0  0.0  0.0  0.0  0.0  0.0  \n",
       "69999  0.0  0.0  0.0  0.0  0.0  0.0  0.0  \n",
       "\n",
       "[70000 rows x 784 columns]"
      ]
     },
     "execution_count": 8,
     "metadata": {},
     "output_type": "execute_result"
    }
   ],
   "source": [
    "# 데이터 프레임 객체로 변환하고 화면에 출력\n",
    "pd.DataFrame(mnist_data)"
   ]
  },
  {
   "cell_type": "markdown",
   "metadata": {},
   "source": [
    "1번 째 이미지를 화면에 출력해본다"
   ]
  },
  {
   "cell_type": "code",
   "execution_count": 9,
   "metadata": {},
   "outputs": [
    {
     "data": {
      "image/png": "[encoded data removed]",
      "text/plain": [
       "<Figure size 432x288 with 1 Axes>"
      ]
     },
     "metadata": {
      "needs_background": "light"
     },
     "output_type": "display_data"
    }
   ],
   "source": [
    "from matplotlib import pyplot as plt\n",
    "\n",
    "plt.imshow(mnist_data[0].reshape(28, 28), cmap=cm.gray_r)\n",
    "plt.show()"
   ]
  },
  {
   "cell_type": "markdown",
   "metadata": {},
   "source": [
    "Malimg 파일도 출력할 수 있을 것 같은데...?"
   ]
  },
  {
   "cell_type": "markdown",
   "metadata": {},
   "source": [
    "그 전에 이미지를 여러개 출력할 수는 없을까?<br/>\n",
    "* Reference: https://stackoverflow.com/questions/46615554/how-to-display-multiple-images-in-one-figure-correctly/46616645"
   ]
  },
  {
   "cell_type": "code",
   "execution_count": 10,
   "metadata": {},
   "outputs": [
    {
     "data": {
      "image/png": "[encoded data removed]",
      "text/plain": [
       "<Figure size 576x576 with 32 Axes>"
      ]
     },
     "metadata": {
      "needs_background": "light"
     },
     "output_type": "display_data"
    }
   ],
   "source": [
    "import numpy as np\n",
    "import matplotlib.pyplot as plt\n",
    "\n",
    "# w=10\n",
    "# h=10\n",
    "fig = plt.figure(figsize=(8,8))\n",
    "columns = 8\n",
    "rows = 4\n",
    "\n",
    "for i in range(1, columns*rows +1):\n",
    "#     img = np.random.randint(10, size=(h, w))\n",
    "    img = mnist_data[i].reshape(28, 28)\n",
    "    fig.add_subplot(rows, columns, i)\n",
    "    plt.imshow(img)\n",
    "plt.show()"
   ]
  },
  {
   "cell_type": "markdown",
   "metadata": {},
   "source": [
    "cmap gray 출력"
   ]
  },
  {
   "cell_type": "code",
   "execution_count": 11,
   "metadata": {},
   "outputs": [
    {
     "data": {
      "image/png": "[encoded data removed]",
      "text/plain": [
       "<Figure size 576x576 with 32 Axes>"
      ]
     },
     "metadata": {
      "needs_background": "light"
     },
     "output_type": "display_data"
    }
   ],
   "source": [
    "import numpy as np\n",
    "import matplotlib.pyplot as plt\n",
    "\n",
    "w=10\n",
    "h=10\n",
    "fig = plt.figure(figsize=(8,8))\n",
    "columns = 8\n",
    "rows = 4\n",
    "for i in range(1, columns*rows +1):\n",
    "#     img = np.random.randint(10, size=(h, w))\n",
    "    img = mnist_data[i].reshape(28, 28)\n",
    "    fig.add_subplot(rows, columns, i)\n",
    "    plt.imshow(img, cmap=cm.gray_r)\n",
    "plt.show()"
   ]
  },
  {
   "cell_type": "markdown",
   "metadata": {},
   "source": [
    "# #2. Data Preprocessing"
   ]
  },
  {
   "cell_type": "markdown",
   "metadata": {},
   "source": [
    "* Train_Test_Split()\n",
    "* 종속변수 데이터 타입 변경하기"
   ]
  },
  {
   "cell_type": "code",
   "execution_count": 12,
   "metadata": {},
   "outputs": [
    {
     "data": {
      "text/plain": [
       "array(['5', '0', '4', ..., '4', '5', '6'], dtype=object)"
      ]
     },
     "execution_count": 12,
     "metadata": {},
     "output_type": "execute_result"
    }
   ],
   "source": [
    "# 목적변수를 변수에 할당하고 데이터를 화면에 출력\n",
    "\n",
    "mnist_label = mnist.target\n",
    "mnist_label"
   ]
  },
  {
   "cell_type": "markdown",
   "metadata": {},
   "source": [
    "### train_test_split()\n",
    "70000개의 데이터 중에서 train data는 5000개, test data는 500개를 추출할 수 있도록 한다"
   ]
  },
  {
   "cell_type": "code",
   "execution_count": 13,
   "metadata": {},
   "outputs": [],
   "source": [
    "# 훈련 데이터 건수 \n",
    "train_size = 5000  # 5000\n",
    "# 테스트 데이터 건수\n",
    "test_size = 500\n",
    "\n",
    "# 데이터 집합을 훈련 데이터와 테스트 데이터로 분할한다\n",
    "train_X, test_X, train_Y, test_Y = model_selection.train_test_split(\n",
    "mnist_data, mnist_label, train_size=train_size, test_size=test_size)"
   ]
  },
  {
   "cell_type": "markdown",
   "metadata": {},
   "source": [
    "기존에는 test_size parameter값으로 float type값인 0.2를 제공했었다면 이번에는 int형으로 절대값을 제공했다.<br/>\n",
    "float값을 인자로 줄 경우 test set의 크기는 전체 사이즈에서 입력받은 값의 비율만큼이다.<br/>\n",
    "<br/>\n",
    "**sklearn.model_selection.train_test_split()**<br/>\n",
    "test_size: float, int or None, optional (default=None)<br/>\n",
    "If float, should be between 0.0 and 1.0 and represent the proportion of the dataset to include in the test split"
   ]
  },
  {
   "cell_type": "markdown",
   "metadata": {},
   "source": [
    "### MNIST 데이터 종속변수 Data Type 변경하기"
   ]
  },
  {
   "cell_type": "markdown",
   "metadata": {},
   "source": [
    "train_Y, test_Y의 데이터 타입을 변경해준다.<br/>\n",
    "float32 타입으로 변경하지 않을 경우, 텐서 생성이 되지 않는 매직..."
   ]
  },
  {
   "cell_type": "code",
   "execution_count": 14,
   "metadata": {},
   "outputs": [
    {
     "data": {
      "text/plain": [
       "array(['2', '9', '2', ..., '6', '2', '9'], dtype=object)"
      ]
     },
     "execution_count": 14,
     "metadata": {},
     "output_type": "execute_result"
    }
   ],
   "source": [
    "train_Y"
   ]
  },
  {
   "cell_type": "code",
   "execution_count": 15,
   "metadata": {},
   "outputs": [
    {
     "data": {
      "text/plain": [
       "array(['3', '3', '1', '7', '9', '7', '5', '1', '9', '2', '5', '2', '0',\n",
       "       '6', '2', '9', '2', '1', '4', '0', '9', '2', '7', '6', '9', '1',\n",
       "       '4', '7', '6', '7', '7', '3', '7', '1', '6', '4', '5', '8', '7',\n",
       "       '6', '0', '7', '1', '8', '9', '8', '5', '4', '9', '9', '8', '9',\n",
       "       '1', '5', '6', '5', '3', '1', '4', '4', '6', '7', '4', '7', '4',\n",
       "       '9', '1', '1', '4', '1', '3', '0', '4', '6', '4', '9', '3', '5',\n",
       "       '9', '9', '9', '0', '6', '5', '5', '8', '7', '9', '1', '8', '7',\n",
       "       '0', '1', '0', '8', '3', '4', '7', '8', '3', '7', '0', '6', '2',\n",
       "       '0', '4', '2', '2', '4', '6', '1', '7', '8', '7', '3', '6', '6',\n",
       "       '4', '0', '0', '3', '3', '3', '8', '8', '0', '0', '0', '0', '7',\n",
       "       '3', '4', '9', '6', '1', '8', '9', '0', '2', '8', '7', '9', '8',\n",
       "       '1', '4', '9', '9', '3', '7', '8', '7', '5', '9', '3', '9', '4',\n",
       "       '8', '9', '1', '6', '7', '3', '8', '9', '4', '5', '0', '0', '5',\n",
       "       '7', '6', '4', '4', '2', '1', '7', '3', '7', '0', '5', '1', '2',\n",
       "       '0', '1', '4', '4', '0', '3', '0', '7', '7', '7', '7', '0', '3',\n",
       "       '3', '1', '1', '1', '8', '1', '7', '3', '0', '6', '7', '5', '1',\n",
       "       '5', '0', '3', '7', '1', '9', '2', '6', '4', '4', '0', '6', '7',\n",
       "       '3', '9', '0', '5', '5', '5', '6', '9', '9', '7', '6', '8', '7',\n",
       "       '5', '4', '4', '2', '4', '8', '6', '7', '6', '0', '5', '0', '3',\n",
       "       '8', '7', '1', '2', '8', '6', '3', '6', '6', '9', '2', '9', '0',\n",
       "       '6', '3', '7', '0', '3', '2', '8', '2', '3', '9', '4', '5', '9',\n",
       "       '6', '2', '6', '2', '8', '7', '8', '1', '8', '5', '3', '3', '5',\n",
       "       '8', '3', '6', '0', '1', '1', '6', '2', '6', '7', '2', '8', '4',\n",
       "       '0', '9', '0', '1', '5', '9', '0', '1', '2', '4', '5', '0', '4',\n",
       "       '1', '5', '7', '2', '1', '3', '0', '6', '7', '7', '5', '1', '0',\n",
       "       '4', '9', '7', '2', '7', '4', '8', '9', '9', '0', '0', '7', '8',\n",
       "       '3', '5', '3', '1', '2', '2', '1', '6', '2', '8', '1', '6', '6',\n",
       "       '4', '8', '6', '7', '7', '2', '9', '5', '5', '4', '8', '1', '8',\n",
       "       '3', '0', '0', '8', '8', '1', '2', '0', '6', '5', '9', '8', '1',\n",
       "       '8', '5', '7', '1', '5', '7', '0', '6', '7', '7', '7', '9', '9',\n",
       "       '2', '1', '5', '4', '4', '1', '5', '8', '5', '1', '0', '1', '2',\n",
       "       '6', '6', '8', '6', '3', '8', '1', '1', '7', '8', '2', '5', '9',\n",
       "       '1', '9', '2', '9', '7', '1', '8', '9', '8', '7', '1', '8', '2',\n",
       "       '9', '0', '4', '7', '7', '7', '7', '5', '0', '8', '4', '5', '1',\n",
       "       '7', '5', '8', '2', '6', '4', '4', '1', '1', '7', '7', '2', '0',\n",
       "       '8', '9', '9', '3', '3', '6', '7', '9', '5', '6', '0', '2', '5',\n",
       "       '9', '5', '6', '6', '7', '5', '8', '9', '0', '3', '6', '8', '1',\n",
       "       '4', '7', '6', '1', '2', '5', '5', '6', '3', '3', '0', '6', '7',\n",
       "       '3', '1', '1', '7', '0', '0'], dtype=object)"
      ]
     },
     "execution_count": 15,
     "metadata": {},
     "output_type": "execute_result"
    }
   ],
   "source": [
    "test_Y"
   ]
  },
  {
   "cell_type": "markdown",
   "metadata": {},
   "source": [
    "train set과 test set의 데이터 타입(dtype)이 모두 object로 되어있어 뒤에서 텐서 생성시 오류가 발생한다.<br/>\n",
    "object type의 데이터를 float타입으로 변경해준다"
   ]
  },
  {
   "cell_type": "markdown",
   "metadata": {},
   "source": [
    "** float32타입으로 변경하기**"
   ]
  },
  {
   "cell_type": "code",
   "execution_count": 16,
   "metadata": {},
   "outputs": [
    {
     "name": "stdout",
     "output_type": "stream",
     "text": [
      "train_Y의 Data Type: \n"
     ]
    },
    {
     "data": {
      "text/plain": [
       "array([2., 9., 2., ..., 6., 2., 9.], dtype=float32)"
      ]
     },
     "execution_count": 16,
     "metadata": {},
     "output_type": "execute_result"
    }
   ],
   "source": [
    "train_Y = train_Y.astype(np.float32)\n",
    "test_Y = test_Y.astype(np.float32)\n",
    "print('train_Y의 Data Type: ')\n",
    "train_Y"
   ]
  },
  {
   "cell_type": "code",
   "execution_count": 17,
   "metadata": {},
   "outputs": [
    {
     "name": "stdout",
     "output_type": "stream",
     "text": [
      "test_Y의 Data Type: \n"
     ]
    },
    {
     "data": {
      "text/plain": [
       "array([3., 3., 1., 7., 9., 7., 5., 1., 9., 2., 5., 2., 0., 6., 2., 9., 2.,\n",
       "       1., 4., 0., 9., 2., 7., 6., 9., 1., 4., 7., 6., 7., 7., 3., 7., 1.,\n",
       "       6., 4., 5., 8., 7., 6., 0., 7., 1., 8., 9., 8., 5., 4., 9., 9., 8.,\n",
       "       9., 1., 5., 6., 5., 3., 1., 4., 4., 6., 7., 4., 7., 4., 9., 1., 1.,\n",
       "       4., 1., 3., 0., 4., 6., 4., 9., 3., 5., 9., 9., 9., 0., 6., 5., 5.,\n",
       "       8., 7., 9., 1., 8., 7., 0., 1., 0., 8., 3., 4., 7., 8., 3., 7., 0.,\n",
       "       6., 2., 0., 4., 2., 2., 4., 6., 1., 7., 8., 7., 3., 6., 6., 4., 0.,\n",
       "       0., 3., 3., 3., 8., 8., 0., 0., 0., 0., 7., 3., 4., 9., 6., 1., 8.,\n",
       "       9., 0., 2., 8., 7., 9., 8., 1., 4., 9., 9., 3., 7., 8., 7., 5., 9.,\n",
       "       3., 9., 4., 8., 9., 1., 6., 7., 3., 8., 9., 4., 5., 0., 0., 5., 7.,\n",
       "       6., 4., 4., 2., 1., 7., 3., 7., 0., 5., 1., 2., 0., 1., 4., 4., 0.,\n",
       "       3., 0., 7., 7., 7., 7., 0., 3., 3., 1., 1., 1., 8., 1., 7., 3., 0.,\n",
       "       6., 7., 5., 1., 5., 0., 3., 7., 1., 9., 2., 6., 4., 4., 0., 6., 7.,\n",
       "       3., 9., 0., 5., 5., 5., 6., 9., 9., 7., 6., 8., 7., 5., 4., 4., 2.,\n",
       "       4., 8., 6., 7., 6., 0., 5., 0., 3., 8., 7., 1., 2., 8., 6., 3., 6.,\n",
       "       6., 9., 2., 9., 0., 6., 3., 7., 0., 3., 2., 8., 2., 3., 9., 4., 5.,\n",
       "       9., 6., 2., 6., 2., 8., 7., 8., 1., 8., 5., 3., 3., 5., 8., 3., 6.,\n",
       "       0., 1., 1., 6., 2., 6., 7., 2., 8., 4., 0., 9., 0., 1., 5., 9., 0.,\n",
       "       1., 2., 4., 5., 0., 4., 1., 5., 7., 2., 1., 3., 0., 6., 7., 7., 5.,\n",
       "       1., 0., 4., 9., 7., 2., 7., 4., 8., 9., 9., 0., 0., 7., 8., 3., 5.,\n",
       "       3., 1., 2., 2., 1., 6., 2., 8., 1., 6., 6., 4., 8., 6., 7., 7., 2.,\n",
       "       9., 5., 5., 4., 8., 1., 8., 3., 0., 0., 8., 8., 1., 2., 0., 6., 5.,\n",
       "       9., 8., 1., 8., 5., 7., 1., 5., 7., 0., 6., 7., 7., 7., 9., 9., 2.,\n",
       "       1., 5., 4., 4., 1., 5., 8., 5., 1., 0., 1., 2., 6., 6., 8., 6., 3.,\n",
       "       8., 1., 1., 7., 8., 2., 5., 9., 1., 9., 2., 9., 7., 1., 8., 9., 8.,\n",
       "       7., 1., 8., 2., 9., 0., 4., 7., 7., 7., 7., 5., 0., 8., 4., 5., 1.,\n",
       "       7., 5., 8., 2., 6., 4., 4., 1., 1., 7., 7., 2., 0., 8., 9., 9., 3.,\n",
       "       3., 6., 7., 9., 5., 6., 0., 2., 5., 9., 5., 6., 6., 7., 5., 8., 9.,\n",
       "       0., 3., 6., 8., 1., 4., 7., 6., 1., 2., 5., 5., 6., 3., 3., 0., 6.,\n",
       "       7., 3., 1., 1., 7., 0., 0.], dtype=float32)"
      ]
     },
     "execution_count": 17,
     "metadata": {},
     "output_type": "execute_result"
    }
   ],
   "source": [
    "print('test_Y의 Data Type: ')\n",
    "test_Y"
   ]
  },
  {
   "cell_type": "markdown",
   "metadata": {},
   "source": [
    "### 길이가 784인 1차원 배열을 28*28 크기의 2차원 배열로 만들어준다."
   ]
  },
  {
   "cell_type": "code",
   "execution_count": 18,
   "metadata": {},
   "outputs": [],
   "source": [
    "train_X = train_X.reshape((len(train_X), 1, 28, 28))\n",
    "test_X = test_X.reshape((len(test_X), 1, 28, 28))"
   ]
  },
  {
   "cell_type": "markdown",
   "metadata": {},
   "source": [
    "# #3. 텐서 생성"
   ]
  },
  {
   "cell_type": "markdown",
   "metadata": {},
   "source": [
    "* 텐서 생성\n",
    "    * 훈련 데이터 텐서 변환\n",
    "    * 테스트 데이터 텐서 변환\n",
    "* 설명변수와 목적변수 합치기\n",
    "* 데이터로더(DataLoader)"
   ]
  },
  {
   "cell_type": "code",
   "execution_count": 19,
   "metadata": {},
   "outputs": [
    {
     "name": "stdout",
     "output_type": "stream",
     "text": [
      "train_X.shape:  torch.Size([5000, 1, 28, 28])\n",
      "train_Y.shape:  torch.Size([5000])\n",
      "test_X.shape:  torch.Size([500, 1, 28, 28])\n",
      "test_Y.shape:  torch.Size([500])\n"
     ]
    }
   ],
   "source": [
    "# 훈련 데이터 텐서 변환\n",
    "train_X = torch.from_numpy(train_X).float()\n",
    "train_Y = torch.from_numpy(train_Y).long()\n",
    "\n",
    "# 테스트 데이터 텐서 변환\n",
    "test_X = torch.from_numpy(test_X).float()\n",
    "test_Y = torch.from_numpy(test_Y).float()\n",
    "\n",
    "# 변환된 텐서의 형상 확인\n",
    "print('train_X.shape: ', train_X.shape)\n",
    "print('train_Y.shape: ', train_Y.shape)\n",
    "print('test_X.shape: ', test_X.shape)\n",
    "print('test_Y.shape: ', test_Y.shape)"
   ]
  },
  {
   "cell_type": "markdown",
   "metadata": {},
   "source": [
    "### 설명 변수와 목적변수 텐서 합치기\n",
    "TensorDataset()함수로 설명 변수와 목적변수를 합쳐준다"
   ]
  },
  {
   "cell_type": "code",
   "execution_count": 25,
   "metadata": {},
   "outputs": [],
   "source": [
    "from torch.utils.data import TensorDataset, DataLoader\n",
    "\n",
    "# 설명 변수와 목적변수 텐서 합치기\n",
    "train = TensorDataset(train_X, train_Y)"
   ]
  },
  {
   "cell_type": "markdown",
   "metadata": {},
   "source": [
    "### 미니배치 분할\n",
    "DataLoader()함수를 사용해 batch_size만큼 데이터를 불러올 수 있도록 만들어준다"
   ]
  },
  {
   "cell_type": "code",
   "execution_count": 21,
   "metadata": {},
   "outputs": [],
   "source": [
    "train_loader = DataLoader(train, batch_size=100, shuffle=True)"
   ]
  },
  {
   "cell_type": "markdown",
   "metadata": {},
   "source": [
    "# #4. 신경망 구성"
   ]
  },
  {
   "cell_type": "markdown",
   "metadata": {},
   "source": [
    "학습에 사용할 합성곱신경망을 구성한다.<br/>\n",
    "입력층과 출력층이 각각 1개, 합성곱층 2개와 풀링층 2개, 전결합층 1개로 구성된 중간층을 갖는다.<br/>\n",
    "입력층의 노드 수는 10개다.<br/>\n",
    "중간층의 구조에 대한 내용은 뒤에서 보다 자세히 설명한다."
   ]
  },
  {
   "cell_type": "code",
   "execution_count": 22,
   "metadata": {},
   "outputs": [
    {
     "name": "stderr",
     "output_type": "stream",
     "text": [
      "C:\\Users\\stevelee\\Anaconda3\\lib\\site-packages\\ipykernel_launcher.py:21: UserWarning: Implicit dimension choice for log_softmax has been deprecated. Change the call to include dim=X as an argument.\n"
     ]
    },
    {
     "name": "stdout",
     "output_type": "stream",
     "text": [
      "Epoch:  100 Total loss:  tensor(3.2285)\n",
      "Epoch:  200 Total loss:  tensor(0.7190)\n",
      "Epoch:  300 Total loss:  tensor(0.2046)\n",
      "Epoch:  400 Total loss:  tensor(0.1019)\n",
      "Epoch:  500 Total loss:  tensor(0.0631)\n",
      "Epoch:  600 Total loss:  tensor(0.0435)\n",
      "Epoch:  700 Total loss:  tensor(0.0331)\n",
      "Epoch:  800 Total loss:  tensor(0.0261)\n",
      "Epoch:  900 Total loss:  tensor(0.0214)\n",
      "Epoch:  1000 Total loss:  tensor(0.0180)\n"
     ]
    }
   ],
   "source": [
    "# 신경망의 구성\n",
    "class Net(nn.Module):  # nn.Module: 모든 신경망의 기본이 되는 클래스이다.\n",
    "    def __init__(self):\n",
    "        super(Net, self).__init__()\n",
    "        # 합성곱층(Convolutional Layer)\n",
    "        self.conv1 = nn.Conv2d(1, 6, 5)  # 입력 채널 수, 출력 채널 수, 필터 크기\n",
    "        self.conv2 = nn.Conv2d(6, 16, 5) # Q1. 각각의 값들을 어떻게 정하는 건가요? -20.02.18.Tue pm10:30-\n",
    "        \n",
    "        # 전결합층(Fully-connected Layer)\n",
    "        self.fc1 = nn.Linear(256, 64)  # 256 = (((28-5+1)/2 )-5+1)/2 * (((28-5+1)/2)-5+1)/2 *16\n",
    "                                       # (1번식)ConV 출력의 크기: 패딩이 없고, 스트라이드는 1일 때 \n",
    "                                       # ((입력층 노드수(28) + 0(패딩x) - 필터크기(5))/stride(1) + 1)/2\n",
    "                                       # 풀링계층의 출력값:       ((1번식) -5 + 1)/ 2\n",
    "                                       # (ConV + Pooling) * (ConV + Pooling) * 16 <- 16은 뭘까?\n",
    "                                       # 16은 2번째 Conv Layer 출력 채널의 수인데?\n",
    "                                       # 출력 채널의수?! \n",
    "                                       \n",
    "                                    \n",
    "                                       # Q. 256라는 숫자가 어떻게해서 나온걸까? -20.02.18.Tue pm 9:30-\n",
    "                                       \n",
    "                                       # 지금까지 이해한 내용으로 정리해 봤을 때\n",
    "                                       # 1. Conv Layer 2개의 층을 지나 256의 노드가 생성된다.\n",
    "                                       # 2. 256개의 노드를 Fully-Connected Layer에서 64개의 노드로 결합하고\n",
    "                                       # 3. 다시 Fully-connected Layer를 거쳐 10개의 노드로 출력한다.\n",
    "                                       # 4. 10개의 노드에 Softmax 함수를 Activation Function으로 줘서 가장 높은 값의 확률값을 얻는다.\n",
    "                                       # -20.02.18.Tue pm 11:00-\n",
    "        self.fc2 = nn.Linear(64, 10)\n",
    "        \n",
    "    def forward(self, x):\n",
    "        # 풀링층\n",
    "        x = F.max_pool2d(F.relu(self.conv1(x)), 2) # 풀링 영역 크기\n",
    "        x = F.max_pool2d(F.relu(self.conv2(x)), 2) # Conv-Activation(ReLU)-MaxPooling: Activation Function으로 ReLU()함수를 제공\n",
    "        x = x.view(-1, 256)\n",
    "        x = F.relu(self.fc1(x))\n",
    "        x = self.fc2(x)\n",
    "        return F.log_softmax(x)\n",
    "    \n",
    "# 인스턴스 생성\n",
    "model = Net()\n",
    "\n",
    "# 오차 함수 객체\n",
    "criterion = nn.CrossEntropyLoss()\n",
    "\n",
    "# 최적화를 담당할 객체\n",
    "optimizer = optim.SGD(model.parameters(), lr=0.01)\n",
    "\n",
    "# 학습 시작\n",
    "for epoch in range(1000):\n",
    "    total_loss = 0\n",
    "    # 분할해 둔 데이터를 꺼내온다\n",
    "    for train_x, train_y in train_loader:\n",
    "        # 계산 그래프 구성\n",
    "        train_x, train_y = Variable(train_x), Variable(train_y)\n",
    "        # 경사 초기화\n",
    "        optimizer.zero_grad()\n",
    "        # 순전파 계산\n",
    "        output = model(train_x)\n",
    "        # 오차 계산(loss 계산)\n",
    "        loss = criterion(output, train_y)\n",
    "        # 역전파 계산\n",
    "        loss.backward()\n",
    "        # 가중치 업데이트\n",
    "        optimizer.step()\n",
    "        # 누적 오차 계산\n",
    "        total_loss += loss.data\n",
    "        \n",
    "    # 100회마다 누적 오차 출력\n",
    "    if (epoch+1) % 100 == 0:\n",
    "        print('Epoch: ', epoch+1, 'Total loss: ', total_loss)"
   ]
  },
  {
   "cell_type": "markdown",
   "metadata": {},
   "source": [
    "hum... 이해가 안가는 부분들이 너무 많군... -20.02.18.Tue pm9:32-"
   ]
  },
  {
   "cell_type": "markdown",
   "metadata": {},
   "source": [
    "# #6. Accuracy Test"
   ]
  },
  {
   "cell_type": "code",
   "execution_count": 23,
   "metadata": {},
   "outputs": [
    {
     "name": "stderr",
     "output_type": "stream",
     "text": [
      "C:\\Users\\stevelee\\Anaconda3\\lib\\site-packages\\ipykernel_launcher.py:21: UserWarning: Implicit dimension choice for log_softmax has been deprecated. Change the call to include dim=X as an argument.\n"
     ]
    },
    {
     "data": {
      "text/plain": [
       "0.962"
      ]
     },
     "execution_count": 23,
     "metadata": {},
     "output_type": "execute_result"
    }
   ],
   "source": [
    "# 계산 그래프 구성\n",
    "test_x, test_y = Variable(test_X), Variable(test_Y)\n",
    "\n",
    "# 출력이 0 또는 1이 되게 함\n",
    "result = torch.max(model(test_x).data, 1)[1]\n",
    "\n",
    "# 모형의 정확도 측정\n",
    "accuracy = sum(test_y.data.numpy() == result.numpy()) / len(test_y.data.numpy())\n",
    "\n",
    "# 모형의 정확도 출력\n",
    "accuracy"
   ]
  },
  {
   "cell_type": "markdown",
   "metadata": {},
   "source": [
    "단 2개의 합성곱 층으로 이렇게 높은 성능을 보이다니...;; -20.02.18.Tue pm 10:02<br/>\n",
    "또 한번의 Tutorial은 끝이났다. 문제는 합성곱층, 전결합층, 풀링계층에서 사용되는 함수와 함수가 받는 매개변수의 값이 제대로 이해되지 않을 것 같다"
   ]
  }
 ],
 "metadata": {
  "kernelspec": {
   "display_name": "Python 3",
   "language": "python",
   "name": "python3"
  },
  "language_info": {
   "codemirror_mode": {
    "name": "ipython",
    "version": 3
   },
   "file_extension": ".py",
   "mimetype": "text/x-python",
   "name": "python",
   "nbconvert_exporter": "python",
   "pygments_lexer": "ipython3",
   "version": "3.7.6"
  }
 },
 "nbformat": 4,
 "nbformat_minor": 4
}
