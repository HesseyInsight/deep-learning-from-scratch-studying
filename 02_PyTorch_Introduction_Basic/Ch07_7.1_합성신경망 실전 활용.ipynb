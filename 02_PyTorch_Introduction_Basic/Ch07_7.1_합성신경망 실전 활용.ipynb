{
 "cells": [
  {
   "cell_type": "markdown",
   "metadata": {},
   "source": [
    "# Chap7. 합성곱신경망 실전 활용\n",
    "## 7-1. 알고리즘 및 모형 학습"
   ]
  },
  {
   "cell_type": "markdown",
   "metadata": {},
   "source": [
    "앞서 6장에서 와인 데이터와 손글씨 이미지를 분류하기 위한 모형을 다층 퍼셉트론으로 학습해봤다.<br/>\n",
    "다층 퍼셉트론 중에서 이미지 데이터에 특화된 것으로 합성곱신경망(Convolutional Neural Network, CNN)이 있다.<br/>\n",
    "이미지 데이터를 CNN로 학습하면 정확도가 더 뛰어난 모형을 학습할 수 있다."
   ]
  },
  {
   "cell_type": "markdown",
   "metadata": {},
   "source": [
    "**차이점**<br/>\n",
    "CNN과 다층퍼셉트론의 차이는 중간층의 구성이다.<br/>\n",
    "CNN은 중간층이 합성곱층, 풀링층, 전결합층으로 구성되어 있다."
   ]
  },
  {
   "cell_type": "markdown",
   "metadata": {},
   "source": [
    "내용적인 부분은 밑러닝1에 비해 설명이 많이 생략된 것 같다.<br/>\n",
    "가볍게 한 번 읽고 예제로 바로 들어가자"
   ]
  },
  {
   "cell_type": "code",
   "execution_count": null,
   "metadata": {},
   "outputs": [],
   "source": []
  }
 ],
 "metadata": {
  "kernelspec": {
   "display_name": "Python 3",
   "language": "python",
   "name": "python3"
  },
  "language_info": {
   "codemirror_mode": {
    "name": "ipython",
    "version": 3
   },
   "file_extension": ".py",
   "mimetype": "text/x-python",
   "name": "python",
   "nbconvert_exporter": "python",
   "pygments_lexer": "ipython3",
   "version": "3.7.6"
  }
 },
 "nbformat": 4,
 "nbformat_minor": 4
}
