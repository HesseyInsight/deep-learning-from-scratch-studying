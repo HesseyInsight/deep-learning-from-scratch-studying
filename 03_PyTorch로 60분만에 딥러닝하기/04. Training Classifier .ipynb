{
 "cells": [
  {
   "cell_type": "markdown",
   "metadata": {},
   "source": [
    "# 분류기(Classifier) 학습하기"
   ]
  },
  {
   "cell_type": "markdown",
   "metadata": {},
   "source": [
    "지금까지 어떻게 신경망을 정의하고, 손실을 계산하며 또 가중치를 갱신하는지에 대해서 배웠다.\n",
    "\n",
    "데이터는 어떻게 해야할까?\n",
    "\n",
    "일반적으로 이미지나 텍스트, 오디오나 비디오 데이터를 다룰 때는 표준 Python 패키지를 이용하여 NumPy 배열로 불러오면 된다. 그 후 배열을 <code>torch.*Tensor</code>로 변환한다.\n",
    "\n",
    "* 이미지는 Pillow나 OpenCV같은 패키지가 유용하다.\n",
    "* 오디오를 처리할 때는 SciPy와 LibROSA가 유용하다.\n",
    "* 텍스트의 경우에는 그냥 Python이나 Cython을 사용해도 되고, NLTK나 SpaCy도 유용하다.\n",
    "\n",
    "특별히 영상 분야를 위한 <code>torchvision</code>라는 패키지가 만들어져 있는데, 여기에는 Imagenet이나 CIFAR10, MNIST 등과 같이 일반적으로 사용하는 데이터셋을 위한 데이터 로더(data loader), 즉,<code>torchvision.datasets</code>과 이미지용 데이터 변환기(data transformer), 즉<code>torch.utils.data.DataLoader</code>가 포함되어 있다\n",
    "\n",
    "이러한 기능은 엄청나게 편리하며, 매번 유사한 코드(boilerplate code)를 반복해서 작성하는 것을 피할 수 있다.\n",
    "\n",
    "이 튜토리얼에서는 CIFAR 10 데이터셋을 사용한다. \n",
    "\n",
    "<img src=\"./cifar10.png\">"
   ]
  },
  {
   "cell_type": "markdown",
   "metadata": {},
   "source": [
    "## 이미지 분류기 학습하기"
   ]
  },
  {
   "cell_type": "markdown",
   "metadata": {},
   "source": [
    "다음과 같은 단계로 진행한다.\n",
    "\n",
    "1. <code>torchvisioin</code>을 사용하여 CIFAR10의 학습용/시험용 데이터셋을 불러오고, 정규화(normalizing)한다.<br>\n",
    "2. 합성곱 신경망(Convolution Neural Network)을 정의한다.<br>\n",
    "3. 손실 삼후를 정의한다.<br>\n",
    "4. 학습용 데이터를 사용하여 신경망을 학습한다.<br>\n",
    "5. 시험용 데이터를 사용하여 신경망을 검사한다."
   ]
  },
  {
   "cell_type": "markdown",
   "metadata": {},
   "source": [
    "## #1. CIFAR10을 불러오고 정규화하기"
   ]
  },
  {
   "cell_type": "code",
   "execution_count": null,
   "metadata": {},
   "outputs": [],
   "source": []
  },
  {
   "cell_type": "markdown",
   "metadata": {},
   "source": [
    "## #2. 합성곱 신경망(Convolutional Neural Network)정의하기"
   ]
  },
  {
   "cell_type": "code",
   "execution_count": null,
   "metadata": {},
   "outputs": [],
   "source": []
  },
  {
   "cell_type": "markdown",
   "metadata": {},
   "source": [
    "## #3. 손실 함수와 Optimizer 정의하기"
   ]
  },
  {
   "cell_type": "code",
   "execution_count": null,
   "metadata": {},
   "outputs": [],
   "source": []
  },
  {
   "cell_type": "markdown",
   "metadata": {},
   "source": [
    "## #4. 신경망 학습하기"
   ]
  },
  {
   "cell_type": "markdown",
   "metadata": {},
   "source": [
    "여기서부터 재미있는 부분이 시작된다고 한다(예고편) - 20.02.23.Sun pm 4:20 -"
   ]
  },
  {
   "cell_type": "code",
   "execution_count": null,
   "metadata": {},
   "outputs": [],
   "source": []
  }
 ],
 "metadata": {
  "kernelspec": {
   "display_name": "Python 3",
   "language": "python",
   "name": "python3"
  },
  "language_info": {
   "codemirror_mode": {
    "name": "ipython",
    "version": 3
   },
   "file_extension": ".py",
   "mimetype": "text/x-python",
   "name": "python",
   "nbconvert_exporter": "python",
   "pygments_lexer": "ipython3",
   "version": "3.7.6"
  }
 },
 "nbformat": 4,
 "nbformat_minor": 4
}
