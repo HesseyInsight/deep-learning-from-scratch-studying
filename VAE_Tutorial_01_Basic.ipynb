{
  "nbformat": 4,
  "nbformat_minor": 0,
  "metadata": {
    "colab": {
      "name": "VAE_Tutorial 01. Basic.ipynb",
      "provenance": [],
      "collapsed_sections": [],
      "authorship_tag": "ABX9TyPWaEVD6mc3wP0UDW452dyW",
      "include_colab_link": true
    },
    "kernelspec": {
      "name": "python3",
      "display_name": "Python 3"
    },
    "accelerator": "GPU"
  },
  "cells": [
    {
      "cell_type": "markdown",
      "metadata": {
        "id": "view-in-github",
        "colab_type": "text"
      },
      "source": [
        "<a href=\"https://colab.research.google.com/github/Steve-YJ/deep-learning-from-scratch-studying/blob/master/VAE_Tutorial_01_Basic.ipynb\" target=\"_parent\"><img src=\"https://colab.research.google.com/assets/colab-badge.svg\" alt=\"Open In Colab\"/></a>"
      ]
    },
    {
      "cell_type": "markdown",
      "metadata": {
        "id": "fU0S97gFWFG6",
        "colab_type": "text"
      },
      "source": [
        "# VAE Tutorial\n",
        "* Reference: https://github.com/Jackson-Kang/Pytorch-VAE-tutorial/blob/master/Variational_AutoEncoder.ipynb\n",
        "* Goal - Implement it and understand it"
      ]
    },
    {
      "cell_type": "code",
      "metadata": {
        "id": "D_HRP2dnWP_E",
        "colab_type": "code",
        "colab": {}
      },
      "source": [
        "# import library\n",
        "import torch\n",
        "import torch.nn as nn\n",
        "\n",
        "import numpy as np\n",
        "\n",
        "from tqdm import tqdm\n",
        "from torchvision.utils import save_image"
      ],
      "execution_count": 1,
      "outputs": []
    },
    {
      "cell_type": "code",
      "metadata": {
        "id": "-YigpjK0WQZD",
        "colab_type": "code",
        "colab": {}
      },
      "source": [
        "# Model Hyperparameters\n",
        "\n",
        "dataset_path = '~/datasets'\n",
        "\n",
        "cuda = True\n",
        "device = torch.device(\"cuda\" if cuda else \"cpu\")\n",
        "\n",
        "batch_size = 50\n",
        "\n",
        "x_dim = 784\n",
        "hidden_dim = 400\n",
        "latent_dim = 20\n",
        "\n",
        "lr = 1e-3\n",
        "epochs = 10"
      ],
      "execution_count": 2,
      "outputs": []
    },
    {
      "cell_type": "markdown",
      "metadata": {
        "id": "PbbQ5aeRW4yE",
        "colab_type": "text"
      },
      "source": [
        "## Step1. Load(or download) Dataset"
      ]
    },
    {
      "cell_type": "code",
      "metadata": {
        "id": "b-uipyjoWQdh",
        "colab_type": "code",
        "colab": {}
      },
      "source": [
        "from torchvision.datasets import MNIST\n",
        "import torchvision.transforms as transforms\n",
        "from torch.utils.data import DataLoader\n",
        "\n",
        "\n",
        "mnist_transform = transforms.Compose([\n",
        "        transforms.ToTensor(),\n",
        "])\n",
        "\n",
        "kwargs = {'num_workers': 1, 'pin_memory': True} \n",
        "\n",
        "train_dataset = MNIST(dataset_path, transform=mnist_transform, train=True, download=True)\n",
        "test_dataset  = MNIST(dataset_path, transform=mnist_transform, train=False, download=True)\n",
        "\n",
        "train_loader = DataLoader(dataset=train_dataset, batch_size=batch_size, shuffle=True, **kwargs)\n",
        "test_loader  = DataLoader(dataset=test_dataset,  batch_size=batch_size, shuffle=True,  **kwargs)"
      ],
      "execution_count": 3,
      "outputs": []
    },
    {
      "cell_type": "markdown",
      "metadata": {
        "id": "-ubK7kwDW_Mi",
        "colab_type": "text"
      },
      "source": [
        "## Step 2. Define our model: Variational AutoEncoder(VAE)"
      ]
    },
    {
      "cell_type": "code",
      "metadata": {
        "id": "Pg-DM0x6WQpP",
        "colab_type": "code",
        "colab": {}
      },
      "source": [
        "'''\n",
        "    A simple implementation of Gaussian MLP Encoder and Decoder\n",
        "\n",
        "'''\n",
        "\n",
        "class Encoder(nn.Module):\n",
        "\n",
        "    def __init__(self, input_dim, hidden_dim, latent_dim):\n",
        "        super(Encoder, self).__init__()\n",
        "\n",
        "        self.FC_input = nn.Linear(input_dim, hidden_dim)\n",
        "        self.FC_mean = nn.Linear(hidden_dim, latent_dim)\n",
        "        self.FC_var = nn.Linear(hidden_dim, latent_dim)\n",
        "        self.training=True\n",
        "\n",
        "    def forward(self, x):\n",
        "        h_ = torch.relu(self.FC_input(x))\n",
        "        mean = self.FC_mean(h_)\n",
        "        log_var = self.FC_var(h_)   # encoder produces mean and log_var\n",
        "                                    # e.g_ parameters of simple tractable normal distribution \"g\"\n",
        "        var = torch.exp(0.5 * log_var)\n",
        "        z = self.reparameterization(mean, var)\n",
        "        \n",
        "        return z, mean, log_var\n",
        "\n",
        "    def reparameterization(self, mean, var,):\n",
        "        epsilon = torch.rand_like(var).to(device)        # sampling epsilon\n",
        "        \n",
        "        z = mean + var*epsilon                          # reparameterization trick\n",
        "        \n",
        "        return z"
      ],
      "execution_count": 4,
      "outputs": []
    },
    {
      "cell_type": "code",
      "metadata": {
        "id": "rZ6iQ2jAWQrn",
        "colab_type": "code",
        "colab": {}
      },
      "source": [
        "class Decoder(nn.Module):\n",
        "    def __init__(self, latent_dim, hidden_dim, output_dim):\n",
        "        super(Decoder, self).__init__()\n",
        "        self.FC_hidden = nn.Linear(latent_dim, hidden_dim)\n",
        "        self.FC_output = nn.Linear(hidden_dim, output_dim)\n",
        "\n",
        "    def forward(self, x):\n",
        "        h = torch.relu(self.FC_hidden(x))\n",
        "        x_hat = torch.sigmoid(self.FC_output(h))\n",
        "        return x_hat"
      ],
      "execution_count": 5,
      "outputs": []
    },
    {
      "cell_type": "code",
      "metadata": {
        "id": "r89muxWbWQt8",
        "colab_type": "code",
        "colab": {}
      },
      "source": [
        "class Model(nn.Module):\n",
        "    def __init__(self, Encoder, Decoder):\n",
        "        super(Model, self).__init__()\n",
        "        self.Encoder = Encoder\n",
        "        self.Decoder = Decoder\n",
        "\n",
        "    def forward(self, x):\n",
        "        z, mean, log_var = self.Encoder(x)\n",
        "        x_hat = self.Decoder(z)\n",
        "        return x_hat, mean, log_var"
      ],
      "execution_count": 6,
      "outputs": []
    },
    {
      "cell_type": "code",
      "metadata": {
        "id": "_BzWsL1dWQv8",
        "colab_type": "code",
        "colab": {}
      },
      "source": [
        "encoder = Encoder(input_dim=x_dim, hidden_dim=hidden_dim, latent_dim=latent_dim)\n",
        "decoder = Decoder(latent_dim=latent_dim, hidden_dim=hidden_dim, output_dim=x_dim)\n",
        "\n",
        "model = Model(Encoder=encoder, Decoder=decoder).to(device)"
      ],
      "execution_count": 7,
      "outputs": []
    },
    {
      "cell_type": "markdown",
      "metadata": {
        "id": "On4-JvFnXLKa",
        "colab_type": "text"
      },
      "source": [
        "## Step 3. Define Loss function (reprod, loss) and optimizer"
      ]
    },
    {
      "cell_type": "code",
      "metadata": {
        "id": "IPzfSoWlXEnQ",
        "colab_type": "code",
        "colab": {}
      },
      "source": [
        "# Define Loss Function and Optimizer\n",
        "\n",
        "from torch.optim import Adam\n",
        "BCE_loss = nn.BCELoss()\n",
        "\n",
        "def loss_function(x, x_hat, mean, log_var):\n",
        "    reproduction_loss = nn.functional.binary_cross_entropy(x_hat, x, reduction='sum')\n",
        "    KLD = -0.5 * torch.sum(1 + log_var - mean.pow(2) - log_var.exp())\n",
        "    return reproduction_loss + KLD\n",
        "\n",
        "optimizer = Adam(model.parameters(), lr = lr)"
      ],
      "execution_count": 8,
      "outputs": []
    },
    {
      "cell_type": "markdown",
      "metadata": {
        "id": "0yq6gDQKXMQJ",
        "colab_type": "text"
      },
      "source": [
        "## Step 4. Train Variational AutoEncoder(VAE)"
      ]
    },
    {
      "cell_type": "code",
      "metadata": {
        "id": "bQeUB75fWRJ2",
        "colab_type": "code",
        "colab": {
          "base_uri": "https://localhost:8080/",
          "height": 235
        },
        "outputId": "4e9654c5-1c99-4dbd-c2fb-3322fd17e219"
      },
      "source": [
        "# train AE\n",
        "print(\"Start training VAE...\")\n",
        "\n",
        "model.train()\n",
        "\n",
        "for epoch in range(epochs):\n",
        "    overall_loss = 0\n",
        "    for batch_idx, (x, _) in enumerate(train_loader):\n",
        "        x = x.view(batch_size, x_dim)\n",
        "        x = x.to(device)\n",
        "\n",
        "        optimizer.zero_grad()\n",
        "\n",
        "        x_hat, mean, log_var = model(x)\n",
        "        loss = loss_function(x, x_hat, mean, log_var)\n",
        "        \n",
        "        overall_loss += loss.item()\n",
        "        \n",
        "        loss.backward()\n",
        "        optimizer.step()\n",
        "        \n",
        "    print(\"\\tEpoch\", epoch + 1, \"complete!\", \"\\tAverage Loss: \", overall_loss / (batch_idx*batch_size))\n",
        "    \n",
        "print(\"Finish!!\")"
      ],
      "execution_count": 9,
      "outputs": [
        {
          "output_type": "stream",
          "text": [
            "Start training VAE...\n",
            "\tEpoch 1 complete! \tAverage Loss:  121.62943894488897\n",
            "\tEpoch 2 complete! \tAverage Loss:  95.72572591417327\n",
            "\tEpoch 3 complete! \tAverage Loss:  91.67418906217421\n",
            "\tEpoch 4 complete! \tAverage Loss:  89.61244577593959\n",
            "\tEpoch 5 complete! \tAverage Loss:  88.44055191663625\n",
            "\tEpoch 6 complete! \tAverage Loss:  87.64513599386207\n",
            "\tEpoch 7 complete! \tAverage Loss:  87.11755085618223\n",
            "\tEpoch 8 complete! \tAverage Loss:  86.64103728611734\n",
            "\tEpoch 9 complete! \tAverage Loss:  86.28590124745882\n",
            "\tEpoch 10 complete! \tAverage Loss:  85.99348519599667\n",
            "Finish!!\n"
          ],
          "name": "stdout"
        }
      ]
    },
    {
      "cell_type": "markdown",
      "metadata": {
        "id": "J0etHKHHXQxB",
        "colab_type": "text"
      },
      "source": [
        "## Step 5. Evaluate the model"
      ]
    },
    {
      "cell_type": "code",
      "metadata": {
        "id": "Kg5vNnRuXSiR",
        "colab_type": "code",
        "colab": {}
      },
      "source": [
        "import matplotlib.pyplot as plt"
      ],
      "execution_count": 14,
      "outputs": []
    },
    {
      "cell_type": "code",
      "metadata": {
        "id": "5R3D-EzqXTtx",
        "colab_type": "code",
        "colab": {
          "base_uri": "https://localhost:8080/",
          "height": 35
        },
        "outputId": "76044a1e-d9ba-4842-a226-7fce1a945e8a"
      },
      "source": [
        "model.eval()\n",
        "\n",
        "with torch.no_grad():\n",
        "    for batch_idx, (x, _) in enumerate(tqdm(test_loader)):\n",
        "        x = x.view(batch_size, x_dim)\n",
        "        x = x.to(device)\n",
        "\n",
        "        x_hat, _, _ = model(x)\n",
        "\n",
        "        break"
      ],
      "execution_count": 11,
      "outputs": [
        {
          "output_type": "stream",
          "text": [
            "  0%|          | 0/200 [00:00<?, ?it/s]\n"
          ],
          "name": "stderr"
        }
      ]
    },
    {
      "cell_type": "code",
      "metadata": {
        "id": "P7CCx2xCXTwJ",
        "colab_type": "code",
        "colab": {}
      },
      "source": [
        "def show_image(x, idx):\n",
        "    x = x.view(batch_size, 28, 28)\n",
        "\n",
        "    fig = plt.figure()\n",
        "    plt.imshow(x[idx].cpu().numpy())"
      ],
      "execution_count": 21,
      "outputs": []
    },
    {
      "cell_type": "code",
      "metadata": {
        "id": "cDbGMgXGXTyv",
        "colab_type": "code",
        "colab": {
          "base_uri": "https://localhost:8080/",
          "height": 265
        },
        "outputId": "9d5843f2-3876-41e6-9b68-6092d586732c"
      },
      "source": [
        "show_image(x, idx=2)"
      ],
      "execution_count": 22,
      "outputs": [
        {
          "output_type": "display_data",
          "data": {
            "image/png": "[encoded data removed]",
            "text/plain": [
              "<Figure size 432x288 with 1 Axes>"
            ]
          },
          "metadata": {
            "tags": [],
            "needs_background": "light"
          }
        }
      ]
    },
    {
      "cell_type": "code",
      "metadata": {
        "id": "uK5z5gA5XT02",
        "colab_type": "code",
        "colab": {
          "base_uri": "https://localhost:8080/",
          "height": 265
        },
        "outputId": "efe90ae5-2d79-44ab-b41e-e2d6b7952b08"
      },
      "source": [
        "show_image(x_hat, idx=2)"
      ],
      "execution_count": 23,
      "outputs": [
        {
          "output_type": "display_data",
          "data": {
            "image/png": "[encoded data removed]",
            "text/plain": [
              "<Figure size 432x288 with 1 Axes>"
            ]
          },
          "metadata": {
            "tags": [],
            "needs_background": "light"
          }
        }
      ]
    },
    {
      "cell_type": "markdown",
      "metadata": {
        "id": "bzDBuE1PXUfa",
        "colab_type": "text"
      },
      "source": [
        "## Step 6. Generate image from noise vector"
      ]
    },
    {
      "cell_type": "code",
      "metadata": {
        "id": "kqtnBt8fXYVV",
        "colab_type": "code",
        "colab": {}
      },
      "source": [
        "with torch.no_grad():\n",
        "    noise = torch.randn(batch_size, latent_dim).to(device)\n",
        "    generated_images = decoder(noise)\n"
      ],
      "execution_count": 24,
      "outputs": []
    },
    {
      "cell_type": "code",
      "metadata": {
        "id": "q129DYe0iO2V",
        "colab_type": "code",
        "colab": {}
      },
      "source": [
        "save_image(generated_images.view(batch_size, 1, 28, 28), 'generated_sample.png')"
      ],
      "execution_count": 25,
      "outputs": []
    },
    {
      "cell_type": "code",
      "metadata": {
        "id": "KIQrAxHdiVxC",
        "colab_type": "code",
        "colab": {
          "base_uri": "https://localhost:8080/",
          "height": 265
        },
        "outputId": "3b9a02c6-669d-4758-ddff-3d807dbe8f8b"
      },
      "source": [
        "show_image(generated_images, idx=1)"
      ],
      "execution_count": 27,
      "outputs": [
        {
          "output_type": "display_data",
          "data": {
            "image/png": "[encoded data removed]",
            "text/plain": [
              "<Figure size 432x288 with 1 Axes>"
            ]
          },
          "metadata": {
            "tags": [],
            "needs_background": "light"
          }
        }
      ]
    },
    {
      "cell_type": "code",
      "metadata": {
        "id": "eRbRu9lxiY35",
        "colab_type": "code",
        "colab": {
          "base_uri": "https://localhost:8080/",
          "height": 265
        },
        "outputId": "13482e8e-eccf-4834-cb6c-d5c57f7adc11"
      },
      "source": [
        "show_image(generated_images, idx=2)"
      ],
      "execution_count": 28,
      "outputs": [
        {
          "output_type": "display_data",
          "data": {
            "image/png": "[encoded data removed]",
            "text/plain": [
              "<Figure size 432x288 with 1 Axes>"
            ]
          },
          "metadata": {
            "tags": [],
            "needs_background": "light"
          }
        }
      ]
    },
    {
      "cell_type": "code",
      "metadata": {
        "id": "426Qi8gvicwV",
        "colab_type": "code",
        "colab": {}
      },
      "source": [
        ""
      ],
      "execution_count": null,
      "outputs": []
    }
  ]
}