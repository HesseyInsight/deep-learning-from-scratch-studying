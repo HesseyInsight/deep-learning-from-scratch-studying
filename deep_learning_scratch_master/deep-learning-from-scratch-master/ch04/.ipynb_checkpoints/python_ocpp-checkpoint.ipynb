{
 "cells": [
  {
   "cell_type": "code",
   "execution_count": 1,
   "metadata": {},
   "outputs": [
    {
     "name": "stdout",
     "output_type": "stream",
     "text": [
      "Requirement already satisfied: ocpp in c:\\users\\stevelee\\anaconda3\\lib\\site-packages (0.5.1)\n",
      "Requirement already satisfied: jsonschema<4.0,>=3.0 in c:\\users\\stevelee\\anaconda3\\lib\\site-packages (from ocpp) (3.0.2)\n",
      "Requirement already satisfied: setuptools in c:\\users\\stevelee\\anaconda3\\lib\\site-packages (from jsonschema<4.0,>=3.0->ocpp) (41.4.0)\n",
      "Requirement already satisfied: attrs>=17.4.0 in c:\\users\\stevelee\\anaconda3\\lib\\site-packages (from jsonschema<4.0,>=3.0->ocpp) (19.2.0)\n",
      "Requirement already satisfied: pyrsistent>=0.14.0 in c:\\users\\stevelee\\anaconda3\\lib\\site-packages (from jsonschema<4.0,>=3.0->ocpp) (0.15.4)\n",
      "Requirement already satisfied: six>=1.11.0 in c:\\users\\stevelee\\anaconda3\\lib\\site-packages (from jsonschema<4.0,>=3.0->ocpp) (1.12.0)\n",
      "Note: you may need to restart the kernel to use updated packages.\n"
     ]
    }
   ],
   "source": [
    "pip install ocpp"
   ]
  },
  {
   "cell_type": "markdown",
   "metadata": {},
   "source": [
    "* 1. ocpp 1.6과 2.0의 차이"
   ]
  },
  {
   "cell_type": "markdown",
   "metadata": {},
   "source": [
    "* 2. OCPP 2.0 구현 여부 확인하기"
   ]
  },
  {
   "cell_type": "markdown",
   "metadata": {},
   "source": [
    "* 3. OCPP 모듈 동작을 위해 필요한 데이터\n",
    "    * OCPP 모듈 동작을 위해 필요한 데이터를 찾으면 회사에 필요 데이터 요구 가능"
   ]
  },
  {
   "cell_type": "markdown",
   "metadata": {},
   "source": [
    "# ocpp 0.5.1\n",
    "* pip install ocpp\n",
    "    * Python package implementing the JSON version of the Open Charge Point Protocol(OCPP)"
   ]
  },
  {
   "cell_type": "markdown",
   "metadata": {},
   "source": [
    "### OCPP\n",
    "* Python package implementing the JSON version of the Open Charge Point Protocol(OCPP) \n",
    "* Current OCPP 1.6 (errata v4) and OCPP 2.0 are supported."
   ]
  },
  {
   "cell_type": "markdown",
   "metadata": {},
   "source": [
    "### Quick start \n",
    "* Below you can find examples on how to create a simple OCPP 2.0 central system as well as an OCPP 2.0 charge point.\n",
    "* To run these examples the dependency websockets is required! Install it by runiiing:"
   ]
  },
  {
   "cell_type": "code",
   "execution_count": 2,
   "metadata": {},
   "outputs": [
    {
     "name": "stdout",
     "output_type": "stream",
     "text": [
      "Collecting websockets\n",
      "  Downloading https://files.pythonhosted.org/packages/56/01/1f61610f1eb7f9a8e8fdc607a89dd2fae778e6e43290d7e153ebe724adb5/websockets-8.1-cp37-cp37m-win_amd64.whl (66kB)\n",
      "Installing collected packages: websockets\n",
      "Successfully installed websockets-8.1\n",
      "Note: you may need to restart the kernel to use updated packages.\n"
     ]
    }
   ],
   "source": [
    "pip install websockets"
   ]
  },
  {
   "cell_type": "markdown",
   "metadata": {},
   "source": [
    "### Central system"
   ]
  },
  {
   "cell_type": "markdown",
   "metadata": {},
   "source": [
    "* The code snippet below creates a simple OCPP 2.0 central system which is able to handle BootNotification calls. You can find a detailed explanation of the code in the Central System documentation."
   ]
  },
  {
   "cell_type": "code",
   "execution_count": null,
   "metadata": {},
   "outputs": [],
   "source": [
    "import "
   ]
  },
  {
   "cell_type": "code",
   "execution_count": null,
   "metadata": {},
   "outputs": [],
   "source": []
  }
 ],
 "metadata": {
  "kernelspec": {
   "display_name": "Python 3",
   "language": "python",
   "name": "python3"
  },
  "language_info": {
   "name": ""
  }
 },
 "nbformat": 4,
 "nbformat_minor": 4
}
